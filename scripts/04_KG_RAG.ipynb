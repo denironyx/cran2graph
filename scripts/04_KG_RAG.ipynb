{
 "cells": [
  {
   "cell_type": "code",
   "execution_count": 1,
   "metadata": {},
   "outputs": [],
   "source": [
    "import json \n",
    "import os\n",
    "from langchain.chat_models import ChatOpenAI\n",
    "from langchain.chains import GraphCypherQAChain\n",
    "from langchain.graphs import Neo4jGraph\n",
    "\n",
    "## Loading openai key\n",
    "with open('../environ.json') as f:\n",
    "    config = json.load(f)\n",
    "    api_keys = list(config.values())[0]\n",
    "\n",
    "# assign openai key to an environment variable\n",
    "os.environ[\"OPENAI_API_KEY\"] = api_keys\n",
    "\n",
    "# # check to confirm"
   ]
  },
  {
   "cell_type": "code",
   "execution_count": 2,
   "metadata": {},
   "outputs": [],
   "source": [
    "# Define Neo4j connections\n",
    "from neo4j import GraphDatabase\n",
    "host = 'bolt://127.0.0.1:7687'\n",
    "user = 'admin'\n",
    "password = 'cran2graph'\n",
    "driver = GraphDatabase.driver(host,auth=(user, password))\n",
    "\n",
    "def run_query(query, params={}):\n",
    "    with driver.session(database=\"cran\") as session:\n",
    "        result = session.run(query, params)\n",
    "        return result.to_df()"
   ]
  },
  {
   "cell_type": "code",
   "execution_count": 3,
   "metadata": {},
   "outputs": [],
   "source": [
    "# establish connection to neo4j graph database\n",
    "graph = Neo4jGraph(\n",
    "    url=\"bolt://127.0.0.1:7687\", username=\"admin\", password=\"cran2graph\", database=\"neo4j\"\n",
    ")"
   ]
  },
  {
   "cell_type": "code",
   "execution_count": 4,
   "metadata": {},
   "outputs": [
    {
     "name": "stdout",
     "output_type": "stream",
     "text": [
      "\n",
      "        Node properties are the following:\n",
      "        [{'labels': 'Person', 'properties': [{'property': 'name', 'type': 'STRING'}]}, {'labels': 'Package', 'properties': [{'property': 'latestPublishedDate', 'type': 'STRING'}, {'property': 'name', 'type': 'STRING'}, {'property': 'md5sum', 'type': 'STRING'}, {'property': 'description', 'type': 'STRING'}, {'property': 'license', 'type': 'STRING'}, {'property': 'version', 'type': 'STRING'}]}, {'labels': 'Organization', 'properties': [{'property': 'name', 'type': 'STRING'}]}, {'labels': 'License', 'properties': [{'property': 'type', 'type': 'STRING'}]}, {'labels': 'Institution', 'properties': [{'property': 'type', 'type': 'STRING'}]}]\n",
      "        Relationship properties are the following:\n",
      "        []\n",
      "        The relationships are the following:\n",
      "        ['(:Person)-[:CONTRIBUTED_TO]->(:Package)', '(:Person)-[:WORKS_AT]->(:Institution)', '(:Person)-[:MAINTAINS]->(:Package)', '(:Package)-[:DEPENDS_ON]->(:Package)', '(:Package)-[:LICENSE_BY]->(:License)', '(:Package)-[:SUPPORTED_BY]->(:Organization)']\n",
      "        \n"
     ]
    }
   ],
   "source": [
    "# check the graph schema\n",
    "print(graph.schema)"
   ]
  },
  {
   "cell_type": "code",
   "execution_count": 5,
   "metadata": {},
   "outputs": [],
   "source": [
    "query = \"\"\"\n",
    "\n",
    "MATCH (p:Package)\n",
    "MATCH (p)-[r:CONTRIBUTED_TO|MAINTAINS]-(n:Person)\n",
    "WITH p, type(r) as type, collect(n.name) as names\n",
    "WITH p, type+\": \"+reduce(s=\"\", n IN names | s + n + \", \") as types\n",
    "WITH p, collect(types) as contexts\n",
    "WITH p, \"Package Name: \"+ p.name + \" Last Published Date: \"+p.latestPublishedDate +\" Description: \"+ p.description +\"\\n\" +\n",
    "        reduce(s=\"\", c in contexts | s + substring(c, 0, size(c)-2) +\"\\n\") as context\n",
    "RETURN context Limit 1\n",
    "\n",
    "\"\"\""
   ]
  },
  {
   "cell_type": "code",
   "execution_count": 6,
   "metadata": {},
   "outputs": [],
   "source": [
    "run_query(\"\"\"\n",
    "CALL apoc.periodic.iterate(\n",
    "    'MATCH (p:Package) RETURN id(p) as id',\n",
    "    'MATCH (p:Package)\n",
    "    WHERE id(p) = id\n",
    "    MATCH (p)-[r:CONTRIBUTED_TO|MAINTAINS]-(n:Person)\n",
    "    WITH p, type(r) as type, collect(n.name) as names\n",
    "    WITH p, type+\": \"+reduce(s=\"\", n IN names | s + n + \", \") as types\n",
    "    WITH p, collect(types) as contexts\n",
    "    WITH p, \"Package Name: \"+ p.name + \" Last Published Date: \"+p.latestPublishedDate +\" Description: \"+ p.description +\"\\n\" +\n",
    "            reduce(s=\"\", c in contexts | s + substring(c, 0, size(c)-2) +\"\\n\") as context\n",
    "    CALL apoc.ml.openai.embedding([context], $apiKey) YIELD embedding\n",
    "    SET p.embedding = embedding',\n",
    "    {batchSize:1, retries:3, params: {apiKey: $apiKey}})\n",
    "\"\"\", {'apiKey': api_keys})['errorMessages'][0]\n",
    "        \n",
    "        "
   ]
  },
  {
   "cell_type": "code",
   "execution_count": 4,
   "metadata": {},
   "outputs": [],
   "source": [
    "system_prompt = \"\"\"\n",
    "You are an assistant that helps to generate text to form nice and human understandable answers based.\n",
    "The latest prompt contains the information, and you need to generate a human readable response based on the given information.\n",
    "Make the answer sound as a response to the question. Do not mention that you based the result on the given information.\n",
    "Do not add any additional information that is not explicitly provided in the latest prompt.\n",
    "I repeat, do not add any information that is not explicitly given.\n",
    "\"\"\""
   ]
  },
  {
   "cell_type": "code",
   "execution_count": 39,
   "metadata": {},
   "outputs": [],
   "source": [
    "def generate_user_prompt(question, context):\n",
    "    return f\"\"\"\n",
    "    The question is {question}\n",
    "    Answer the question by using the provided information:\n",
    "    {context}\n",
    "    \"\"\""
   ]
  },
  {
   "cell_type": "code",
   "execution_count": 40,
   "metadata": {},
   "outputs": [],
   "source": [
    "def retrieve_context(question, k=3):\n",
    "    data = run_query(\"\"\"\n",
    "        // retrieve the embedding of the question\n",
    "        CALL apoc.ml.openai.embedding([$question], $apiKey) YIELD embedding \n",
    "        // match relevant packages\n",
    "        MATCH (p:Package)\n",
    "        WITH p, gds.similarity.cosine(embedding, p.embedding) AS score\n",
    "        ORDER BY score DESC\n",
    "        // LIMIT the number of relevant description\n",
    "        LIMIT toInteger($k)\n",
    "        // retrieve graph context \n",
    "        MATCH (p)--()--(p1:Package)\n",
    "        WITH p, p1, count(*) AS count\n",
    "        ORDER BY count DESC\n",
    "        WITH p, apoc.text.join(collect(p1.package)[..3], \", \") as similarPackage\n",
    "        MATCH (p)-[r:CONTRIBUTED_TO|MAINTAINS]-(n:Person)\n",
    "        WITH p, similarPackage, type(r) as type, collect(n.person) as names\n",
    "        WITH p, similarPackage, type+\": \"+reduce(s=\"\", n IN names | s + n + \", \") as types\n",
    "        WITH p, similarPackage, collect(types) as contexts\n",
    "        WITH p, similarPackage, \"Package Name: \"+ p.package + \" year: \"+p.published +\" Description: \"+ p.description +\"\\n\" +\n",
    "                reduce(s=\"\", c in contexts | s + substring(c, 0, size(c)-2) +\"\\n\")  + \"similar packages:\" + similarPackage + \"\\n\" as context\n",
    "        RETURN context  \n",
    "    \"\"\", {'question': question, 'k': k, 'apiKey': api_keys})\n",
    "    return data['context'].to_list()"
   ]
  },
  {
   "cell_type": "code",
   "execution_count": 41,
   "metadata": {},
   "outputs": [],
   "source": [
    "def generate_answer(question):\n",
    "    # Retrieve context\n",
    "    context = retrieve_context(question)\n",
    "    # Print context\n",
    "    for c in context:\n",
    "        print(c)\n",
    "    # Generate answer\n",
    "    response = run_query(\n",
    "        \"\"\"\n",
    "  CALL apoc.ml.openai.chat([{role:'system', content: $system},\n",
    "                      {role: 'user', content: $user}], $apiKey) YIELD value\n",
    "  RETURN value.choices[0].message.content AS answer\n",
    "  \"\"\",\n",
    "        {\n",
    "            \"system\": system_prompt,\n",
    "            \"user\": generate_user_prompt(question, context),\n",
    "            \"apiKey\": api_keys,\n",
    "        },\n",
    "    )\n",
    "    return response[\"answer\"][0]"
   ]
  },
  {
   "cell_type": "code",
   "execution_count": 42,
   "metadata": {},
   "outputs": [
    {
     "name": "stdout",
     "output_type": "stream",
     "text": [
      "Package Name: dplyr year: 2023-09-03 Description: A fast, consistent tool for working with data frame like\n",
      "    objects, both in memory and out of memory.\n",
      "CONTRIBUTED_TO: Hadley Wickham, fnd], Posit Software, Davis Vaughan, Kirill Müller, PBC [cph, Lionel Henry, Romain François\n",
      "similar packages:googledrive, rsample, recipes\n",
      "\n",
      "Package Name: dtplyr year: 2023-03-22 Description: Provides a data.table backend for dplyr. The goal of\n",
      "    dtplyr is to allow you to write dplyr code that is automatically\n",
      "    translated to the equivalent, but usually much faster, data.table\n",
      "    code.\n",
      "CONTRIBUTED_TO: Hadley Wickham, Mark Fairbanks, Ryan Dickerson, fnd], Posit Software, PBC [cph, Maximilian Girlich\n",
      "similar packages:recipes, tidyr, tune\n",
      "\n",
      "Package Name: dtrackr year: 2023-09-04 Description: Track and\n",
      "    document dplyr data pipelines. As you filter, mutate, and join your\n",
      "    way through a data set, dtrackr seamlessly keeps track of your data\n",
      "    flow and makes publication ready documentation of a data pipeline simple.\n",
      "CONTRIBUTED_TO: Robert Challen\n",
      "similar packages:frenchdata, academictwitteR, polished\n",
      "\n"
     ]
    },
    {
     "data": {
      "text/plain": [
       "'The dplyr package is maintained by Hadley Wickham, fnd], Posit Software, Davis Vaughan, Kirill Müller, PBC [cph, Lionel Henry, and Romain François. These individuals and organizations contribute to the development and maintenance of the package.'"
      ]
     },
     "execution_count": 42,
     "metadata": {},
     "output_type": "execute_result"
    }
   ],
   "source": [
    "generate_answer(\"Who maintains dplyr package?\")"
   ]
  }
 ],
 "metadata": {
  "kernelspec": {
   "display_name": "venv",
   "language": "python",
   "name": "python3"
  },
  "language_info": {
   "codemirror_mode": {
    "name": "ipython",
    "version": 3
   },
   "file_extension": ".py",
   "mimetype": "text/x-python",
   "name": "python",
   "nbconvert_exporter": "python",
   "pygments_lexer": "ipython3",
   "version": "3.11.4"
  }
 },
 "nbformat": 4,
 "nbformat_minor": 2
}
