{
 "cells": [
  {
   "cell_type": "code",
   "execution_count": 1,
   "metadata": {},
   "outputs": [],
   "source": [
    "import json \n",
    "import os\n",
    "from langchain.chat_models import ChatOpenAI\n",
    "from langchain.chains import GraphCypherQAChain\n",
    "from langchain.graphs import Neo4jGraph\n",
    "\n",
    "## Loading openai key\n",
    "with open('../environ.json') as f:\n",
    "    config = json.load(f)\n",
    "    api_keys = list(config.values())[0]\n",
    "\n",
    "# assign openai key to an environment variable\n",
    "os.environ[\"OPENAI_API_KEY\"] = api_keys\n",
    "\n",
    "# # check to confirm\n",
    "# os.getenv(\"OPENAI_API_KEY\")\n"
   ]
  },
  {
   "cell_type": "code",
   "execution_count": 3,
   "metadata": {},
   "outputs": [
    {
     "name": "stdout",
     "output_type": "stream",
     "text": [
      "Node properties are the following:\n",
      "Person {name: STRING},Package {latestPublishedDate: STRING, name: STRING, md5sum: STRING, description: STRING, license: STRING, version: STRING},Organization {name: STRING},License {type: STRING},Institution {type: STRING}\n",
      "Relationship properties are the following:\n",
      "\n",
      "The relationships are the following:\n",
      "(:Person)-[:WORKS_AT]->(:Institution),(:Person)-[:CONTRIBUTED_TO]->(:Package),(:Person)-[:MAINTAINS]->(:Package),(:Package)-[:DEPENDS_ON]->(:Package),(:Package)-[:LICENSE_BY]->(:License),(:Package)-[:SUPPORTED_BY]->(:Organization)\n"
     ]
    }
   ],
   "source": [
    "# establish connection to neo4j graph database\n",
    "graph = Neo4jGraph(\n",
    "    url=\"bolt://localhost:7689\", \n",
    "    username=\"admin\", \n",
    "    password=\"cran2graph\", \n",
    "    database=\"neo4j\"\n",
    ")\n",
    "print(graph.schema)"
   ]
  },
  {
   "cell_type": "code",
   "execution_count": 4,
   "metadata": {},
   "outputs": [
    {
     "name": "stdout",
     "output_type": "stream",
     "text": [
      "Node properties are the following:\n",
      "Person {name: STRING},Package {latestPublishedDate: STRING, name: STRING, md5sum: STRING, description: STRING, license: STRING, version: STRING},Organization {name: STRING},License {type: STRING},Institution {type: STRING}\n",
      "Relationship properties are the following:\n",
      "\n",
      "The relationships are the following:\n",
      "(:Person)-[:WORKS_AT]->(:Institution),(:Person)-[:CONTRIBUTED_TO]->(:Package),(:Person)-[:MAINTAINS]->(:Package),(:Package)-[:DEPENDS_ON]->(:Package),(:Package)-[:LICENSE_BY]->(:License),(:Package)-[:SUPPORTED_BY]->(:Organization)\n"
     ]
    }
   ],
   "source": [
    "# check the graph schema\n",
    "print(graph.schema)"
   ]
  },
  {
   "cell_type": "code",
   "execution_count": 5,
   "metadata": {},
   "outputs": [
    {
     "name": "stderr",
     "output_type": "stream",
     "text": [
      "c:\\Users\\Dee\\root\\Projects\\dev\\devGraph\\venv\\Lib\\site-packages\\langchain_core\\_api\\deprecation.py:117: LangChainDeprecationWarning: The class `langchain_community.chat_models.openai.ChatOpenAI` was deprecated in langchain-community 0.0.10 and will be removed in 0.2.0. An updated version of the class exists in the langchain-openai package and should be used instead. To use it run `pip install -U langchain-openai` and import as `from langchain_openai import ChatOpenAI`.\n",
      "  warn_deprecated(\n"
     ]
    }
   ],
   "source": [
    "# chain rule\n",
    "chain = GraphCypherQAChain.from_llm(\n",
    "    ChatOpenAI(temperature=0), graph=graph, verbose=True\n",
    ")"
   ]
  },
  {
   "cell_type": "code",
   "execution_count": 6,
   "metadata": {},
   "outputs": [
    {
     "name": "stderr",
     "output_type": "stream",
     "text": [
      "c:\\Users\\Dee\\root\\Projects\\dev\\devGraph\\venv\\Lib\\site-packages\\langchain_core\\_api\\deprecation.py:117: LangChainDeprecationWarning: The function `run` was deprecated in LangChain 0.1.0 and will be removed in 0.2.0. Use invoke instead.\n",
      "  warn_deprecated(\n"
     ]
    },
    {
     "name": "stdout",
     "output_type": "stream",
     "text": [
      "\n",
      "\n",
      "\u001b[1m> Entering new GraphCypherQAChain chain...\u001b[0m\n",
      "Generated Cypher:\n",
      "\u001b[32;1m\u001b[1;3mMATCH (p:Person {name: 'Kirill Müller'})-[:CONTRIBUTED_TO]->(pkg:Package)\n",
      "RETURN pkg;\u001b[0m\n",
      "Full Context:\n",
      "\u001b[32;1m\u001b[1;3m[{'pkg': {'license': 'GPL-2', 'latestPublishedDate': '2021-12-06', 'md5sum': 'b373f83a971b68402825e699fce7cb4d', 'name': 'sessioninfo', 'description': 'Query and print information about the current R\\n    session.  It is similar to utils::sessionInfo(), but includes more\\n    information about packages, and where they were installed from.', 'version': '1.2.2'}}, {'pkg': {'license': 'MIT + file LICENSE', 'latestPublishedDate': '2023-03-20', 'md5sum': 'e4ccfbe28c84b11f86388379c8b43925', 'name': 'tibble', 'description': 'Provides a tbl_df class (the tibble) with stricter checking and better formatting than the traditional\\n    data frame.', 'version': '3.2.1'}}, {'pkg': {'license': 'MIT + file LICENSE', 'latestPublishedDate': '2018-03-13', 'md5sum': 'cfa02c563196a79bf8bb4db2e66585fd', 'name': 'bindr', 'description': 'Provides a simple interface for creating active bindings where the\\n    bound function accepts additional arguments.', 'version': '0.1.1'}}, {'pkg': {'license': 'MIT + file LICENSE', 'latestPublishedDate': '2023-10-30', 'md5sum': '7a391ba52581b520002a054a890ab08c', 'name': 'withr', 'description': 'A set of functions to run code with safely and\\n    temporarily modified global state. Many of these functions were\\n    originally a part of the devtools package, this provides a simple\\n    package with limited dependencies to provide access to these\\n    functions.', 'version': '2.5.2'}}, {'pkg': {'license': 'GPL-3', 'latestPublishedDate': '2022-12-23', 'md5sum': '3f8a61ba5a88a3e51ec813d18e5fa814', 'name': 'skimr', 'description': 'A simple to use summary function that can be used with pipes\\n    and displays nicely in the console. The default summary statistics may\\n    be modified by the user as can the default formatting.  Support for\\n    data frames and vectors is included, and users can implement their own\\n    skim methods for specific object types as described in a vignette.\\n    Default summaries include support for inline spark graphs.\\n    Instructions for managing these on specific operating systems are\\n    given in the Using skimr vignette and the README.', 'version': '2.1.5'}}, {'pkg': {'license': 'MIT + file LICENSE', 'latestPublishedDate': '2022-10-19', 'md5sum': '8d209683bed6171728625378e9740692', 'name': 'traudem', 'description': 'Simple trustworthy utility functions to use TauDEM \\n    (Terrain Analysis Using Digital Elevation Models <https://hydrology.usu.edu/taudem/taudem5/>) command-line interface.\\n    This package provides a guide to installation of TauDEM and its dependencies GDAL (Geopatial Data Abstraction Library) \\n    and MPI (Message Passing Interface) for different operating systems.\\n    Moreover, it checks that TauDEM and its dependencies are correctly installed and included to the PATH, \\n    and it provides wrapper commands for calling TauDEM methods from R.', 'version': '1.0.1'}}, {'pkg': {'license': 'MIT + file LICENSE', 'latestPublishedDate': '2023-08-29', 'md5sum': '16b84cbb730f29650a8a6f930effc726', 'name': 'styler', 'description': 'Pretty-prints R code without changing the users formatting\\n    intent.', 'version': '1.10.2'}}, {'pkg': {'license': 'MIT + file LICENSE', 'latestPublishedDate': '2023-10-06', 'md5sum': '9675ddf805c4166e42173d2b773b8a38', 'name': 'chk', 'description': 'For developers to check user-supplied function arguments.  It\\n    is designed to be simple, fast and customizable.  Error messages\\n    follow the tidyverse style guide.', 'version': '0.9.1'}}, {'pkg': {'license': 'MIT + file LICENSE', 'latestPublishedDate': '2023-03-17', 'md5sum': '3133f827ee7c1e4ca99c16659984627e', 'name': 'blob', 'description': 'Rs raw vector is useful for storing a single binary object.\\n    What if you want to put a vector of them in a data frame? The blob\\n    package provides the blob object, a list of raw vectors, suitable for\\n    use as a column in data frame.', 'version': '1.2.4'}}, {'pkg': {'license': 'GPL-3', 'latestPublishedDate': '2019-06-17', 'md5sum': '36a03ba61171d21f9170e30a7b102e71', 'name': 'roxygen2md', 'description': 'Converts elements of roxygen documentation to\\n    markdown.', 'version': '1.0.0'}}]\u001b[0m\n",
      "\n",
      "\u001b[1m> Finished chain.\u001b[0m\n"
     ]
    },
    {
     "data": {
      "text/plain": [
       "\"I don't know the answer.\""
      ]
     },
     "execution_count": 6,
     "metadata": {},
     "output_type": "execute_result"
    }
   ],
   "source": [
    "chain.run(\"list all packages Kirill Müller contributed to\")"
   ]
  },
  {
   "cell_type": "code",
   "execution_count": null,
   "metadata": {},
   "outputs": [],
   "source": []
  },
  {
   "cell_type": "code",
   "execution_count": 7,
   "metadata": {},
   "outputs": [
    {
     "name": "stdout",
     "output_type": "stream",
     "text": [
      "\n",
      "\n",
      "\u001b[1m> Entering new GraphCypherQAChain chain...\u001b[0m\n",
      "Generated Cypher:\n",
      "\u001b[32;1m\u001b[1;3mMATCH (:Person {name: 'Kirill Müller'})-[:MAINTAINS]->(p:Package)\n",
      "RETURN COUNT(p)\u001b[0m\n",
      "Full Context:\n",
      "\u001b[32;1m\u001b[1;3m[{'COUNT(p)': 28}]\u001b[0m\n",
      "\n",
      "\u001b[1m> Finished chain.\u001b[0m\n"
     ]
    },
    {
     "data": {
      "text/plain": [
       "'Kirill Müller maintains 28 packages.'"
      ]
     },
     "execution_count": 7,
     "metadata": {},
     "output_type": "execute_result"
    }
   ],
   "source": [
    "chain.run(\"How many packages is maintained by Kirill Müller?\")"
   ]
  },
  {
   "cell_type": "code",
   "execution_count": 9,
   "metadata": {},
   "outputs": [
    {
     "name": "stdout",
     "output_type": "stream",
     "text": [
      "\n",
      "\n",
      "\u001b[1m> Entering new GraphCypherQAChain chain...\u001b[0m\n",
      "Generated Cypher:\n",
      "\u001b[32;1m\u001b[1;3mMATCH (p:Person {name: 'Jing Zhang'})-[:MAINTAINS]->(pkg:Package)\n",
      "RETURN COUNT(pkg) AS packageCount, pkg.name AS packageName, pkg.latestPublishedDate AS publishedDate\u001b[0m\n",
      "Full Context:\n",
      "\u001b[32;1m\u001b[1;3m[{'packageCount': 1, 'packageName': 'ggrisk', 'publishedDate': '2021-08-09'}, {'packageCount': 1, 'packageName': 'do', 'publishedDate': '2021-08-03'}, {'packageCount': 1, 'packageName': 'msig', 'publishedDate': '2021-06-29'}, {'packageCount': 1, 'packageName': 'base.rms', 'publishedDate': '2020-08-01'}, {'packageCount': 1, 'packageName': 'cutoff', 'publishedDate': '2019-12-20'}, {'packageCount': 1, 'packageName': 'nomogramFormula', 'publishedDate': '2020-01-28'}]\u001b[0m\n",
      "\n",
      "\u001b[1m> Finished chain.\u001b[0m\n"
     ]
    },
    {
     "data": {
      "text/plain": [
       "\"Jing Zhang maintains a total of 6 packages. The names of the packages are 'ggrisk', 'do', 'msig', 'base.rms', 'cutoff', and 'nomogramFormula'. Here are the published dates for each package: 'ggrisk' was published on August 9, 2021, 'do' was published on August 3, 2021, 'msig' was published on June 29, 2021, 'base.rms' was published on August 1, 2020, 'cutoff' was published on December 20, 2019, and 'nomogramFormula' was published on January 28, 2020.\""
      ]
     },
     "execution_count": 9,
     "metadata": {},
     "output_type": "execute_result"
    }
   ],
   "source": [
    "chain.run(\"how many packages does Jing Zhang maintains and the names and when it was published?\")"
   ]
  },
  {
   "cell_type": "code",
   "execution_count": 11,
   "metadata": {},
   "outputs": [
    {
     "name": "stdout",
     "output_type": "stream",
     "text": [
      "\n",
      "\n",
      "\u001b[1m> Entering new GraphCypherQAChain chain...\u001b[0m\n",
      "Generated Cypher:\n",
      "\u001b[32;1m\u001b[1;3mMATCH (:Person {name: 'Dennis Irorere'})-[:CONTRIBUTED_TO]->(p:Package)\n",
      "RETURN p.name\u001b[0m\n",
      "Full Context:\n",
      "\u001b[32;1m\u001b[1;3m[{'p.name': 'anyflights'}]\u001b[0m\n",
      "\n",
      "\u001b[1m> Finished chain.\u001b[0m\n"
     ]
    },
    {
     "data": {
      "text/plain": [
       "'Dennis Irorere contributed to the package named \"anyflights.\"'"
      ]
     },
     "execution_count": 11,
     "metadata": {},
     "output_type": "execute_result"
    }
   ],
   "source": [
    "chain.run(\"Name of package Dennis Irorere contributed to\")"
   ]
  },
  {
   "cell_type": "code",
   "execution_count": 14,
   "metadata": {},
   "outputs": [
    {
     "name": "stdout",
     "output_type": "stream",
     "text": [
      "\n",
      "\n",
      "\u001b[1m> Entering new GraphCypherQAChain chain...\u001b[0m\n",
      "Generated Cypher:\n",
      "\u001b[32;1m\u001b[1;3mMATCH (p:Person {name: 'Kirill Müller'})-[:CONTRIBUTED_TO]->(pkg:Package)\n",
      "RETURN COUNT(pkg) AS numberOfPackages, COLLECT(pkg.name) AS packageList\u001b[0m\n",
      "Full Context:\n",
      "\u001b[32;1m\u001b[1;3m[{'numberOfPackages': 54, 'packageList': ['RSQLite', 'here', 'RMariaDB', 'DBI', 'chk', 'roxygen2md', 'mlfit', 'StrucDiv', 'term', 'dm', 'DBItest', 'log4r', 'hms', 'skimr', 'bindrcpp', 'desc', 'indiedown', 'enc', 'knitrProgressBar', 'fledge', 'cli', 'tibble', 'universals', 'tibblify', 'styler', 'sessioninfo', 'tikzDevice', 'pillar', 'duckplyr', 'winch', 'withr', 'memoise', 'wrswoR', 'lest', 'drake', 'MakefileR', 'optparse', 'procmaps', 'traudem', 'utf8', 'dplyr', 'kimisc', 'extras', 'plogr', 'covr', 'profile', 'bindr', 'RPostgres', 'whereami', 'blob', 'sf', 'mockr', 'igraph', 'rprojroot']}]\u001b[0m\n",
      "\n",
      "\u001b[1m> Finished chain.\u001b[0m\n"
     ]
    },
    {
     "data": {
      "text/plain": [
       "'Kirill Müller contributes to a total of 54 packages. Some of the packages he contributes to include RSQLite, here, RMariaDB, DBI, chk, roxygen2md, mlfit, StrucDiv, term, dm, DBItest, log4r, hms, skimr, bindrcpp, desc, indiedown, enc, knitrProgressBar, fledge, cli, tibble, universals, tibblify, styler, sessioninfo, tikzDevice, pillar, duckplyr, winch, withr, memoise, wrswoR, lest, drake, MakefileR, optparse, procmaps, traudem, utf8, dplyr, kimisc, extras, plogr, covr, profile, bindr, RPostgres, whereami, blob, sf, mockr, igraph, and rprojroot.'"
      ]
     },
     "execution_count": 14,
     "metadata": {},
     "output_type": "execute_result"
    }
   ],
   "source": [
    "chain.run(\"how many packages does Kirill Müller contributes and list the packages. I might have spelt name wrong\")"
   ]
  },
  {
   "cell_type": "code",
   "execution_count": 10,
   "metadata": {},
   "outputs": [
    {
     "name": "stdout",
     "output_type": "stream",
     "text": [
      "\n",
      "\n",
      "\u001b[1m> Entering new GraphCypherQAChain chain...\u001b[0m\n",
      "Generated Cypher:\n",
      "\u001b[32;1m\u001b[1;3mMATCH (p:Package)\n",
      "WHERE p.description CONTAINS 'osm data processing'\n",
      "RETURN p.name\u001b[0m\n",
      "Full Context:\n",
      "\u001b[32;1m\u001b[1;3m[]\u001b[0m\n",
      "\n",
      "\u001b[1m> Finished chain.\u001b[0m\n"
     ]
    },
    {
     "data": {
      "text/plain": [
       "\"I'm sorry, but without any provided information, I don't have a specific package to recommend for OSM data processing. However, there are several popular packages available for this purpose, such as Osmosis, osmium-tool, and GDAL. These packages offer various functionalities for working with OSM data, including data extraction, filtering, and conversion. It would be helpful to consider your specific requirements and the programming language you are using to determine the most suitable package for your needs.\""
      ]
     },
     "execution_count": 10,
     "metadata": {},
     "output_type": "execute_result"
    }
   ],
   "source": [
    "chain.run(\"what package will you recommend for osm data processing using the description \")"
   ]
  },
  {
   "cell_type": "code",
   "execution_count": 13,
   "metadata": {},
   "outputs": [
    {
     "name": "stdout",
     "output_type": "stream",
     "text": [
      "\n",
      "\n",
      "\u001b[1m> Entering new GraphCypherQAChain chain...\u001b[0m\n",
      "Generated Cypher:\n",
      "\u001b[32;1m\u001b[1;3mMATCH (p:Package)-[:DEPENDS_ON]->(d:Package)\n",
      "WITH d, COUNT(p) AS dependencyCount\n",
      "ORDER BY dependencyCount DESC\n",
      "LIMIT 1\n",
      "MATCH (d)<-[:MAINTAINS]-(m:Person)\n",
      "RETURN d.name AS dependency, m.name AS maintainer\u001b[0m\n",
      "Full Context:\n",
      "\u001b[32;1m\u001b[1;3m[]\u001b[0m\n",
      "\n",
      "\u001b[1m> Finished chain.\u001b[0m\n"
     ]
    },
    {
     "data": {
      "text/plain": [
       "\"I'm sorry, but I don't have access to the information about the dependency with the most packages depending on it and its maintainer.\""
      ]
     },
     "execution_count": 13,
     "metadata": {},
     "output_type": "execute_result"
    }
   ],
   "source": [
    "chain.run(\"what dependency has the most package depending on it and the maintainer\")"
   ]
  },
  {
   "cell_type": "code",
   "execution_count": 46,
   "metadata": {},
   "outputs": [
    {
     "name": "stdout",
     "output_type": "stream",
     "text": [
      "\n",
      "\n",
      "\u001b[1m> Entering new GraphCypherQAChain chain...\u001b[0m\n",
      "Generated Cypher:\n",
      "\u001b[32;1m\u001b[1;3mMATCH (p1:Package)-[:DEPENDS_ON]->(d:Dependency)<-[:DEPENDS_ON]-(p2:Package)\n",
      "WHERE p1.package = 'dplyr'\n",
      "RETURN p2.package, p2.description\u001b[0m\n",
      "Full Context:\n",
      "\u001b[32;1m\u001b[1;3m[{'p2.package': 'dials', 'p2.description': 'Many models contain tuning parameters (i.e. parameters that\\n    cannot be directly estimated from the data). These tools can be used\\n    to define objects for creating, simulating, or validating values for\\n    such parameters.'}, {'p2.package': 'googledrive', 'p2.description': 'Manage Google Drive files from R.'}, {'p2.package': 'retroharmonize', 'p2.description': 'Assist in reproducible retrospective (ex-post) harmonization\\n    of data, particularly individual level survey data, by providing tools\\n    for organizing metadata, standardizing the coding of variables, and\\n    variable names and value labels, including missing values, and\\n    documenting the data transformations, with the help of comprehensive\\n    s3 classes.'}, {'p2.package': 'tidytree', 'p2.description': 'Phylogenetic tree generally contains multiple components including node, edge, branch and associated data. tidytree provides an approach to convert tree object to tidy data frame as well as provides tidy interfaces to manipulate tree data.'}, {'p2.package': 'bupaR', 'p2.description': 'Comprehensive Business Process Analysis toolkit. Creates S3-class for event log objects, and related handler functions. Imports related packages for filtering event data, computation of descriptive statistics, handling of Petri Net objects and visualization of process maps. See also packages edeaR,processmapR, eventdataR and processmonitR.'}, {'p2.package': 'dbplyr', 'p2.description': 'A dplyr back end for databases that allows you to work with\\n    remote database tables as if they are in-memory data frames.  Basic\\n    features works with any database that has a DBI back end; more\\n    advanced features require SQL translation to be provided by the\\n    package author.'}, {'p2.package': 'parttime', 'p2.description': '\\n    Datetimes and timestamps are invariably an imprecise notation, with any\\n    partial representation implying some amount of uncertainty. To handle this,\\n    parttime provides classes for embedding partial missingness as a central\\n    part of its datetime classes. This central feature allows for more ergonomic\\n    use of datetimes for challenging datetime computation, including\\n    calculations of overlapping date ranges, imputations, and more thoughtful\\n    handling of ambiguity that arises from uncertain time zones. This package was\\n    developed first and foremost with pharmaceutical applications in mind, but\\n    aims to be agnostic to application to accommodate general use cases just as\\n    conveniently.'}, {'p2.package': 'cubelyr', 'p2.description': 'An implementation of a data cube extracted out of dplyr for\\n    backward compatibility.'}, {'p2.package': 'tidygraph', 'p2.description': 'A graph, while not tidy in itself, can be thought of as two tidy\\n    data frames describing node and edge data respectively. tidygraph\\n    provides an approach to manipulate these two virtual data frames using the\\n    API defined in the dplyr package, as well as provides tidy interfaces to \\n    a lot of common graph algorithms.'}, {'p2.package': 'yamlet', 'p2.description': 'A YAML-based\\n mechanism for working with table metadata. Supports\\n compact syntax for creating, modifying, viewing, exporting,\\n importing, displaying, and plotting metadata coded as column \\n attributes. The yamlet dialect is valid YAML with\\n defaults and conventions chosen to improve readability. \\n See ?yamlet, ?decorate, ?modify, ?io_csv, and ?ggplot.decorated.'}]\u001b[0m\n",
      "\n",
      "\u001b[1m> Finished chain.\u001b[0m\n"
     ]
    },
    {
     "data": {
      "text/plain": [
       "'Based on the description properties, an alternative package for dplyr could be \"dbplyr\". It is a dplyr back end for databases that allows you to work with remote database tables as if they are in-memory data frames. While basic features work with any database that has a DBI back end, more advanced features require SQL translation to be provided by the package author.'"
      ]
     },
     "execution_count": 46,
     "metadata": {},
     "output_type": "execute_result"
    }
   ],
   "source": [
    "chain.run(\"using description properties recommend an alternative package for dplyr\")"
   ]
  },
  {
   "cell_type": "code",
   "execution_count": 24,
   "metadata": {},
   "outputs": [],
   "source": [
    "def evaluate_accuracy(chain, questions, expected_answers):\n",
    "    num_correct = 0\n",
    "    total_questions = len(questions)\n",
    "    \n",
    "    for i, question in enumerate(questions):\n",
    "        generated_answer = chain.run(question)\n",
    "        expected_answer = expected_answers[i]\n",
    "        \n",
    "        if expected_answer in generated_answer:\n",
    "            num_correct += 1\n",
    "            \n",
    "    accuracy = num_correct / total_questions\n",
    "    return accuracy\n",
    "\n",
    "questions = [\n",
    "    \"How many packages is maintained by Kirill Müller?\",\n",
    "    \"How many packages has Kirill Müller contributed to?\",\n",
    "    \"Name of package Dennis Irorere contributed to\",\n",
    "    \"Who maintains anyflights package\",\n",
    "    \"Who is maintaining the most packages?\",\n",
    "    \"Who is contributing to the most to packages?\",\n",
    "    'What package have the most contributions',\n",
    "    \"What packages depend on the most?\"\n",
    "]\n",
    "\n",
    "expected_answers = [\n",
    "    \"28\",\n",
    "    \"54\",\n",
    "    \"anyflights\",\n",
    "    \"Simon P. Couch\",\n",
    "    \"Dirk Eddelbuettel\",\n",
    "    \"Hadley Wickham\",\n",
    "    \"mlpack\",\n",
    "    \"stats\"\n",
    "]"
   ]
  },
  {
   "cell_type": "code",
   "execution_count": 25,
   "metadata": {},
   "outputs": [
    {
     "name": "stdout",
     "output_type": "stream",
     "text": [
      "\n",
      "\n",
      "\u001b[1m> Entering new GraphCypherQAChain chain...\u001b[0m\n",
      "Generated Cypher:\n",
      "\u001b[32;1m\u001b[1;3mMATCH (:Person {name: 'Kirill Müller'})-[:MAINTAINS]->(p:Package)\n",
      "RETURN COUNT(p) as numberOfPackagesMaintained;\u001b[0m\n",
      "Full Context:\n",
      "\u001b[32;1m\u001b[1;3m[{'numberOfPackagesMaintained': 28}]\u001b[0m\n",
      "\n",
      "\u001b[1m> Finished chain.\u001b[0m\n",
      "\n",
      "\n",
      "\u001b[1m> Entering new GraphCypherQAChain chain...\u001b[0m\n",
      "Generated Cypher:\n",
      "\u001b[32;1m\u001b[1;3mMATCH (:Person {name: 'Kirill Müller'})-[:CONTRIBUTED_TO]->(p:Package)\n",
      "RETURN COUNT(p) as num_packages_contributed\u001b[0m\n",
      "Full Context:\n",
      "\u001b[32;1m\u001b[1;3m[{'num_packages_contributed': 54}]\u001b[0m\n",
      "\n",
      "\u001b[1m> Finished chain.\u001b[0m\n",
      "\n",
      "\n",
      "\u001b[1m> Entering new GraphCypherQAChain chain...\u001b[0m\n",
      "Generated Cypher:\n",
      "\u001b[32;1m\u001b[1;3mMATCH (:Person {name: \"Dennis Irorere\"})-[:CONTRIBUTED_TO]->(p:Package)\n",
      "RETURN p.name\u001b[0m\n",
      "Full Context:\n",
      "\u001b[32;1m\u001b[1;3m[{'p.name': 'anyflights'}]\u001b[0m\n",
      "\n",
      "\u001b[1m> Finished chain.\u001b[0m\n",
      "\n",
      "\n",
      "\u001b[1m> Entering new GraphCypherQAChain chain...\u001b[0m\n",
      "Generated Cypher:\n",
      "\u001b[32;1m\u001b[1;3mMATCH (p:Package {name: \"anyflights\"})<-[:MAINTAINS]-(person:Person)\n",
      "RETURN person;\u001b[0m\n",
      "Full Context:\n",
      "\u001b[32;1m\u001b[1;3m[{'person': {'name': 'Simon P. Couch'}}]\u001b[0m\n",
      "\n",
      "\u001b[1m> Finished chain.\u001b[0m\n",
      "\n",
      "\n",
      "\u001b[1m> Entering new GraphCypherQAChain chain...\u001b[0m\n",
      "Generated Cypher:\n",
      "\u001b[32;1m\u001b[1;3mMATCH (p:Person)-[:MAINTAINS]->(pkg:Package)\n",
      "RETURN p.name, COUNT(pkg) AS numPackages\n",
      "ORDER BY numPackages DESC\n",
      "LIMIT 1\u001b[0m\n",
      "Full Context:\n",
      "\u001b[32;1m\u001b[1;3m[{'p.name': 'Dirk Eddelbuettel', 'numPackages': 71}]\u001b[0m\n",
      "\n",
      "\u001b[1m> Finished chain.\u001b[0m\n",
      "\n",
      "\n",
      "\u001b[1m> Entering new GraphCypherQAChain chain...\u001b[0m\n",
      "Generated Cypher:\n",
      "\u001b[32;1m\u001b[1;3mMATCH (p:Person)-[:CONTRIBUTED_TO]->(pkg:Package)\n",
      "RETURN p.name, COUNT(pkg) AS contributions\n",
      "ORDER BY contributions DESC\n",
      "LIMIT 1;\u001b[0m\n",
      "Full Context:\n",
      "\u001b[32;1m\u001b[1;3m[{'p.name': 'Hadley Wickham', 'contributions': 161}]\u001b[0m\n",
      "\n",
      "\u001b[1m> Finished chain.\u001b[0m\n",
      "\n",
      "\n",
      "\u001b[1m> Entering new GraphCypherQAChain chain...\u001b[0m\n",
      "Generated Cypher:\n",
      "\u001b[32;1m\u001b[1;3mMATCH (:Person)-[:CONTRIBUTED_TO]->(p:Package)\n",
      "RETURN p.name, COUNT(*) AS contributions\n",
      "ORDER BY contributions DESC\n",
      "LIMIT 1;\u001b[0m\n",
      "Full Context:\n",
      "\u001b[32;1m\u001b[1;3m[{'p.name': 'mlpack', 'contributions': 148}]\u001b[0m\n",
      "\n",
      "\u001b[1m> Finished chain.\u001b[0m\n",
      "\n",
      "\n",
      "\u001b[1m> Entering new GraphCypherQAChain chain...\u001b[0m\n",
      "Generated Cypher:\n",
      "\u001b[32;1m\u001b[1;3mMATCH (:Package)-[:DEPENDS_ON]->(p:Package)\n",
      "RETURN p.name, COUNT(*) AS dependency_count\n",
      "ORDER BY dependency_count DESC\n",
      "LIMIT 1;\u001b[0m\n",
      "Full Context:\n",
      "\u001b[32;1m\u001b[1;3m[{'p.name': 'stats', 'dependency_count': 5488}]\u001b[0m\n",
      "\n",
      "\u001b[1m> Finished chain.\u001b[0m\n",
      "Accuracy: 0.875\n"
     ]
    }
   ],
   "source": [
    "accuracy = evaluate_accuracy(chain, questions , expected_answers)\n",
    "print(\"Accuracy:\", accuracy)"
   ]
  },
  {
   "cell_type": "code",
   "execution_count": null,
   "metadata": {},
   "outputs": [],
   "source": [
    "num_correct"
   ]
  },
  {
   "cell_type": "code",
   "execution_count": null,
   "metadata": {},
   "outputs": [],
   "source": []
  },
  {
   "cell_type": "code",
   "execution_count": 2,
   "metadata": {},
   "outputs": [],
   "source": [
    "questions = [\n",
    "    \"How many packages is maintained by Kirill Müller?\",\n",
    "    \"How many packages has Kirill Müller contributed to?\",\n",
    "    \"Name of package Dennis Irorere contributed to\",\n",
    "    \"Who maintains anyflights package\",\n",
    "    \"Who is maintaining the most packages?\",\n",
    "    \"Who is contributing to the most to packages?\",\n",
    "    \"What are the packages that are supported by the most?\",\n",
    "    \"What packages depend on the most?\"\n",
    "]\n"
   ]
  },
  {
   "cell_type": "code",
   "execution_count": 21,
   "metadata": {},
   "outputs": [
    {
     "name": "stdout",
     "output_type": "stream",
     "text": [
      "\n",
      "\n",
      "\u001b[1m> Entering new GraphCypherQAChain chain...\u001b[0m\n",
      "Generated Cypher:\n",
      "\u001b[32;1m\u001b[1;3mMATCH (:Package)-[:DEPENDS_ON]->(p:Package)\n",
      "RETURN p.name, COUNT(*) AS dependency_count\n",
      "ORDER BY dependency_count DESC\n",
      "LIMIT 1;\u001b[0m\n",
      "Full Context:\n",
      "\u001b[32;1m\u001b[1;3m[{'p.name': 'stats', 'dependency_count': 5488}]\u001b[0m\n",
      "\n",
      "\u001b[1m> Finished chain.\u001b[0m\n"
     ]
    },
    {
     "data": {
      "text/plain": [
       "\"The package that is depend on the most is 'stats' with a dependency count of 5488.\""
      ]
     },
     "execution_count": 21,
     "metadata": {},
     "output_type": "execute_result"
    }
   ],
   "source": [
    "chain.run('What package is depend on the most?')"
   ]
  },
  {
   "cell_type": "code",
   "execution_count": 13,
   "metadata": {},
   "outputs": [
    {
     "name": "stdout",
     "output_type": "stream",
     "text": [
      "\n",
      "\n",
      "\u001b[1m> Entering new GraphCypherQAChain chain...\u001b[0m\n",
      "Generated Cypher:\n",
      "\u001b[32;1m\u001b[1;3mMATCH (p:Person {name: \"Dennis Irorere\"})-[:CONTRIBUTED_TO]->(pkg:Package)\n",
      "RETURN pkg.name\u001b[0m\n",
      "Full Context:\n",
      "\u001b[32;1m\u001b[1;3m[{'pkg.name': 'anyflights'}]\u001b[0m\n",
      "\n",
      "\u001b[1m> Finished chain.\u001b[0m\n"
     ]
    },
    {
     "data": {
      "text/plain": [
       "'Dennis Irorere contributed to the package named anyflights.'"
      ]
     },
     "execution_count": 13,
     "metadata": {},
     "output_type": "execute_result"
    }
   ],
   "source": [
    "chain.run('Name of package Dennis Irorere contributed to')"
   ]
  },
  {
   "cell_type": "code",
   "execution_count": 15,
   "metadata": {},
   "outputs": [
    {
     "name": "stdout",
     "output_type": "stream",
     "text": [
      "\n",
      "\n",
      "\u001b[1m> Entering new GraphCypherQAChain chain...\u001b[0m\n",
      "Generated Cypher:\n",
      "\u001b[32;1m\u001b[1;3mMATCH (p:Person)-[:MAINTAINS]->(pkg:Package {name: \"anyflights\"})\n",
      "RETURN p\u001b[0m\n",
      "Full Context:\n",
      "\u001b[32;1m\u001b[1;3m[{'p': {'name': 'Simon P. Couch'}}]\u001b[0m\n",
      "\n",
      "\u001b[1m> Finished chain.\u001b[0m\n"
     ]
    }
   ],
   "source": [
    "a = chain.run('Who maintains anyflights package')"
   ]
  },
  {
   "cell_type": "code",
   "execution_count": 16,
   "metadata": {},
   "outputs": [
    {
     "data": {
      "text/plain": [
       "'Simon P. Couch maintains the anyflights package.'"
      ]
     },
     "execution_count": 16,
     "metadata": {},
     "output_type": "execute_result"
    }
   ],
   "source": [
    "a"
   ]
  },
  {
   "cell_type": "code",
   "execution_count": 23,
   "metadata": {},
   "outputs": [
    {
     "ename": "TypeError",
     "evalue": "evaluate_accuracy() takes 2 positional arguments but 3 were given",
     "output_type": "error",
     "traceback": [
      "\u001b[1;31m---------------------------------------------------------------------------\u001b[0m",
      "\u001b[1;31mTypeError\u001b[0m                                 Traceback (most recent call last)",
      "Cell \u001b[1;32mIn[23], line 1\u001b[0m\n\u001b[1;32m----> 1\u001b[0m accuracy \u001b[38;5;241m=\u001b[39m \u001b[43mevaluate_accuracy\u001b[49m\u001b[43m(\u001b[49m\u001b[43mchain\u001b[49m\u001b[43m,\u001b[49m\u001b[43m \u001b[49m\u001b[43mquestions\u001b[49m\u001b[43m \u001b[49m\u001b[43m,\u001b[49m\u001b[43m \u001b[49m\u001b[43mexpected_answers\u001b[49m\u001b[43m)\u001b[49m\n\u001b[0;32m      2\u001b[0m \u001b[38;5;28mprint\u001b[39m(\u001b[38;5;124m\"\u001b[39m\u001b[38;5;124mAccuracy:\u001b[39m\u001b[38;5;124m\"\u001b[39m, accuracy)\n",
      "\u001b[1;31mTypeError\u001b[0m: evaluate_accuracy() takes 2 positional arguments but 3 were given"
     ]
    }
   ],
   "source": [
    "accuracy = evaluate_accuracy(questions , expected_answers)\n",
    "print(\"Accuracy:\", accuracy)"
   ]
  }
 ],
 "metadata": {
  "kernelspec": {
   "display_name": "venv",
   "language": "python",
   "name": "python3"
  },
  "language_info": {
   "codemirror_mode": {
    "name": "ipython",
    "version": 3
   },
   "file_extension": ".py",
   "mimetype": "text/x-python",
   "name": "python",
   "nbconvert_exporter": "python",
   "pygments_lexer": "ipython3",
   "version": "3.11.4"
  }
 },
 "nbformat": 4,
 "nbformat_minor": 2
}
