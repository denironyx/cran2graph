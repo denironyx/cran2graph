{
 "cells": [
  {
   "cell_type": "code",
   "execution_count": 1,
   "metadata": {},
   "outputs": [],
   "source": [
    "import json \n",
    "import os\n",
    "from langchain.chat_models import ChatOpenAI\n",
    "from langchain.chains import GraphCypherQAChain\n",
    "from langchain.graphs import Neo4jGraph\n",
    "\n",
    "## Loading openai key\n",
    "with open('../environ.json') as f:\n",
    "    config = json.load(f)\n",
    "    api_keys = list(config.values())[0]\n",
    "\n",
    "# assign openai key to an environment variable\n",
    "os.environ[\"OPENAI_API_KEY\"] = api_keys\n",
    "\n",
    "# # check to confirm\n",
    "# os.getenv(\"OPENAI_API_KEY\")\n"
   ]
  },
  {
   "cell_type": "code",
   "execution_count": 3,
   "metadata": {},
   "outputs": [
    {
     "name": "stdout",
     "output_type": "stream",
     "text": [
      "\n",
      "        Node properties are the following:\n",
      "        [{'labels': 'Person', 'properties': [{'property': 'name', 'type': 'STRING'}]}, {'labels': 'Package', 'properties': [{'property': 'name', 'type': 'STRING'}, {'property': 'latestPublishedDate', 'type': 'STRING'}, {'property': 'md5sum', 'type': 'STRING'}, {'property': 'description', 'type': 'STRING'}, {'property': 'license', 'type': 'STRING'}, {'property': 'version', 'type': 'STRING'}]}, {'labels': 'Organization', 'properties': [{'property': 'name', 'type': 'STRING'}]}, {'labels': 'License', 'properties': [{'property': 'type', 'type': 'STRING'}]}, {'labels': 'Institution', 'properties': [{'property': 'type', 'type': 'STRING'}]}]\n",
      "        Relationship properties are the following:\n",
      "        []\n",
      "        The relationships are the following:\n",
      "        ['(:Person)-[:CONTRIBUTED_TO]->(:Package)', '(:Person)-[:WORKS_AT]->(:Institution)', '(:Person)-[:MAINTAINS]->(:Package)', '(:Package)-[:DEPENDS_ON]->(:Package)', '(:Package)-[:LICENSE_BY]->(:License)', '(:Package)-[:SUPPORTED_BY]->(:Organization)']\n",
      "        \n"
     ]
    }
   ],
   "source": [
    "# establish connection to neo4j graph database\n",
    "graph = Neo4jGraph(\n",
    "    url=\"bolt://localhost:7689\", \n",
    "    username=\"admin\", \n",
    "    password=\"cran2graph\", \n",
    "    database=\"neo4j\"\n",
    ")\n",
    "print(graph.schema)"
   ]
  },
  {
   "cell_type": "code",
   "execution_count": 4,
   "metadata": {},
   "outputs": [
    {
     "name": "stdout",
     "output_type": "stream",
     "text": [
      "\n",
      "        Node properties are the following:\n",
      "        [{'labels': 'Person', 'properties': [{'property': 'name', 'type': 'STRING'}]}, {'labels': 'Package', 'properties': [{'property': 'name', 'type': 'STRING'}, {'property': 'latestPublishedDate', 'type': 'STRING'}, {'property': 'md5sum', 'type': 'STRING'}, {'property': 'description', 'type': 'STRING'}, {'property': 'license', 'type': 'STRING'}, {'property': 'version', 'type': 'STRING'}]}, {'labels': 'Organization', 'properties': [{'property': 'name', 'type': 'STRING'}]}, {'labels': 'License', 'properties': [{'property': 'type', 'type': 'STRING'}]}, {'labels': 'Institution', 'properties': [{'property': 'type', 'type': 'STRING'}]}]\n",
      "        Relationship properties are the following:\n",
      "        []\n",
      "        The relationships are the following:\n",
      "        ['(:Person)-[:CONTRIBUTED_TO]->(:Package)', '(:Person)-[:WORKS_AT]->(:Institution)', '(:Person)-[:MAINTAINS]->(:Package)', '(:Package)-[:DEPENDS_ON]->(:Package)', '(:Package)-[:LICENSE_BY]->(:License)', '(:Package)-[:SUPPORTED_BY]->(:Organization)']\n",
      "        \n"
     ]
    }
   ],
   "source": [
    "# check the graph schema\n",
    "print(graph.schema)"
   ]
  },
  {
   "cell_type": "code",
   "execution_count": 5,
   "metadata": {},
   "outputs": [],
   "source": [
    "# chain rule\n",
    "chain = GraphCypherQAChain.from_llm(\n",
    "    ChatOpenAI(temperature=0), graph=graph, verbose=True\n",
    ")"
   ]
  },
  {
   "cell_type": "code",
   "execution_count": 9,
   "metadata": {},
   "outputs": [
    {
     "name": "stdout",
     "output_type": "stream",
     "text": [
      "\n",
      "\n",
      "\u001b[1m> Entering new GraphCypherQAChain chain...\u001b[0m\n",
      "Generated Cypher:\n",
      "\u001b[32;1m\u001b[1;3mMATCH (:Person{name:'Kirill Müller'})-[:CONTRIBUTED_TO]->(p:Package)\n",
      "RETURN p;\u001b[0m\n",
      "Full Context:\n",
      "\u001b[32;1m\u001b[1;3m[{'p': {'license': 'GPL-2', 'latestPublishedDate': '2021-12-06', 'md5sum': 'b373f83a971b68402825e699fce7cb4d', 'name': 'sessioninfo', 'description': 'Query and print information about the current R\\n    session.  It is similar to utils::sessionInfo(), but includes more\\n    information about packages, and where they were installed from.', 'version': '1.2.2'}}, {'p': {'license': 'MIT + file LICENSE', 'latestPublishedDate': '2023-03-20', 'md5sum': 'e4ccfbe28c84b11f86388379c8b43925', 'name': 'tibble', 'description': 'Provides a tbl_df class (the tibble) with stricter checking and better formatting than the traditional\\n    data frame.', 'version': '3.2.1'}}, {'p': {'license': 'MIT + file LICENSE', 'latestPublishedDate': '2018-03-13', 'md5sum': 'cfa02c563196a79bf8bb4db2e66585fd', 'name': 'bindr', 'description': 'Provides a simple interface for creating active bindings where the\\n    bound function accepts additional arguments.', 'version': '0.1.1'}}, {'p': {'license': 'MIT + file LICENSE', 'latestPublishedDate': '2023-10-30', 'md5sum': '7a391ba52581b520002a054a890ab08c', 'name': 'withr', 'description': 'A set of functions to run code with safely and\\n    temporarily modified global state. Many of these functions were\\n    originally a part of the devtools package, this provides a simple\\n    package with limited dependencies to provide access to these\\n    functions.', 'version': '2.5.2'}}, {'p': {'license': 'GPL-3', 'latestPublishedDate': '2022-12-23', 'md5sum': '3f8a61ba5a88a3e51ec813d18e5fa814', 'name': 'skimr', 'description': 'A simple to use summary function that can be used with pipes\\n    and displays nicely in the console. The default summary statistics may\\n    be modified by the user as can the default formatting.  Support for\\n    data frames and vectors is included, and users can implement their own\\n    skim methods for specific object types as described in a vignette.\\n    Default summaries include support for inline spark graphs.\\n    Instructions for managing these on specific operating systems are\\n    given in the Using skimr vignette and the README.', 'version': '2.1.5'}}, {'p': {'license': 'MIT + file LICENSE', 'latestPublishedDate': '2022-10-19', 'md5sum': '8d209683bed6171728625378e9740692', 'name': 'traudem', 'description': 'Simple trustworthy utility functions to use TauDEM \\n    (Terrain Analysis Using Digital Elevation Models <https://hydrology.usu.edu/taudem/taudem5/>) command-line interface.\\n    This package provides a guide to installation of TauDEM and its dependencies GDAL (Geopatial Data Abstraction Library) \\n    and MPI (Message Passing Interface) for different operating systems.\\n    Moreover, it checks that TauDEM and its dependencies are correctly installed and included to the PATH, \\n    and it provides wrapper commands for calling TauDEM methods from R.', 'version': '1.0.1'}}, {'p': {'license': 'MIT + file LICENSE', 'latestPublishedDate': '2023-08-29', 'md5sum': '16b84cbb730f29650a8a6f930effc726', 'name': 'styler', 'description': 'Pretty-prints R code without changing the users formatting\\n    intent.', 'version': '1.10.2'}}, {'p': {'license': 'MIT + file LICENSE', 'latestPublishedDate': '2023-10-06', 'md5sum': '9675ddf805c4166e42173d2b773b8a38', 'name': 'chk', 'description': 'For developers to check user-supplied function arguments.  It\\n    is designed to be simple, fast and customizable.  Error messages\\n    follow the tidyverse style guide.', 'version': '0.9.1'}}, {'p': {'license': 'MIT + file LICENSE', 'latestPublishedDate': '2023-03-17', 'md5sum': '3133f827ee7c1e4ca99c16659984627e', 'name': 'blob', 'description': 'Rs raw vector is useful for storing a single binary object.\\n    What if you want to put a vector of them in a data frame? The blob\\n    package provides the blob object, a list of raw vectors, suitable for\\n    use as a column in data frame.', 'version': '1.2.4'}}, {'p': {'license': 'GPL-3', 'latestPublishedDate': '2019-06-17', 'md5sum': '36a03ba61171d21f9170e30a7b102e71', 'name': 'roxygen2md', 'description': 'Converts elements of roxygen documentation to\\n    markdown.', 'version': '1.0.0'}}]\u001b[0m\n",
      "\n",
      "\u001b[1m> Finished chain.\u001b[0m\n"
     ]
    },
    {
     "data": {
      "text/plain": [
       "'Kirill Müller has contributed to the following packages:\\n- sessioninfo\\n- skimr'"
      ]
     },
     "execution_count": 9,
     "metadata": {},
     "output_type": "execute_result"
    }
   ],
   "source": [
    "chain.run(\"list all packages Kirill Müller contributed to\")"
   ]
  },
  {
   "cell_type": "code",
   "execution_count": 10,
   "metadata": {},
   "outputs": [
    {
     "name": "stdout",
     "output_type": "stream",
     "text": [
      "\n",
      "\n",
      "\u001b[1m> Entering new GraphCypherQAChain chain...\u001b[0m\n",
      "Generated Cypher:\n",
      "\u001b[32;1m\u001b[1;3mMATCH (:Person{name:'Kirill Müller'})-[:MAINTAINS]->(p:Package)\n",
      "RETURN COUNT(p)\u001b[0m\n",
      "Full Context:\n",
      "\u001b[32;1m\u001b[1;3m[{'COUNT(p)': 28}]\u001b[0m\n",
      "\n",
      "\u001b[1m> Finished chain.\u001b[0m\n"
     ]
    },
    {
     "data": {
      "text/plain": [
       "'Kirill Müller maintains 28 packages.'"
      ]
     },
     "execution_count": 10,
     "metadata": {},
     "output_type": "execute_result"
    }
   ],
   "source": [
    "chain.run(\"How many packages is maintained by Kirill Müller?\")"
   ]
  },
  {
   "cell_type": "code",
   "execution_count": 9,
   "metadata": {},
   "outputs": [
    {
     "name": "stdout",
     "output_type": "stream",
     "text": [
      "\n",
      "\n",
      "\u001b[1m> Entering new GraphCypherQAChain chain...\u001b[0m\n",
      "Generated Cypher:\n",
      "\u001b[32;1m\u001b[1;3mMATCH (p:Person {name: 'Jing Zhang'})-[:MAINTAINS]->(pkg:Package)\n",
      "RETURN COUNT(pkg) AS packageCount, pkg.name AS packageName, pkg.latestPublishedDate AS publishedDate\u001b[0m\n",
      "Full Context:\n",
      "\u001b[32;1m\u001b[1;3m[{'packageCount': 1, 'packageName': 'ggrisk', 'publishedDate': '2021-08-09'}, {'packageCount': 1, 'packageName': 'do', 'publishedDate': '2021-08-03'}, {'packageCount': 1, 'packageName': 'msig', 'publishedDate': '2021-06-29'}, {'packageCount': 1, 'packageName': 'base.rms', 'publishedDate': '2020-08-01'}, {'packageCount': 1, 'packageName': 'cutoff', 'publishedDate': '2019-12-20'}, {'packageCount': 1, 'packageName': 'nomogramFormula', 'publishedDate': '2020-01-28'}]\u001b[0m\n",
      "\n",
      "\u001b[1m> Finished chain.\u001b[0m\n"
     ]
    },
    {
     "data": {
      "text/plain": [
       "\"Jing Zhang maintains a total of 6 packages. The names of the packages are 'ggrisk', 'do', 'msig', 'base.rms', 'cutoff', and 'nomogramFormula'. Here are the published dates for each package: 'ggrisk' was published on August 9, 2021, 'do' was published on August 3, 2021, 'msig' was published on June 29, 2021, 'base.rms' was published on August 1, 2020, 'cutoff' was published on December 20, 2019, and 'nomogramFormula' was published on January 28, 2020.\""
      ]
     },
     "execution_count": 9,
     "metadata": {},
     "output_type": "execute_result"
    }
   ],
   "source": [
    "chain.run(\"how many packages does Jing Zhang maintains and the names and when it was published?\")"
   ]
  },
  {
   "cell_type": "code",
   "execution_count": 11,
   "metadata": {},
   "outputs": [
    {
     "name": "stdout",
     "output_type": "stream",
     "text": [
      "\n",
      "\n",
      "\u001b[1m> Entering new GraphCypherQAChain chain...\u001b[0m\n",
      "Generated Cypher:\n",
      "\u001b[32;1m\u001b[1;3mMATCH (:Person {name: 'Dennis Irorere'})-[:CONTRIBUTED_TO]->(p:Package)\n",
      "RETURN p.name\u001b[0m\n",
      "Full Context:\n",
      "\u001b[32;1m\u001b[1;3m[{'p.name': 'anyflights'}]\u001b[0m\n",
      "\n",
      "\u001b[1m> Finished chain.\u001b[0m\n"
     ]
    },
    {
     "data": {
      "text/plain": [
       "'Dennis Irorere contributed to the package named \"anyflights.\"'"
      ]
     },
     "execution_count": 11,
     "metadata": {},
     "output_type": "execute_result"
    }
   ],
   "source": [
    "chain.run(\"Name of package Dennis Irorere contributed to\")"
   ]
  },
  {
   "cell_type": "code",
   "execution_count": 14,
   "metadata": {},
   "outputs": [
    {
     "name": "stdout",
     "output_type": "stream",
     "text": [
      "\n",
      "\n",
      "\u001b[1m> Entering new GraphCypherQAChain chain...\u001b[0m\n",
      "Generated Cypher:\n",
      "\u001b[32;1m\u001b[1;3mMATCH (p:Person {name: 'Kirill Müller'})-[:CONTRIBUTED_TO]->(pkg:Package)\n",
      "RETURN COUNT(pkg) AS numberOfPackages, COLLECT(pkg.name) AS packageList\u001b[0m\n",
      "Full Context:\n",
      "\u001b[32;1m\u001b[1;3m[{'numberOfPackages': 54, 'packageList': ['RSQLite', 'here', 'RMariaDB', 'DBI', 'chk', 'roxygen2md', 'mlfit', 'StrucDiv', 'term', 'dm', 'DBItest', 'log4r', 'hms', 'skimr', 'bindrcpp', 'desc', 'indiedown', 'enc', 'knitrProgressBar', 'fledge', 'cli', 'tibble', 'universals', 'tibblify', 'styler', 'sessioninfo', 'tikzDevice', 'pillar', 'duckplyr', 'winch', 'withr', 'memoise', 'wrswoR', 'lest', 'drake', 'MakefileR', 'optparse', 'procmaps', 'traudem', 'utf8', 'dplyr', 'kimisc', 'extras', 'plogr', 'covr', 'profile', 'bindr', 'RPostgres', 'whereami', 'blob', 'sf', 'mockr', 'igraph', 'rprojroot']}]\u001b[0m\n",
      "\n",
      "\u001b[1m> Finished chain.\u001b[0m\n"
     ]
    },
    {
     "data": {
      "text/plain": [
       "'Kirill Müller contributes to a total of 54 packages. Some of the packages he contributes to include RSQLite, here, RMariaDB, DBI, chk, roxygen2md, mlfit, StrucDiv, term, dm, DBItest, log4r, hms, skimr, bindrcpp, desc, indiedown, enc, knitrProgressBar, fledge, cli, tibble, universals, tibblify, styler, sessioninfo, tikzDevice, pillar, duckplyr, winch, withr, memoise, wrswoR, lest, drake, MakefileR, optparse, procmaps, traudem, utf8, dplyr, kimisc, extras, plogr, covr, profile, bindr, RPostgres, whereami, blob, sf, mockr, igraph, and rprojroot.'"
      ]
     },
     "execution_count": 14,
     "metadata": {},
     "output_type": "execute_result"
    }
   ],
   "source": [
    "chain.run(\"how many packages does Kirill Müller contributes and list the packages. I might have spelt name wrong\")"
   ]
  },
  {
   "cell_type": "code",
   "execution_count": 10,
   "metadata": {},
   "outputs": [
    {
     "name": "stdout",
     "output_type": "stream",
     "text": [
      "\n",
      "\n",
      "\u001b[1m> Entering new GraphCypherQAChain chain...\u001b[0m\n",
      "Generated Cypher:\n",
      "\u001b[32;1m\u001b[1;3mMATCH (p:Package)\n",
      "WHERE p.description CONTAINS 'osm data processing'\n",
      "RETURN p.name\u001b[0m\n",
      "Full Context:\n",
      "\u001b[32;1m\u001b[1;3m[]\u001b[0m\n",
      "\n",
      "\u001b[1m> Finished chain.\u001b[0m\n"
     ]
    },
    {
     "data": {
      "text/plain": [
       "\"I'm sorry, but without any provided information, I don't have a specific package to recommend for OSM data processing. However, there are several popular packages available for this purpose, such as Osmosis, osmium-tool, and GDAL. These packages offer various functionalities for working with OSM data, including data extraction, filtering, and conversion. It would be helpful to consider your specific requirements and the programming language you are using to determine the most suitable package for your needs.\""
      ]
     },
     "execution_count": 10,
     "metadata": {},
     "output_type": "execute_result"
    }
   ],
   "source": [
    "chain.run(\"what package will you recommend for osm data processing using the description \")"
   ]
  },
  {
   "cell_type": "code",
   "execution_count": 13,
   "metadata": {},
   "outputs": [
    {
     "name": "stdout",
     "output_type": "stream",
     "text": [
      "\n",
      "\n",
      "\u001b[1m> Entering new GraphCypherQAChain chain...\u001b[0m\n",
      "Generated Cypher:\n",
      "\u001b[32;1m\u001b[1;3mMATCH (p:Package)-[:DEPENDS_ON]->(d:Package)\n",
      "WITH d, COUNT(p) AS dependencyCount\n",
      "ORDER BY dependencyCount DESC\n",
      "LIMIT 1\n",
      "MATCH (d)<-[:MAINTAINS]-(m:Person)\n",
      "RETURN d.name AS dependency, m.name AS maintainer\u001b[0m\n",
      "Full Context:\n",
      "\u001b[32;1m\u001b[1;3m[]\u001b[0m\n",
      "\n",
      "\u001b[1m> Finished chain.\u001b[0m\n"
     ]
    },
    {
     "data": {
      "text/plain": [
       "\"I'm sorry, but I don't have access to the information about the dependency with the most packages depending on it and its maintainer.\""
      ]
     },
     "execution_count": 13,
     "metadata": {},
     "output_type": "execute_result"
    }
   ],
   "source": [
    "chain.run(\"what dependency has the most package depending on it and the maintainer\")"
   ]
  },
  {
   "cell_type": "code",
   "execution_count": 46,
   "metadata": {},
   "outputs": [
    {
     "name": "stdout",
     "output_type": "stream",
     "text": [
      "\n",
      "\n",
      "\u001b[1m> Entering new GraphCypherQAChain chain...\u001b[0m\n",
      "Generated Cypher:\n",
      "\u001b[32;1m\u001b[1;3mMATCH (p1:Package)-[:DEPENDS_ON]->(d:Dependency)<-[:DEPENDS_ON]-(p2:Package)\n",
      "WHERE p1.package = 'dplyr'\n",
      "RETURN p2.package, p2.description\u001b[0m\n",
      "Full Context:\n",
      "\u001b[32;1m\u001b[1;3m[{'p2.package': 'dials', 'p2.description': 'Many models contain tuning parameters (i.e. parameters that\\n    cannot be directly estimated from the data). These tools can be used\\n    to define objects for creating, simulating, or validating values for\\n    such parameters.'}, {'p2.package': 'googledrive', 'p2.description': 'Manage Google Drive files from R.'}, {'p2.package': 'retroharmonize', 'p2.description': 'Assist in reproducible retrospective (ex-post) harmonization\\n    of data, particularly individual level survey data, by providing tools\\n    for organizing metadata, standardizing the coding of variables, and\\n    variable names and value labels, including missing values, and\\n    documenting the data transformations, with the help of comprehensive\\n    s3 classes.'}, {'p2.package': 'tidytree', 'p2.description': 'Phylogenetic tree generally contains multiple components including node, edge, branch and associated data. tidytree provides an approach to convert tree object to tidy data frame as well as provides tidy interfaces to manipulate tree data.'}, {'p2.package': 'bupaR', 'p2.description': 'Comprehensive Business Process Analysis toolkit. Creates S3-class for event log objects, and related handler functions. Imports related packages for filtering event data, computation of descriptive statistics, handling of Petri Net objects and visualization of process maps. See also packages edeaR,processmapR, eventdataR and processmonitR.'}, {'p2.package': 'dbplyr', 'p2.description': 'A dplyr back end for databases that allows you to work with\\n    remote database tables as if they are in-memory data frames.  Basic\\n    features works with any database that has a DBI back end; more\\n    advanced features require SQL translation to be provided by the\\n    package author.'}, {'p2.package': 'parttime', 'p2.description': '\\n    Datetimes and timestamps are invariably an imprecise notation, with any\\n    partial representation implying some amount of uncertainty. To handle this,\\n    parttime provides classes for embedding partial missingness as a central\\n    part of its datetime classes. This central feature allows for more ergonomic\\n    use of datetimes for challenging datetime computation, including\\n    calculations of overlapping date ranges, imputations, and more thoughtful\\n    handling of ambiguity that arises from uncertain time zones. This package was\\n    developed first and foremost with pharmaceutical applications in mind, but\\n    aims to be agnostic to application to accommodate general use cases just as\\n    conveniently.'}, {'p2.package': 'cubelyr', 'p2.description': 'An implementation of a data cube extracted out of dplyr for\\n    backward compatibility.'}, {'p2.package': 'tidygraph', 'p2.description': 'A graph, while not tidy in itself, can be thought of as two tidy\\n    data frames describing node and edge data respectively. tidygraph\\n    provides an approach to manipulate these two virtual data frames using the\\n    API defined in the dplyr package, as well as provides tidy interfaces to \\n    a lot of common graph algorithms.'}, {'p2.package': 'yamlet', 'p2.description': 'A YAML-based\\n mechanism for working with table metadata. Supports\\n compact syntax for creating, modifying, viewing, exporting,\\n importing, displaying, and plotting metadata coded as column \\n attributes. The yamlet dialect is valid YAML with\\n defaults and conventions chosen to improve readability. \\n See ?yamlet, ?decorate, ?modify, ?io_csv, and ?ggplot.decorated.'}]\u001b[0m\n",
      "\n",
      "\u001b[1m> Finished chain.\u001b[0m\n"
     ]
    },
    {
     "data": {
      "text/plain": [
       "'Based on the description properties, an alternative package for dplyr could be \"dbplyr\". It is a dplyr back end for databases that allows you to work with remote database tables as if they are in-memory data frames. While basic features work with any database that has a DBI back end, more advanced features require SQL translation to be provided by the package author.'"
      ]
     },
     "execution_count": 46,
     "metadata": {},
     "output_type": "execute_result"
    }
   ],
   "source": [
    "chain.run(\"using description properties recommend an alternative package for dplyr\")"
   ]
  }
 ],
 "metadata": {
  "kernelspec": {
   "display_name": "venv",
   "language": "python",
   "name": "python3"
  },
  "language_info": {
   "codemirror_mode": {
    "name": "ipython",
    "version": 3
   },
   "file_extension": ".py",
   "mimetype": "text/x-python",
   "name": "python",
   "nbconvert_exporter": "python",
   "pygments_lexer": "ipython3",
   "version": "3.11.4"
  }
 },
 "nbformat": 4,
 "nbformat_minor": 2
}
