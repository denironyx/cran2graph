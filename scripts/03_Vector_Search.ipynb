{
 "cells": [
  {
   "cell_type": "code",
   "execution_count": 1,
   "metadata": {},
   "outputs": [],
   "source": [
    "import json \n",
    "import os\n",
    "from langchain.chat_models import ChatOpenAI\n",
    "from langchain.chains import GraphCypherQAChain\n",
    "from langchain.graphs import Neo4jGraph\n",
    "\n",
    "## Loading openai key\n",
    "with open('../environ.json') as f:\n",
    "    config = json.load(f)\n",
    "    api_keys = list(config.values())[0]\n",
    "\n",
    "# assign openai key to an environment variable\n",
    "os.environ[\"OPENAI_API_KEY\"] = api_keys\n",
    "\n",
    "# # check to confirm\n",
    "# os.getenv(\"OPENAI_API_KEY\")\n"
   ]
  },
  {
   "cell_type": "code",
   "execution_count": 3,
   "metadata": {},
   "outputs": [],
   "source": [
    "# establish connection to neo4j graph database\n",
    "graph = Neo4jGraph(\n",
    "    url=\"bolt://localhost:7687\", username=\"admin\", password=\"cran2graph\", database=\"neo4j\"\n",
    ")"
   ]
  },
  {
   "cell_type": "code",
   "execution_count": 4,
   "metadata": {},
   "outputs": [
    {
     "name": "stdout",
     "output_type": "stream",
     "text": [
      "\n",
      "        Node properties are the following:\n",
      "        [{'labels': 'Person', 'properties': [{'property': 'name', 'type': 'STRING'}]}, {'labels': 'Package', 'properties': [{'property': 'latestPublishedDate', 'type': 'STRING'}, {'property': 'name', 'type': 'STRING'}, {'property': 'md5sum', 'type': 'STRING'}, {'property': 'description', 'type': 'STRING'}, {'property': 'license', 'type': 'STRING'}, {'property': 'version', 'type': 'STRING'}]}, {'labels': 'Organization', 'properties': [{'property': 'name', 'type': 'STRING'}]}, {'labels': 'License', 'properties': [{'property': 'type', 'type': 'STRING'}]}, {'labels': 'Institution', 'properties': [{'property': 'type', 'type': 'STRING'}]}]\n",
      "        Relationship properties are the following:\n",
      "        []\n",
      "        The relationships are the following:\n",
      "        ['(:Person)-[:WORKS_AT]->(:Institution)', '(:Person)-[:CONTRIBUTED_TO]->(:Package)', '(:Person)-[:MAINTAINS]->(:Package)', '(:Package)-[:LICENSE_BY]->(:License)', '(:Package)-[:SUPPORTED_BY]->(:Organization)', '(:Package)-[:DEPENDS_ON]->(:Package)']\n",
      "        \n"
     ]
    }
   ],
   "source": [
    "# check the graph schema\n",
    "print(graph.schema)"
   ]
  },
  {
   "cell_type": "code",
   "execution_count": 5,
   "metadata": {},
   "outputs": [],
   "source": [
    "# chain rule\n",
    "chain = GraphCypherQAChain.from_llm(\n",
    "    ChatOpenAI(temperature=0), graph=graph, verbose=True\n",
    ")"
   ]
  },
  {
   "cell_type": "code",
   "execution_count": 8,
   "metadata": {},
   "outputs": [
    {
     "name": "stdout",
     "output_type": "stream",
     "text": [
      "\n",
      "\n",
      "\u001b[1m> Entering new GraphCypherQAChain chain...\u001b[0m\n",
      "Generated Cypher:\n",
      "\u001b[32;1m\u001b[1;3mMATCH (p:Person {name: 'Kirill Müller'})-[:CONTRIBUTED_TO]->(pkg:Package)\n",
      "RETURN pkg.name\u001b[0m\n",
      "Full Context:\n",
      "\u001b[32;1m\u001b[1;3m[{'pkg.name': 'RSQLite'}, {'pkg.name': 'here'}, {'pkg.name': 'RMariaDB'}, {'pkg.name': 'DBI'}, {'pkg.name': 'chk'}, {'pkg.name': 'roxygen2md'}, {'pkg.name': 'mlfit'}, {'pkg.name': 'StrucDiv'}, {'pkg.name': 'term'}, {'pkg.name': 'dm'}]\u001b[0m\n",
      "\n",
      "\u001b[1m> Finished chain.\u001b[0m\n"
     ]
    },
    {
     "data": {
      "text/plain": [
       "'Kirill Müller has contributed to the following packages: RSQLite, here, RMariaDB, DBI, chk, roxygen2md, mlfit, StrucDiv, term, and dm.'"
      ]
     },
     "execution_count": 8,
     "metadata": {},
     "output_type": "execute_result"
    }
   ],
   "source": [
    "chain.run(\"list all packages Kirill Müller contributed to\")"
   ]
  },
  {
   "cell_type": "code",
   "execution_count": 41,
   "metadata": {},
   "outputs": [
    {
     "name": "stdout",
     "output_type": "stream",
     "text": [
      "\n",
      "\n",
      "\u001b[1m> Entering new GraphCypherQAChain chain...\u001b[0m\n",
      "Generated Cypher:\n",
      "\u001b[32;1m\u001b[1;3mMATCH (p:Person {person: 'Jing Zhang'})-[:MAINTAINS]->(pkg:Package)\n",
      "RETURN COUNT(pkg) AS packageCount, pkg.package AS packageName, pkg.published AS publishedDate\u001b[0m\n",
      "Full Context:\n",
      "\u001b[32;1m\u001b[1;3m[{'packageCount': 1, 'packageName': 'do', 'publishedDate': '2021-08-03'}, {'packageCount': 1, 'packageName': 'nomogramFormula', 'publishedDate': '2020-01-28'}]\u001b[0m\n",
      "\n",
      "\u001b[1m> Finished chain.\u001b[0m\n"
     ]
    },
    {
     "data": {
      "text/plain": [
       "'Jing Zhang maintains two packages. The first package is called \"do\" and it was published on August 3, 2021. The second package is called \"nomogramFormula\" and it was published on January 28, 2020.'"
      ]
     },
     "execution_count": 41,
     "metadata": {},
     "output_type": "execute_result"
    }
   ],
   "source": [
    "chain.run(\"how many packages does Jing Zhang maintains and the names and when it was published?\")"
   ]
  },
  {
   "cell_type": "code",
   "execution_count": 42,
   "metadata": {},
   "outputs": [
    {
     "name": "stdout",
     "output_type": "stream",
     "text": [
      "\n",
      "\n",
      "\u001b[1m> Entering new GraphCypherQAChain chain...\u001b[0m\n",
      "Generated Cypher:\n",
      "\u001b[32;1m\u001b[1;3mMATCH (p:Person)-[:CONTRIBUTED_TO]->(pkg:Package)\n",
      "WHERE p.person = 'Dennis Irorere'\n",
      "RETURN pkg.package\u001b[0m\n",
      "Full Context:\n",
      "\u001b[32;1m\u001b[1;3m[{'pkg.package': 'anyflights'}]\u001b[0m\n",
      "\n",
      "\u001b[1m> Finished chain.\u001b[0m\n"
     ]
    },
    {
     "data": {
      "text/plain": [
       "'The name of the package that Dennis Irorere contributed to is \"anyflights\".'"
      ]
     },
     "execution_count": 42,
     "metadata": {},
     "output_type": "execute_result"
    }
   ],
   "source": [
    "chain.run(\"Name of package Dennis Irorere contributed to\")"
   ]
  },
  {
   "cell_type": "code",
   "execution_count": 43,
   "metadata": {},
   "outputs": [
    {
     "name": "stdout",
     "output_type": "stream",
     "text": [
      "\n",
      "\n",
      "\u001b[1m> Entering new GraphCypherQAChain chain...\u001b[0m\n",
      "Generated Cypher:\n",
      "\u001b[32;1m\u001b[1;3mMATCH (p:Person {person: 'Kirill Muller'})-[:CONTRIBUTED_TO]->(pkg:Package)\n",
      "RETURN COUNT(pkg)\u001b[0m\n",
      "Full Context:\n",
      "\u001b[32;1m\u001b[1;3m[{'COUNT(pkg)': 2}]\u001b[0m\n",
      "\n",
      "\u001b[1m> Finished chain.\u001b[0m\n"
     ]
    },
    {
     "data": {
      "text/plain": [
       "'Kirill Muller contributes 2 packages.'"
      ]
     },
     "execution_count": 43,
     "metadata": {},
     "output_type": "execute_result"
    }
   ],
   "source": [
    "chain.run(\"how many packages does Kirill Muller contributes. I might have spelt name wrong\")"
   ]
  },
  {
   "cell_type": "code",
   "execution_count": 10,
   "metadata": {},
   "outputs": [
    {
     "name": "stdout",
     "output_type": "stream",
     "text": [
      "\n",
      "\n",
      "\u001b[1m> Entering new GraphCypherQAChain chain...\u001b[0m\n",
      "Generated Cypher:\n",
      "\u001b[32;1m\u001b[1;3mMATCH (p:Package)\n",
      "WHERE p.description CONTAINS 'osm data processing'\n",
      "RETURN p.name\u001b[0m\n",
      "Full Context:\n",
      "\u001b[32;1m\u001b[1;3m[]\u001b[0m\n",
      "\n",
      "\u001b[1m> Finished chain.\u001b[0m\n"
     ]
    },
    {
     "data": {
      "text/plain": [
       "\"I'm sorry, but without any provided information, I don't have a specific package to recommend for OSM data processing. However, there are several popular packages available for this purpose, such as Osmosis, osmium-tool, and GDAL. These packages offer various functionalities for working with OSM data, including data extraction, filtering, and conversion. It would be helpful to consider your specific requirements and the programming language you are using to determine the most suitable package for your needs.\""
      ]
     },
     "execution_count": 10,
     "metadata": {},
     "output_type": "execute_result"
    }
   ],
   "source": [
    "chain.run(\"what package will you recommend for osm data processing using the description \")"
   ]
  },
  {
   "cell_type": "code",
   "execution_count": 11,
   "metadata": {},
   "outputs": [
    {
     "name": "stdout",
     "output_type": "stream",
     "text": [
      "\n",
      "\n",
      "\u001b[1m> Entering new GraphCypherQAChain chain...\u001b[0m\n",
      "Generated Cypher:\n",
      "\u001b[32;1m\u001b[1;3mMATCH (p1:Package)-[:DEPENDS_ON]->(p2:Package)\n",
      "WITH p2, COUNT(p1) AS dependencyCount\n",
      "ORDER BY dependencyCount DESC\n",
      "LIMIT 1\n",
      "MATCH (p2)<-[:MAINTAINS]-(m:Person)\n",
      "RETURN p2.name AS dependency, m.name AS maintainer\u001b[0m\n",
      "Full Context:\n",
      "\u001b[32;1m\u001b[1;3m[]\u001b[0m\n",
      "\n",
      "\u001b[1m> Finished chain.\u001b[0m\n"
     ]
    },
    {
     "data": {
      "text/plain": [
       "\"I'm sorry, but I don't have access to the information about the dependency with the most packages depending on it and its maintainer.\""
      ]
     },
     "execution_count": 11,
     "metadata": {},
     "output_type": "execute_result"
    }
   ],
   "source": [
    "chain.run(\"what dependency has the most package depending on it and the maintainer\")"
   ]
  },
  {
   "cell_type": "code",
   "execution_count": 46,
   "metadata": {},
   "outputs": [
    {
     "name": "stdout",
     "output_type": "stream",
     "text": [
      "\n",
      "\n",
      "\u001b[1m> Entering new GraphCypherQAChain chain...\u001b[0m\n",
      "Generated Cypher:\n",
      "\u001b[32;1m\u001b[1;3mMATCH (p1:Package)-[:DEPENDS_ON]->(d:Dependency)<-[:DEPENDS_ON]-(p2:Package)\n",
      "WHERE p1.package = 'dplyr'\n",
      "RETURN p2.package, p2.description\u001b[0m\n",
      "Full Context:\n",
      "\u001b[32;1m\u001b[1;3m[{'p2.package': 'dials', 'p2.description': 'Many models contain tuning parameters (i.e. parameters that\\n    cannot be directly estimated from the data). These tools can be used\\n    to define objects for creating, simulating, or validating values for\\n    such parameters.'}, {'p2.package': 'googledrive', 'p2.description': 'Manage Google Drive files from R.'}, {'p2.package': 'retroharmonize', 'p2.description': 'Assist in reproducible retrospective (ex-post) harmonization\\n    of data, particularly individual level survey data, by providing tools\\n    for organizing metadata, standardizing the coding of variables, and\\n    variable names and value labels, including missing values, and\\n    documenting the data transformations, with the help of comprehensive\\n    s3 classes.'}, {'p2.package': 'tidytree', 'p2.description': 'Phylogenetic tree generally contains multiple components including node, edge, branch and associated data. tidytree provides an approach to convert tree object to tidy data frame as well as provides tidy interfaces to manipulate tree data.'}, {'p2.package': 'bupaR', 'p2.description': 'Comprehensive Business Process Analysis toolkit. Creates S3-class for event log objects, and related handler functions. Imports related packages for filtering event data, computation of descriptive statistics, handling of Petri Net objects and visualization of process maps. See also packages edeaR,processmapR, eventdataR and processmonitR.'}, {'p2.package': 'dbplyr', 'p2.description': 'A dplyr back end for databases that allows you to work with\\n    remote database tables as if they are in-memory data frames.  Basic\\n    features works with any database that has a DBI back end; more\\n    advanced features require SQL translation to be provided by the\\n    package author.'}, {'p2.package': 'parttime', 'p2.description': '\\n    Datetimes and timestamps are invariably an imprecise notation, with any\\n    partial representation implying some amount of uncertainty. To handle this,\\n    parttime provides classes for embedding partial missingness as a central\\n    part of its datetime classes. This central feature allows for more ergonomic\\n    use of datetimes for challenging datetime computation, including\\n    calculations of overlapping date ranges, imputations, and more thoughtful\\n    handling of ambiguity that arises from uncertain time zones. This package was\\n    developed first and foremost with pharmaceutical applications in mind, but\\n    aims to be agnostic to application to accommodate general use cases just as\\n    conveniently.'}, {'p2.package': 'cubelyr', 'p2.description': 'An implementation of a data cube extracted out of dplyr for\\n    backward compatibility.'}, {'p2.package': 'tidygraph', 'p2.description': 'A graph, while not tidy in itself, can be thought of as two tidy\\n    data frames describing node and edge data respectively. tidygraph\\n    provides an approach to manipulate these two virtual data frames using the\\n    API defined in the dplyr package, as well as provides tidy interfaces to \\n    a lot of common graph algorithms.'}, {'p2.package': 'yamlet', 'p2.description': 'A YAML-based\\n mechanism for working with table metadata. Supports\\n compact syntax for creating, modifying, viewing, exporting,\\n importing, displaying, and plotting metadata coded as column \\n attributes. The yamlet dialect is valid YAML with\\n defaults and conventions chosen to improve readability. \\n See ?yamlet, ?decorate, ?modify, ?io_csv, and ?ggplot.decorated.'}]\u001b[0m\n",
      "\n",
      "\u001b[1m> Finished chain.\u001b[0m\n"
     ]
    },
    {
     "data": {
      "text/plain": [
       "'Based on the description properties, an alternative package for dplyr could be \"dbplyr\". It is a dplyr back end for databases that allows you to work with remote database tables as if they are in-memory data frames. While basic features work with any database that has a DBI back end, more advanced features require SQL translation to be provided by the package author.'"
      ]
     },
     "execution_count": 46,
     "metadata": {},
     "output_type": "execute_result"
    }
   ],
   "source": [
    "chain.run(\"using description properties recommend an alternative package for dplyr\")"
   ]
  }
 ],
 "metadata": {
  "kernelspec": {
   "display_name": "venv",
   "language": "python",
   "name": "python3"
  },
  "language_info": {
   "codemirror_mode": {
    "name": "ipython",
    "version": 3
   },
   "file_extension": ".py",
   "mimetype": "text/x-python",
   "name": "python",
   "nbconvert_exporter": "python",
   "pygments_lexer": "ipython3",
   "version": "3.11.4"
  }
 },
 "nbformat": 4,
 "nbformat_minor": 2
}
