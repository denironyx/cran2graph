{
 "cells": [
  {
   "cell_type": "markdown",
   "metadata": {},
   "source": [
    "## Loading data into neo4j\n"
   ]
  },
  {
   "cell_type": "code",
   "execution_count": 5,
   "metadata": {},
   "outputs": [],
   "source": [
    "from neo4j import GraphDatabase\n",
    "\n",
    "class Neo4jConnect:\n",
    "    def __init__(self, user, password):\n",
    "        self.driver = GraphDatabase.driver(\"bolt://localhost:7687\", auth=(user, password))\n",
    "        self.user = user\n",
    "    def close(self):\n",
    "        self.driver.close()\n",
    "        \n",
    "    def query(self, query):\n",
    "        session = self.driver.session(database=\"cran\")\n",
    "        result = session.run(query)\n",
    "        return result\n",
    "    \n",
    "    def clean_database(self):\n",
    "        \"\"\"\n",
    "        Delete all nodes and edge in Neo4j test container\n",
    "        \"\"\"\n",
    "        q = \"MATCH (n) DETACH DELETE (n)\"\n",
    "        try:\n",
    "            session = self.driver.session()\n",
    "            session.run(q)\n",
    "        except Exception as e:\n",
    "            print(e)\n",
    "    \n",
    "    def test_neo4j_connection(self):\n",
    "        \"\"\"Test neo4j connection\n",
    "        \"\"\"\n",
    "        session = self.driver.session()\n",
    "        result = session.run(\"Match () Return 1 Limit 1\")\n",
    "        return result\n",
    "    def __str__(self):\n",
    "        return f'Connection successful for user: {self.user}.\\nConnected to Neo4J database uri: {self.uri}'\n",
    "    \n",
    "connection = Neo4jConnect('admin', 'cran2graph')"
   ]
  },
  {
   "cell_type": "code",
   "execution_count": null,
   "metadata": {},
   "outputs": [],
   "source": [
    "from graphutils.utils import Neo4jConnect\n",
    "\n",
    "connection = Neo4jConnect('admin', 'cran2graph')\n",
    "\n",
    "# Create a constraint on 'Package' nodes based on the 'package' property\n",
    "constraint_package_query = \"CREATE CONSTRAINT IF NOT EXISTS FOR (p:Package) REQUIRE p.package IS UNIQUE\"\n",
    "\n",
    "# Create a constraint on 'Person' nodes based on the 'person' property\n",
    "constraint_person_query = \"CREATE CONSTRAINT IF NOT EXISTS FOR (a:Person) REQUIRE a.person IS UNIQUE\"\n",
    "\n",
    "# Create an index on the 'person' property of 'Person' nodes\n",
    "person_index_query = \"CREATE INDEX IF NOT EXISTS FOR :Person(person)\""
   ]
  },
  {
   "cell_type": "code",
   "execution_count": 5,
   "metadata": {},
   "outputs": [
    {
     "name": "stderr",
     "output_type": "stream",
     "text": [
      "--- Logging error ---\n",
      "Traceback (most recent call last):\n",
      "  File \"c:\\Users\\Dee\\root\\Projects\\dev\\cran2graph\\scripts\\graphutils\\utils.py\", line 48, in get_neo4j_connection\n",
      "    driver.verify_connectivity()\n",
      "  File \"c:\\Users\\Dee\\root\\Projects\\dev\\cran2graph\\venv\\Lib\\site-packages\\neo4j\\_sync\\driver.py\", line 985, in verify_connectivity\n",
      "    self._get_server_info(session_config)\n",
      "  File \"c:\\Users\\Dee\\root\\Projects\\dev\\cran2graph\\venv\\Lib\\site-packages\\neo4j\\_sync\\driver.py\", line 1200, in _get_server_info\n",
      "    return session._get_server_info()\n",
      "           ^^^^^^^^^^^^^^^^^^^^^^^^^^\n",
      "  File \"c:\\Users\\Dee\\root\\Projects\\dev\\cran2graph\\venv\\Lib\\site-packages\\neo4j\\_sync\\work\\session.py\", line 175, in _get_server_info\n",
      "    self._connect(READ_ACCESS, liveness_check_timeout=0)\n",
      "  File \"c:\\Users\\Dee\\root\\Projects\\dev\\cran2graph\\venv\\Lib\\site-packages\\neo4j\\_sync\\work\\session.py\", line 133, in _connect\n",
      "    super()._connect(\n",
      "  File \"c:\\Users\\Dee\\root\\Projects\\dev\\cran2graph\\venv\\Lib\\site-packages\\neo4j\\_sync\\work\\workspace.py\", line 178, in _connect\n",
      "    self._connection = self._pool.acquire(**acquire_kwargs_)\n",
      "                       ^^^^^^^^^^^^^^^^^^^^^^^^^^^^^^^^^^^^^\n",
      "  File \"c:\\Users\\Dee\\root\\Projects\\dev\\cran2graph\\venv\\Lib\\site-packages\\neo4j\\_sync\\io\\_pool.py\", line 528, in acquire\n",
      "    return self._acquire(\n",
      "           ^^^^^^^^^^^^^^\n",
      "  File \"c:\\Users\\Dee\\root\\Projects\\dev\\cran2graph\\venv\\Lib\\site-packages\\neo4j\\_sync\\io\\_pool.py\", line 315, in _acquire\n",
      "    return connection_creator()\n",
      "           ^^^^^^^^^^^^^^^^^^^^\n",
      "  File \"c:\\Users\\Dee\\root\\Projects\\dev\\cran2graph\\venv\\Lib\\site-packages\\neo4j\\_sync\\io\\_pool.py\", line 167, in connection_creator\n",
      "    connection = self.opener(\n",
      "                 ^^^^^^^^^^^^\n",
      "  File \"c:\\Users\\Dee\\root\\Projects\\dev\\cran2graph\\venv\\Lib\\site-packages\\neo4j\\_sync\\io\\_pool.py\", line 502, in opener\n",
      "    return Bolt.open(\n",
      "           ^^^^^^^^^^\n",
      "  File \"c:\\Users\\Dee\\root\\Projects\\dev\\cran2graph\\venv\\Lib\\site-packages\\neo4j\\_sync\\io\\_bolt.py\", line 489, in open\n",
      "    connection.hello()\n",
      "  File \"c:\\Users\\Dee\\root\\Projects\\dev\\cran2graph\\venv\\Lib\\site-packages\\neo4j\\_sync\\io\\_bolt5.py\", line 161, in hello\n",
      "    self.fetch_all()\n",
      "  File \"c:\\Users\\Dee\\root\\Projects\\dev\\cran2graph\\venv\\Lib\\site-packages\\neo4j\\_sync\\io\\_bolt.py\", line 865, in fetch_all\n",
      "    detail_delta, summary_delta = self.fetch_message()\n",
      "                                  ^^^^^^^^^^^^^^^^^^^^\n",
      "  File \"c:\\Users\\Dee\\root\\Projects\\dev\\cran2graph\\venv\\Lib\\site-packages\\neo4j\\_sync\\io\\_bolt.py\", line 851, in fetch_message\n",
      "    res = self._process_message(tag, fields)\n",
      "          ^^^^^^^^^^^^^^^^^^^^^^^^^^^^^^^^^^\n",
      "  File \"c:\\Users\\Dee\\root\\Projects\\dev\\cran2graph\\venv\\Lib\\site-packages\\neo4j\\_sync\\io\\_bolt5.py\", line 376, in _process_message\n",
      "    response.on_failure(summary_metadata or {})\n",
      "  File \"c:\\Users\\Dee\\root\\Projects\\dev\\cran2graph\\venv\\Lib\\site-packages\\neo4j\\_sync\\io\\_common.py\", line 271, in on_failure\n",
      "    raise Neo4jError.hydrate(**metadata)\n",
      "neo4j.exceptions.AuthError: {code: Neo.ClientError.Security.Unauthorized} {message: The client is unauthorized due to authentication failure.}\n",
      "\n",
      "During handling of the above exception, another exception occurred:\n",
      "\n",
      "Traceback (most recent call last):\n",
      "  File \"C:\\Python311\\Lib\\logging\\__init__.py\", line 1110, in emit\n",
      "    msg = self.format(record)\n",
      "          ^^^^^^^^^^^^^^^^^^^\n",
      "  File \"C:\\Python311\\Lib\\logging\\__init__.py\", line 953, in format\n",
      "    return fmt.format(record)\n",
      "           ^^^^^^^^^^^^^^^^^^\n",
      "  File \"C:\\Python311\\Lib\\logging\\__init__.py\", line 687, in format\n",
      "    record.message = record.getMessage()\n",
      "                     ^^^^^^^^^^^^^^^^^^^\n",
      "  File \"C:\\Python311\\Lib\\logging\\__init__.py\", line 377, in getMessage\n",
      "    msg = msg % self.args\n",
      "          ~~~~^~~~~~~~~~~\n",
      "TypeError: not all arguments converted during string formatting\n",
      "Call stack:\n",
      "  File \"<frozen runpy>\", line 198, in _run_module_as_main\n",
      "  File \"<frozen runpy>\", line 88, in _run_code\n",
      "  File \"c:\\Users\\Dee\\root\\Projects\\dev\\cran2graph\\venv\\Lib\\site-packages\\ipykernel_launcher.py\", line 17, in <module>\n",
      "    app.launch_new_instance()\n",
      "  File \"c:\\Users\\Dee\\root\\Projects\\dev\\cran2graph\\venv\\Lib\\site-packages\\traitlets\\config\\application.py\", line 1053, in launch_instance\n",
      "    app.start()\n",
      "  File \"c:\\Users\\Dee\\root\\Projects\\dev\\cran2graph\\venv\\Lib\\site-packages\\ipykernel\\kernelapp.py\", line 736, in start\n",
      "    self.io_loop.start()\n",
      "  File \"c:\\Users\\Dee\\root\\Projects\\dev\\cran2graph\\venv\\Lib\\site-packages\\tornado\\platform\\asyncio.py\", line 195, in start\n",
      "    self.asyncio_loop.run_forever()\n",
      "  File \"C:\\Python311\\Lib\\asyncio\\base_events.py\", line 607, in run_forever\n",
      "    self._run_once()\n",
      "  File \"C:\\Python311\\Lib\\asyncio\\base_events.py\", line 1922, in _run_once\n",
      "    handle._run()\n",
      "  File \"C:\\Python311\\Lib\\asyncio\\events.py\", line 80, in _run\n",
      "    self._context.run(self._callback, *self._args)\n",
      "  File \"c:\\Users\\Dee\\root\\Projects\\dev\\cran2graph\\venv\\Lib\\site-packages\\ipykernel\\kernelbase.py\", line 516, in dispatch_queue\n",
      "    await self.process_one()\n",
      "  File \"c:\\Users\\Dee\\root\\Projects\\dev\\cran2graph\\venv\\Lib\\site-packages\\ipykernel\\kernelbase.py\", line 505, in process_one\n",
      "    await dispatch(*args)\n",
      "  File \"c:\\Users\\Dee\\root\\Projects\\dev\\cran2graph\\venv\\Lib\\site-packages\\ipykernel\\kernelbase.py\", line 412, in dispatch_shell\n",
      "    await result\n",
      "  File \"c:\\Users\\Dee\\root\\Projects\\dev\\cran2graph\\venv\\Lib\\site-packages\\ipykernel\\kernelbase.py\", line 740, in execute_request\n",
      "    reply_content = await reply_content\n",
      "  File \"c:\\Users\\Dee\\root\\Projects\\dev\\cran2graph\\venv\\Lib\\site-packages\\ipykernel\\ipkernel.py\", line 422, in do_execute\n",
      "    res = shell.run_cell(\n",
      "  File \"c:\\Users\\Dee\\root\\Projects\\dev\\cran2graph\\venv\\Lib\\site-packages\\ipykernel\\zmqshell.py\", line 546, in run_cell\n",
      "    return super().run_cell(*args, **kwargs)\n",
      "  File \"c:\\Users\\Dee\\root\\Projects\\dev\\cran2graph\\venv\\Lib\\site-packages\\IPython\\core\\interactiveshell.py\", line 3024, in run_cell\n",
      "    result = self._run_cell(\n",
      "  File \"c:\\Users\\Dee\\root\\Projects\\dev\\cran2graph\\venv\\Lib\\site-packages\\IPython\\core\\interactiveshell.py\", line 3079, in _run_cell\n",
      "    result = runner(coro)\n",
      "  File \"c:\\Users\\Dee\\root\\Projects\\dev\\cran2graph\\venv\\Lib\\site-packages\\IPython\\core\\async_helpers.py\", line 129, in _pseudo_sync_runner\n",
      "    coro.send(None)\n",
      "  File \"c:\\Users\\Dee\\root\\Projects\\dev\\cran2graph\\venv\\Lib\\site-packages\\IPython\\core\\interactiveshell.py\", line 3284, in run_cell_async\n",
      "    has_raised = await self.run_ast_nodes(code_ast.body, cell_name,\n",
      "  File \"c:\\Users\\Dee\\root\\Projects\\dev\\cran2graph\\venv\\Lib\\site-packages\\IPython\\core\\interactiveshell.py\", line 3466, in run_ast_nodes\n",
      "    if await self.run_code(code, result, async_=asy):\n",
      "  File \"c:\\Users\\Dee\\root\\Projects\\dev\\cran2graph\\venv\\Lib\\site-packages\\IPython\\core\\interactiveshell.py\", line 3526, in run_code\n",
      "    exec(code_obj, self.user_global_ns, self.user_ns)\n",
      "  File \"C:\\Users\\Dee\\AppData\\Local\\Temp\\ipykernel_180696\\1302284539.py\", line 2, in <module>\n",
      "    db_session = get_neo4j_connection()\n",
      "  File \"c:\\Users\\Dee\\root\\Projects\\dev\\cran2graph\\scripts\\graphutils\\utils.py\", line 52, in get_neo4j_connection\n",
      "    logging.error(\"Failed to establish session to neo4j\", connection_error)\n",
      "Message: 'Failed to establish session to neo4j'\n",
      "Arguments: (AuthError('The client is unauthorized due to authentication failure.'),)\n"
     ]
    },
    {
     "ename": "UnboundLocalError",
     "evalue": "cannot access local variable 'session' where it is not associated with a value",
     "output_type": "error",
     "traceback": [
      "\u001b[1;31m---------------------------------------------------------------------------\u001b[0m",
      "\u001b[1;31mAuthError\u001b[0m                                 Traceback (most recent call last)",
      "File \u001b[1;32mc:\\Users\\Dee\\root\\Projects\\dev\\cran2graph\\scripts\\graphutils\\utils.py:48\u001b[0m, in \u001b[0;36mget_neo4j_connection\u001b[1;34m(address)\u001b[0m\n\u001b[0;32m     47\u001b[0m \u001b[39mtry\u001b[39;00m:\n\u001b[1;32m---> 48\u001b[0m     driver\u001b[39m.\u001b[39;49mverify_connectivity()\n\u001b[0;32m     49\u001b[0m     session \u001b[39m=\u001b[39m driver\u001b[39m.\u001b[39msession(database\u001b[39m=\u001b[39m\u001b[39m\"\u001b[39m\u001b[39mneo4j\u001b[39m\u001b[39m\"\u001b[39m)\n",
      "File \u001b[1;32mc:\\Users\\Dee\\root\\Projects\\dev\\cran2graph\\venv\\Lib\\site-packages\\neo4j\\_sync\\driver.py:985\u001b[0m, in \u001b[0;36mDriver.verify_connectivity\u001b[1;34m(self, **config)\u001b[0m\n\u001b[0;32m    984\u001b[0m session_config \u001b[39m=\u001b[39m \u001b[39mself\u001b[39m\u001b[39m.\u001b[39m_read_session_config(config)\n\u001b[1;32m--> 985\u001b[0m \u001b[39mself\u001b[39;49m\u001b[39m.\u001b[39;49m_get_server_info(session_config)\n",
      "File \u001b[1;32mc:\\Users\\Dee\\root\\Projects\\dev\\cran2graph\\venv\\Lib\\site-packages\\neo4j\\_sync\\driver.py:1200\u001b[0m, in \u001b[0;36mDriver._get_server_info\u001b[1;34m(self, session_config)\u001b[0m\n\u001b[0;32m   1199\u001b[0m \u001b[39mwith\u001b[39;00m \u001b[39mself\u001b[39m\u001b[39m.\u001b[39m_session(session_config) \u001b[39mas\u001b[39;00m session:\n\u001b[1;32m-> 1200\u001b[0m     \u001b[39mreturn\u001b[39;00m session\u001b[39m.\u001b[39;49m_get_server_info()\n",
      "File \u001b[1;32mc:\\Users\\Dee\\root\\Projects\\dev\\cran2graph\\venv\\Lib\\site-packages\\neo4j\\_sync\\work\\session.py:175\u001b[0m, in \u001b[0;36mSession._get_server_info\u001b[1;34m(self)\u001b[0m\n\u001b[0;32m    174\u001b[0m \u001b[39massert\u001b[39;00m \u001b[39mnot\u001b[39;00m \u001b[39mself\u001b[39m\u001b[39m.\u001b[39m_connection\n\u001b[1;32m--> 175\u001b[0m \u001b[39mself\u001b[39;49m\u001b[39m.\u001b[39;49m_connect(READ_ACCESS, liveness_check_timeout\u001b[39m=\u001b[39;49m\u001b[39m0\u001b[39;49m)\n\u001b[0;32m    176\u001b[0m server_info \u001b[39m=\u001b[39m \u001b[39mself\u001b[39m\u001b[39m.\u001b[39m_connection\u001b[39m.\u001b[39mserver_info\n",
      "File \u001b[1;32mc:\\Users\\Dee\\root\\Projects\\dev\\cran2graph\\venv\\Lib\\site-packages\\neo4j\\_sync\\work\\session.py:133\u001b[0m, in \u001b[0;36mSession._connect\u001b[1;34m(self, access_mode, **acquire_kwargs)\u001b[0m\n\u001b[0;32m    132\u001b[0m \u001b[39mtry\u001b[39;00m:\n\u001b[1;32m--> 133\u001b[0m     \u001b[39msuper\u001b[39;49m()\u001b[39m.\u001b[39;49m_connect(\n\u001b[0;32m    134\u001b[0m         access_mode, auth\u001b[39m=\u001b[39;49m\u001b[39mself\u001b[39;49m\u001b[39m.\u001b[39;49m_config\u001b[39m.\u001b[39;49mauth, \u001b[39m*\u001b[39;49m\u001b[39m*\u001b[39;49macquire_kwargs\n\u001b[0;32m    135\u001b[0m     )\n\u001b[0;32m    136\u001b[0m \u001b[39mexcept\u001b[39;00m asyncio\u001b[39m.\u001b[39mCancelledError:\n",
      "File \u001b[1;32mc:\\Users\\Dee\\root\\Projects\\dev\\cran2graph\\venv\\Lib\\site-packages\\neo4j\\_sync\\work\\workspace.py:178\u001b[0m, in \u001b[0;36mWorkspace._connect\u001b[1;34m(self, access_mode, auth, **acquire_kwargs)\u001b[0m\n\u001b[0;32m    177\u001b[0m acquire_kwargs_\u001b[39m.\u001b[39mupdate(acquire_kwargs)\n\u001b[1;32m--> 178\u001b[0m \u001b[39mself\u001b[39m\u001b[39m.\u001b[39m_connection \u001b[39m=\u001b[39m \u001b[39mself\u001b[39;49m\u001b[39m.\u001b[39;49m_pool\u001b[39m.\u001b[39;49macquire(\u001b[39m*\u001b[39;49m\u001b[39m*\u001b[39;49macquire_kwargs_)\n\u001b[0;32m    179\u001b[0m \u001b[39mself\u001b[39m\u001b[39m.\u001b[39m_connection_access_mode \u001b[39m=\u001b[39m access_mode\n",
      "File \u001b[1;32mc:\\Users\\Dee\\root\\Projects\\dev\\cran2graph\\venv\\Lib\\site-packages\\neo4j\\_sync\\io\\_pool.py:528\u001b[0m, in \u001b[0;36mBoltPool.acquire\u001b[1;34m(self, access_mode, timeout, database, bookmarks, auth, liveness_check_timeout)\u001b[0m\n\u001b[0;32m    527\u001b[0m deadline \u001b[39m=\u001b[39m Deadline\u001b[39m.\u001b[39mfrom_timeout_or_deadline(timeout)\n\u001b[1;32m--> 528\u001b[0m \u001b[39mreturn\u001b[39;00m \u001b[39mself\u001b[39;49m\u001b[39m.\u001b[39;49m_acquire(\n\u001b[0;32m    529\u001b[0m     \u001b[39mself\u001b[39;49m\u001b[39m.\u001b[39;49maddress, auth, deadline, liveness_check_timeout\n\u001b[0;32m    530\u001b[0m )\n",
      "File \u001b[1;32mc:\\Users\\Dee\\root\\Projects\\dev\\cran2graph\\venv\\Lib\\site-packages\\neo4j\\_sync\\io\\_pool.py:315\u001b[0m, in \u001b[0;36mIOPool._acquire\u001b[1;34m(self, address, auth, deadline, liveness_check_timeout)\u001b[0m\n\u001b[0;32m    314\u001b[0m log\u001b[39m.\u001b[39mdebug(\u001b[39m\"\u001b[39m\u001b[39m[#0000]  _: <POOL> trying to hand out new connection\u001b[39m\u001b[39m\"\u001b[39m)\n\u001b[1;32m--> 315\u001b[0m \u001b[39mreturn\u001b[39;00m connection_creator()\n",
      "File \u001b[1;32mc:\\Users\\Dee\\root\\Projects\\dev\\cran2graph\\venv\\Lib\\site-packages\\neo4j\\_sync\\io\\_pool.py:167\u001b[0m, in \u001b[0;36mIOPool._acquire_new_later.<locals>.connection_creator\u001b[1;34m()\u001b[0m\n\u001b[0;32m    166\u001b[0m \u001b[39mtry\u001b[39;00m:\n\u001b[1;32m--> 167\u001b[0m     connection \u001b[39m=\u001b[39m \u001b[39mself\u001b[39;49m\u001b[39m.\u001b[39;49mopener(\n\u001b[0;32m    168\u001b[0m         address, auth \u001b[39mor\u001b[39;49;00m \u001b[39mself\u001b[39;49m\u001b[39m.\u001b[39;49mpool_config\u001b[39m.\u001b[39;49mauth, deadline\n\u001b[0;32m    169\u001b[0m     )\n\u001b[0;32m    170\u001b[0m \u001b[39mexcept\u001b[39;00m ServiceUnavailable:\n",
      "File \u001b[1;32mc:\\Users\\Dee\\root\\Projects\\dev\\cran2graph\\venv\\Lib\\site-packages\\neo4j\\_sync\\io\\_pool.py:502\u001b[0m, in \u001b[0;36mBoltPool.open.<locals>.opener\u001b[1;34m(addr, auth_manager, deadline)\u001b[0m\n\u001b[0;32m    501\u001b[0m \u001b[39mdef\u001b[39;00m \u001b[39mopener\u001b[39m(addr, auth_manager, deadline):\n\u001b[1;32m--> 502\u001b[0m     \u001b[39mreturn\u001b[39;00m Bolt\u001b[39m.\u001b[39;49mopen(\n\u001b[0;32m    503\u001b[0m         addr, auth_manager\u001b[39m=\u001b[39;49mauth_manager, deadline\u001b[39m=\u001b[39;49mdeadline,\n\u001b[0;32m    504\u001b[0m         routing_context\u001b[39m=\u001b[39;49m\u001b[39mNone\u001b[39;49;00m, pool_config\u001b[39m=\u001b[39;49mpool_config\n\u001b[0;32m    505\u001b[0m     )\n",
      "File \u001b[1;32mc:\\Users\\Dee\\root\\Projects\\dev\\cran2graph\\venv\\Lib\\site-packages\\neo4j\\_sync\\io\\_bolt.py:489\u001b[0m, in \u001b[0;36mBolt.open\u001b[1;34m(cls, address, auth_manager, deadline, routing_context, pool_config)\u001b[0m\n\u001b[0;32m    488\u001b[0m \u001b[39mtry\u001b[39;00m:\n\u001b[1;32m--> 489\u001b[0m     connection\u001b[39m.\u001b[39;49mhello()\n\u001b[0;32m    490\u001b[0m \u001b[39mfinally\u001b[39;00m:\n",
      "File \u001b[1;32mc:\\Users\\Dee\\root\\Projects\\dev\\cran2graph\\venv\\Lib\\site-packages\\neo4j\\_sync\\io\\_bolt5.py:161\u001b[0m, in \u001b[0;36mBolt5x0.hello\u001b[1;34m(self, dehydration_hooks, hydration_hooks)\u001b[0m\n\u001b[0;32m    160\u001b[0m \u001b[39mself\u001b[39m\u001b[39m.\u001b[39msend_all()\n\u001b[1;32m--> 161\u001b[0m \u001b[39mself\u001b[39;49m\u001b[39m.\u001b[39;49mfetch_all()\n\u001b[0;32m    162\u001b[0m check_supported_server_product(\u001b[39mself\u001b[39m\u001b[39m.\u001b[39mserver_info\u001b[39m.\u001b[39magent)\n",
      "File \u001b[1;32mc:\\Users\\Dee\\root\\Projects\\dev\\cran2graph\\venv\\Lib\\site-packages\\neo4j\\_sync\\io\\_bolt.py:865\u001b[0m, in \u001b[0;36mBolt.fetch_all\u001b[1;34m(self)\u001b[0m\n\u001b[0;32m    864\u001b[0m \u001b[39mwhile\u001b[39;00m \u001b[39mnot\u001b[39;00m response\u001b[39m.\u001b[39mcomplete:\n\u001b[1;32m--> 865\u001b[0m     detail_delta, summary_delta \u001b[39m=\u001b[39m \u001b[39mself\u001b[39;49m\u001b[39m.\u001b[39;49mfetch_message()\n\u001b[0;32m    866\u001b[0m     detail_count \u001b[39m+\u001b[39m\u001b[39m=\u001b[39m detail_delta\n",
      "File \u001b[1;32mc:\\Users\\Dee\\root\\Projects\\dev\\cran2graph\\venv\\Lib\\site-packages\\neo4j\\_sync\\io\\_bolt.py:851\u001b[0m, in \u001b[0;36mBolt.fetch_message\u001b[1;34m(self)\u001b[0m\n\u001b[0;32m    848\u001b[0m tag, fields \u001b[39m=\u001b[39m \u001b[39mself\u001b[39m\u001b[39m.\u001b[39minbox\u001b[39m.\u001b[39mpop(\n\u001b[0;32m    849\u001b[0m     hydration_hooks\u001b[39m=\u001b[39m\u001b[39mself\u001b[39m\u001b[39m.\u001b[39mresponses[\u001b[39m0\u001b[39m]\u001b[39m.\u001b[39mhydration_hooks\n\u001b[0;32m    850\u001b[0m )\n\u001b[1;32m--> 851\u001b[0m res \u001b[39m=\u001b[39m \u001b[39mself\u001b[39;49m\u001b[39m.\u001b[39;49m_process_message(tag, fields)\n\u001b[0;32m    852\u001b[0m \u001b[39mself\u001b[39m\u001b[39m.\u001b[39midle_since \u001b[39m=\u001b[39m perf_counter()\n",
      "File \u001b[1;32mc:\\Users\\Dee\\root\\Projects\\dev\\cran2graph\\venv\\Lib\\site-packages\\neo4j\\_sync\\io\\_bolt5.py:376\u001b[0m, in \u001b[0;36mBolt5x0._process_message\u001b[1;34m(self, tag, fields)\u001b[0m\n\u001b[0;32m    375\u001b[0m \u001b[39mtry\u001b[39;00m:\n\u001b[1;32m--> 376\u001b[0m     response\u001b[39m.\u001b[39;49mon_failure(summary_metadata \u001b[39mor\u001b[39;49;00m {})\n\u001b[0;32m    377\u001b[0m \u001b[39mexcept\u001b[39;00m (ServiceUnavailable, DatabaseUnavailable):\n",
      "File \u001b[1;32mc:\\Users\\Dee\\root\\Projects\\dev\\cran2graph\\venv\\Lib\\site-packages\\neo4j\\_sync\\io\\_common.py:271\u001b[0m, in \u001b[0;36mInitResponse.on_failure\u001b[1;34m(self, metadata)\u001b[0m\n\u001b[0;32m    267\u001b[0m metadata[\u001b[39m\"\u001b[39m\u001b[39mmessage\u001b[39m\u001b[39m\"\u001b[39m] \u001b[39m=\u001b[39m metadata\u001b[39m.\u001b[39mget(\n\u001b[0;32m    268\u001b[0m     \u001b[39m\"\u001b[39m\u001b[39mmessage\u001b[39m\u001b[39m\"\u001b[39m,\n\u001b[0;32m    269\u001b[0m     \u001b[39m\"\u001b[39m\u001b[39mConnection initialisation failed due to an unknown error\u001b[39m\u001b[39m\"\u001b[39m\n\u001b[0;32m    270\u001b[0m )\n\u001b[1;32m--> 271\u001b[0m \u001b[39mraise\u001b[39;00m Neo4jError\u001b[39m.\u001b[39mhydrate(\u001b[39m*\u001b[39m\u001b[39m*\u001b[39mmetadata)\n",
      "\u001b[1;31mAuthError\u001b[0m: {code: Neo.ClientError.Security.Unauthorized} {message: The client is unauthorized due to authentication failure.}",
      "\nDuring handling of the above exception, another exception occurred:\n",
      "\u001b[1;31mUnboundLocalError\u001b[0m                         Traceback (most recent call last)",
      "\u001b[1;32mc:\\Users\\Dee\\root\\Projects\\dev\\cran2graph\\scripts\\02_Loading_Data_Neo4j.ipynb Cell 3\u001b[0m line \u001b[0;36m2\n\u001b[0;32m      <a href='vscode-notebook-cell:/c%3A/Users/Dee/root/Projects/dev/cran2graph/scripts/02_Loading_Data_Neo4j.ipynb#X12sZmlsZQ%3D%3D?line=0'>1</a>\u001b[0m \u001b[39mfrom\u001b[39;00m \u001b[39mgraphutils\u001b[39;00m\u001b[39m.\u001b[39;00m\u001b[39mutils\u001b[39;00m \u001b[39mimport\u001b[39;00m get_neo4j_connection\n\u001b[1;32m----> <a href='vscode-notebook-cell:/c%3A/Users/Dee/root/Projects/dev/cran2graph/scripts/02_Loading_Data_Neo4j.ipynb#X12sZmlsZQ%3D%3D?line=1'>2</a>\u001b[0m db_session \u001b[39m=\u001b[39m get_neo4j_connection()\n",
      "File \u001b[1;32mc:\\Users\\Dee\\root\\Projects\\dev\\cran2graph\\scripts\\graphutils\\utils.py:53\u001b[0m, in \u001b[0;36mget_neo4j_connection\u001b[1;34m(address)\u001b[0m\n\u001b[0;32m     51\u001b[0m \u001b[39mexcept\u001b[39;00m \u001b[39mException\u001b[39;00m \u001b[39mas\u001b[39;00m connection_error:\n\u001b[0;32m     52\u001b[0m     logging\u001b[39m.\u001b[39merror(\u001b[39m\"\u001b[39m\u001b[39mFailed to establish session to neo4j\u001b[39m\u001b[39m\"\u001b[39m, connection_error)\n\u001b[1;32m---> 53\u001b[0m     session\u001b[39m.\u001b[39mclose()\n\u001b[0;32m     54\u001b[0m     driver\u001b[39m.\u001b[39mclose()\n",
      "\u001b[1;31mUnboundLocalError\u001b[0m: cannot access local variable 'session' where it is not associated with a value"
     ]
    }
   ],
   "source": [
    "from graphutils.utils import get_neo4j_connection\n",
    "db_session = get_neo4j_connection()"
   ]
  },
  {
   "cell_type": "code",
   "execution_count": 2,
   "metadata": {},
   "outputs": [],
   "source": [
    "import neo4j\n",
    "import logging\n",
    "\n",
    "def establish_connection():\n",
    "    driver = neo4j.GraphDatabase.driver(\n",
    "        \"bolt://localhost:7687\", auth=(\"admin\", \"cran2graph\")\n",
    "    )\n",
    "    try:\n",
    "        driver.verify_connectivity()\n",
    "        session = driver.session(database=\"cran\")\n",
    "        return session\n",
    "    except Exception as connection_error:\n",
    "        logging.error(\"Failed to establish session to neo4j\", connection_error)\n",
    "        session.close()\n",
    "        driver.close()  \n",
    "        \n",
    "db_session = establish_connection()\n",
    "db_session.close()"
   ]
  },
  {
   "cell_type": "code",
   "execution_count": 47,
   "metadata": {},
   "outputs": [
    {
     "name": "stdout",
     "output_type": "stream",
     "text": [
      "Creating the constraints with: CREATE CONSTRAINT IF NOT EXISTS FOR (a:Person) REQUIRE a.person IS UNIQUE\n",
      "Creating the constraints with: CREATE CONSTRAINT IF NOT EXISTS FOR (p:Package) REQUIRE p.package IS UNIQUE\n"
     ]
    }
   ],
   "source": [
    "from graphutils.utils import Neo4jConnect\n",
    "connection = Neo4jConnect('admin', 'cran2graph')\n",
    "\n",
    "# Create a constraint on 'Package' nodes based on the 'package' property\n",
    "constraint_package_query = \"CREATE CONSTRAINT IF NOT EXISTS FOR (p:Package) REQUIRE p.package IS UNIQUE\"\n",
    "\n",
    "# Create a constraint on 'Person' nodes based on the 'person' property\n",
    "constraint_person_query = \"CREATE CONSTRAINT IF NOT EXISTS FOR (a:Person) REQUIRE a.person IS UNIQUE\"\n",
    "\n",
    "# Create an index on the 'person' property of 'Person' nodes\n",
    "person_index_query = \"CREATE INDEX ON :Person(person)\"\n",
    "\n",
    "constraints = [constraint_person_query, constraint_package_query]\n",
    "\n",
    "# for constraint in constraints:\n",
    "#     print(f\"Creating the constraints with: {constraint}\")\n",
    "#     connection.query(constraint)\n",
    "# connection.close()\n",
    "\n",
    "\n",
    "db_session = establish_connection()\n",
    "\n",
    "for constraint in constraints:\n",
    "    print(f\"Creating the constraints with: {constraint}\")\n",
    "    db_session.run(constraint)\n",
    "db_session.close()\n",
    "    "
   ]
  },
  {
   "cell_type": "code",
   "execution_count": null,
   "metadata": {},
   "outputs": [],
   "source": [
    "## Loading package nodes from csv file\n",
    "load_package_query = \"\"\"\n",
    "// Load 'Package' nodes from the CSV file\n",
    "LOAD CSV WITH HEADERS FROM 'file:///cran_process_data.csv' AS row\n",
    "CALL {\n",
    "    WITH row\n",
    "    MERGE (p:Package {\n",
    "        package: row.package,\n",
    "        version: row.version,\n",
    "        license: row.license,\n",
    "        md5sum: row.md5sum,\n",
    "        description: row.description,\n",
    "        published: row.published_date\n",
    "    })\n",
    "    ON CREATE SET\n",
    "        p.package = row.package,\n",
    "        p.version = row.version,\n",
    "        p.license = row.license,\n",
    "        p.md5sum = row.md5sum,\n",
    "        p.description = row.description,\n",
    "        p.published = row.published_date\n",
    "    ON MATCH SET\n",
    "        p.package = row.package,\n",
    "        p.version = row.version,\n",
    "        p.license = row.license,\n",
    "        p.md5sum = row.md5sum,\n",
    "        p.description = row.description,\n",
    "        p.published = row.published_date\n",
    "} IN TRANSACTIONS OF 10000 ROWS;\n",
    "\"\"\"\n",
    "print(f\"loading query....\")\n",
    "db_session.run(load_package_query)\n",
    "db_session.close()\n",
    "print(f\"end operation....\")"
   ]
  },
  {
   "cell_type": "code",
   "execution_count": 53,
   "metadata": {},
   "outputs": [
    {
     "name": "stdout",
     "output_type": "stream",
     "text": [
      "loading query....\n",
      "end operation....\n"
     ]
    }
   ],
   "source": [
    "## THis fix the issue\n",
    "## Loading package nodes from csv file\n",
    "load_package_query = \"\"\"\n",
    "// Load 'Package' nodes from the CSV file\n",
    "LOAD CSV WITH HEADERS FROM 'file:///cran_process_data.csv' AS row\n",
    "CALL {\n",
    "    WITH row\n",
    "    MERGE (p:Package {package: row.package})\n",
    "    ON CREATE SET\n",
    "        p.version = row.version,\n",
    "        p.license = row.license,\n",
    "        p.md5sum = row.md5sum,\n",
    "        p.description = row.description,\n",
    "        p.published = row.published_date\n",
    "    ON MATCH SET\n",
    "        p.version = row.version,\n",
    "        p.license = row.license,\n",
    "        p.md5sum = row.md5sum,\n",
    "        p.description = row.description,\n",
    "        p.published = row.published_date\n",
    "} IN TRANSACTIONS OF 10000 ROWS;\n",
    "\"\"\"\n",
    "print(f\"loading query....\")\n",
    "db_session.run(load_package_query)\n",
    "db_session.close()\n",
    "print(f\"end operation....\")"
   ]
  },
  {
   "cell_type": "code",
   "execution_count": 33,
   "metadata": {},
   "outputs": [
    {
     "name": "stdout",
     "output_type": "stream",
     "text": [
      "loading query....\n",
      "end operation....\n"
     ]
    }
   ],
   "source": [
    "## Loading package nodes from csv file\n",
    "load_package_query = \"\"\"\n",
    "// Load 'Package' nodes from the CSV file\n",
    "LOAD CSV WITH HEADERS FROM 'file:///cran_process_data.csv' AS row\n",
    "CALL {\n",
    "    WITH row\n",
    "    MERGE (p:Package {\n",
    "        package: row.package,\n",
    "        version: row.version,\n",
    "        license: row.license,\n",
    "        md5sum: row.md5sum,\n",
    "        description: row.description,\n",
    "        published: row.published_date\n",
    "    })\n",
    "    ON CREATE SET\n",
    "        package = row.package,\n",
    "        version = row.version,\n",
    "        license = row.license,\n",
    "        md5sum = row.md5sum,\n",
    "        description = row.description\n",
    "        published = row.published_date\n",
    "    ON MATCH SET\n",
    "        package = row.package,\n",
    "        version = row.version,\n",
    "        license = row.license,\n",
    "        md5sum = row.md5sum,\n",
    "        description = row.description\n",
    "        published = row.published_date\n",
    "} IN TRANSACTIONS OF 10000 ROWS;\n",
    "\"\"\"\n",
    "print(f\"loading query....\")\n",
    "connection.query(load_package_query)\n",
    "connection.close()\n",
    "print(f\"end operation....\")"
   ]
  },
  {
   "cell_type": "code",
   "execution_count": 6,
   "metadata": {},
   "outputs": [
    {
     "name": "stdout",
     "output_type": "stream",
     "text": [
      "loading query....\n",
      "end operation....\n"
     ]
    }
   ],
   "source": [
    "## working comment\n",
    "## Loading person nodes from csv file\n",
    "load_person_query = \"\"\"\n",
    "// Load 'person' nodes from the CSV file\n",
    "LOAD CSV WITH HEADERS FROM 'file:///cran_process_data.csv' AS row\n",
    "CALL {\n",
    "    WITH row\n",
    "    MERGE (a:Person {\n",
    "        person: COALESCE(row.author, \"N/A\")\n",
    "    })\n",
    "} IN TRANSACTIONS OF 10000 ROWS;\n",
    "\"\"\"\n",
    "print(f\"loading query....\")\n",
    "connection.query(load_person_query)\n",
    "connection.close()\n",
    "print(f\"end operation....\")"
   ]
  },
  {
   "cell_type": "code",
   "execution_count": 56,
   "metadata": {},
   "outputs": [],
   "source": [
    "db_session.close()"
   ]
  },
  {
   "cell_type": "code",
   "execution_count": 3,
   "metadata": {},
   "outputs": [
    {
     "name": "stdout",
     "output_type": "stream",
     "text": [
      "loading query....\n"
     ]
    },
    {
     "ename": "SessionError",
     "evalue": "Session closed",
     "output_type": "error",
     "traceback": [
      "\u001b[1;31m---------------------------------------------------------------------------\u001b[0m",
      "\u001b[1;31mSessionError\u001b[0m                              Traceback (most recent call last)",
      "\u001b[1;32mc:\\Users\\Dee\\root\\Projects\\dev\\cran2graph\\scripts\\02_Loading_Data_Neo4j copy.ipynb Cell 11\u001b[0m line \u001b[0;36m1\n\u001b[0;32m      <a href='vscode-notebook-cell:/c%3A/Users/Dee/root/Projects/dev/cran2graph/scripts/02_Loading_Data_Neo4j%20copy.ipynb#X13sZmlsZQ%3D%3D?line=3'>4</a>\u001b[0m load_person_query \u001b[39m=\u001b[39m \u001b[39m\"\"\"\u001b[39m\n\u001b[0;32m      <a href='vscode-notebook-cell:/c%3A/Users/Dee/root/Projects/dev/cran2graph/scripts/02_Loading_Data_Neo4j%20copy.ipynb#X13sZmlsZQ%3D%3D?line=4'>5</a>\u001b[0m \u001b[39m// Load \u001b[39m\u001b[39m'\u001b[39m\u001b[39mperson\u001b[39m\u001b[39m'\u001b[39m\u001b[39m nodes from the CSV file\u001b[39m\n\u001b[0;32m      <a href='vscode-notebook-cell:/c%3A/Users/Dee/root/Projects/dev/cran2graph/scripts/02_Loading_Data_Neo4j%20copy.ipynb#X13sZmlsZQ%3D%3D?line=5'>6</a>\u001b[0m \u001b[39mLOAD CSV WITH HEADERS FROM \u001b[39m\u001b[39m'\u001b[39m\u001b[39mfile:///cran_process_data.csv\u001b[39m\u001b[39m'\u001b[39m\u001b[39m AS row\u001b[39m\n\u001b[1;32m   (...)\u001b[0m\n\u001b[0;32m     <a href='vscode-notebook-cell:/c%3A/Users/Dee/root/Projects/dev/cran2graph/scripts/02_Loading_Data_Neo4j%20copy.ipynb#X13sZmlsZQ%3D%3D?line=11'>12</a>\u001b[0m \u001b[39m} IN TRANSACTIONS OF 10000 ROWS;\u001b[39m\n\u001b[0;32m     <a href='vscode-notebook-cell:/c%3A/Users/Dee/root/Projects/dev/cran2graph/scripts/02_Loading_Data_Neo4j%20copy.ipynb#X13sZmlsZQ%3D%3D?line=12'>13</a>\u001b[0m \u001b[39m\"\"\"\u001b[39m\n\u001b[0;32m     <a href='vscode-notebook-cell:/c%3A/Users/Dee/root/Projects/dev/cran2graph/scripts/02_Loading_Data_Neo4j%20copy.ipynb#X13sZmlsZQ%3D%3D?line=13'>14</a>\u001b[0m \u001b[39mprint\u001b[39m(\u001b[39mf\u001b[39m\u001b[39m\"\u001b[39m\u001b[39mloading query....\u001b[39m\u001b[39m\"\u001b[39m)\n\u001b[1;32m---> <a href='vscode-notebook-cell:/c%3A/Users/Dee/root/Projects/dev/cran2graph/scripts/02_Loading_Data_Neo4j%20copy.ipynb#X13sZmlsZQ%3D%3D?line=14'>15</a>\u001b[0m db_session\u001b[39m.\u001b[39;49mrun(load_person_query)\n\u001b[0;32m     <a href='vscode-notebook-cell:/c%3A/Users/Dee/root/Projects/dev/cran2graph/scripts/02_Loading_Data_Neo4j%20copy.ipynb#X13sZmlsZQ%3D%3D?line=15'>16</a>\u001b[0m db_session\u001b[39m.\u001b[39mclose()\n\u001b[0;32m     <a href='vscode-notebook-cell:/c%3A/Users/Dee/root/Projects/dev/cran2graph/scripts/02_Loading_Data_Neo4j%20copy.ipynb#X13sZmlsZQ%3D%3D?line=16'>17</a>\u001b[0m \u001b[39mprint\u001b[39m(\u001b[39mf\u001b[39m\u001b[39m\"\u001b[39m\u001b[39mend operation....\u001b[39m\u001b[39m\"\u001b[39m)\n",
      "File \u001b[1;32mc:\\Users\\Dee\\root\\Projects\\dev\\cran2graph\\venv\\Lib\\site-packages\\neo4j\\_sync\\work\\session.py:289\u001b[0m, in \u001b[0;36mSession.run\u001b[1;34m(self, query, parameters, **kwargs)\u001b[0m\n\u001b[0;32m    254\u001b[0m \u001b[39mdef\u001b[39;00m \u001b[39mrun\u001b[39m(\n\u001b[0;32m    255\u001b[0m     \u001b[39mself\u001b[39m,\n\u001b[0;32m    256\u001b[0m     query: t\u001b[39m.\u001b[39mUnion[te\u001b[39m.\u001b[39mLiteralString, Query],\n\u001b[0;32m    257\u001b[0m     parameters: t\u001b[39m.\u001b[39mOptional[t\u001b[39m.\u001b[39mDict[\u001b[39mstr\u001b[39m, t\u001b[39m.\u001b[39mAny]] \u001b[39m=\u001b[39m \u001b[39mNone\u001b[39;00m,\n\u001b[0;32m    258\u001b[0m     \u001b[39m*\u001b[39m\u001b[39m*\u001b[39mkwargs: t\u001b[39m.\u001b[39mAny\n\u001b[0;32m    259\u001b[0m ) \u001b[39m-\u001b[39m\u001b[39m>\u001b[39m Result:\n\u001b[0;32m    260\u001b[0m \u001b[39m    \u001b[39m\u001b[39m\"\"\"Run a Cypher query within an auto-commit transaction.\u001b[39;00m\n\u001b[0;32m    261\u001b[0m \n\u001b[0;32m    262\u001b[0m \u001b[39m    The query is sent and the result header received\u001b[39;00m\n\u001b[1;32m   (...)\u001b[0m\n\u001b[0;32m    287\u001b[0m \u001b[39m    :raises SessionError: if the session has been closed.\u001b[39;00m\n\u001b[0;32m    288\u001b[0m \u001b[39m    \"\"\"\u001b[39;00m\n\u001b[1;32m--> 289\u001b[0m     \u001b[39mself\u001b[39;49m\u001b[39m.\u001b[39;49m_check_state()\n\u001b[0;32m    290\u001b[0m     \u001b[39mif\u001b[39;00m \u001b[39mnot\u001b[39;00m query:\n\u001b[0;32m    291\u001b[0m         \u001b[39mraise\u001b[39;00m \u001b[39mValueError\u001b[39;00m(\u001b[39m\"\u001b[39m\u001b[39mCannot run an empty query\u001b[39m\u001b[39m\"\u001b[39m)\n",
      "File \u001b[1;32mc:\\Users\\Dee\\root\\Projects\\dev\\cran2graph\\venv\\Lib\\site-packages\\neo4j\\_sync\\work\\workspace.py:209\u001b[0m, in \u001b[0;36mWorkspace._check_state\u001b[1;34m(self)\u001b[0m\n\u001b[0;32m    207\u001b[0m \u001b[39mdef\u001b[39;00m \u001b[39m_check_state\u001b[39m(\u001b[39mself\u001b[39m):\n\u001b[0;32m    208\u001b[0m     \u001b[39mif\u001b[39;00m \u001b[39mself\u001b[39m\u001b[39m.\u001b[39m_closed:\n\u001b[1;32m--> 209\u001b[0m         \u001b[39mraise\u001b[39;00m SessionError(\u001b[39mself\u001b[39m, \u001b[39m\"\u001b[39m\u001b[39mSession closed\u001b[39m\u001b[39m\"\u001b[39m)\n",
      "\u001b[1;31mSessionError\u001b[0m: Session closed"
     ]
    }
   ],
   "source": [
    "## THis fix the issue\n",
    "## Loading package nodes from csv file\n",
    "## Loading person nodes from csv file\n",
    "load_person_query = \"\"\"\n",
    "// Load 'person' nodes from the CSV file\n",
    "LOAD CSV WITH HEADERS FROM 'file:///cran_process_data.csv' AS row\n",
    "CALL {\n",
    "    WITH row\n",
    "    MERGE (a:Person {\n",
    "        person: COALESCE(row.author, \"N/A\")\n",
    "    })\n",
    "} IN TRANSACTIONS OF 10000 ROWS;\n",
    "\"\"\"\n",
    "print(f\"loading query....\")\n",
    "db_session.run(load_person_query)\n",
    "db_session.close()\n",
    "print(f\"end operation....\")"
   ]
  },
  {
   "cell_type": "code",
   "execution_count": 7,
   "metadata": {},
   "outputs": [
    {
     "name": "stdout",
     "output_type": "stream",
     "text": [
      "loading query....\n"
     ]
    },
    {
     "name": "stderr",
     "output_type": "stream",
     "text": [
      "C:\\Users\\Dee\\AppData\\Local\\Temp\\ipykernel_92308\\808217691.py:11: DeprecationWarning: Using a driver after it has been closed is deprecated. Future versions of the driver will raise an error.\n",
      "  session = self.driver.session(database=\"cran\")\n"
     ]
    },
    {
     "name": "stdout",
     "output_type": "stream",
     "text": [
      "end operation....\n"
     ]
    }
   ],
   "source": [
    "## Loading contributed_to relationships\n",
    "rel_contributed_to_query = \"\"\"\n",
    "// Load 'person' nodes from the CSV file\n",
    "LOAD CSV WITH HEADERS FROM 'file:///cran_process_data.csv' AS row\n",
    "MATCH (p:Package { package: row.package })\n",
    "MATCH (a:Person { person: COALESCE(row.author, \"N/A\")})\n",
    "\n",
    "MERGE (a)-[:CONTRIBUTED_TO]->(p);\n",
    "\n",
    "\"\"\"\n",
    "print(f\"loading query....\")\n",
    "connection.query(rel_contributed_to_query)\n",
    "connection.close()\n",
    "print(f\"end operation....\")"
   ]
  },
  {
   "cell_type": "code",
   "execution_count": 8,
   "metadata": {},
   "outputs": [
    {
     "name": "stdout",
     "output_type": "stream",
     "text": [
      "loading query....\n"
     ]
    },
    {
     "name": "stderr",
     "output_type": "stream",
     "text": [
      "C:\\Users\\Dee\\AppData\\Local\\Temp\\ipykernel_92308\\808217691.py:11: DeprecationWarning: Using a driver after it has been closed is deprecated. Future versions of the driver will raise an error.\n",
      "  session = self.driver.session(database=\"cran\")\n"
     ]
    },
    {
     "name": "stdout",
     "output_type": "stream",
     "text": [
      "end operation....\n"
     ]
    }
   ],
   "source": [
    "## Loading contributed_to relationships\n",
    "rel_maintains_query = \"\"\"\n",
    "// Load 'person' nodes from the CSV file\n",
    "LOAD CSV WITH HEADERS FROM 'file:///cran_process_data.csv' AS row\n",
    "MATCH (p:Package { package: row.package })\n",
    "MATCH (a:Person { person: COALESCE(row.maintainer_name,\"N/A\")})\n",
    "\n",
    "MERGE (a)-[:MAINTAINS]->(p);\n",
    "\n",
    "\"\"\"\n",
    "print(f\"loading query....\")\n",
    "connection.query(rel_maintains_query)\n",
    "connection.close()\n",
    "print(f\"end operation....\")"
   ]
  },
  {
   "cell_type": "code",
   "execution_count": 41,
   "metadata": {},
   "outputs": [],
   "source": [
    "from graphutils.utils import Neo4jConnect\n",
    "\n",
    "connection = Neo4jConnect('admin', 'cran2graph')\n",
    "connection.test_neo4j_connection()\n",
    "connection.close()"
   ]
  },
  {
   "cell_type": "code",
   "execution_count": 22,
   "metadata": {},
   "outputs": [],
   "source": [
    "from graphutils.utils import Neo4jConnect\n",
    "\n",
    "connection = Neo4jConnect('admin', 'cran2graph')\n",
    "connection.clean_database()\n",
    "connection.close()"
   ]
  },
  {
   "cell_type": "markdown",
   "metadata": {},
   "source": []
  },
  {
   "cell_type": "code",
   "execution_count": 31,
   "metadata": {},
   "outputs": [
    {
     "ename": "CypherSyntaxError",
     "evalue": "{code: Neo.ClientError.Statement.SyntaxError} {message: Indexes cannot be dropped by schema, please drop by name instead: DROP INDEX index_name. The index name can be found using SHOW INDEXES. (line 4, column 1 (offset: 54))\r\n\"DROP INDEX ON :Package(name);\"\r\n ^}",
     "output_type": "error",
     "traceback": [
      "\u001b[1;31m---------------------------------------------------------------------------\u001b[0m",
      "\u001b[1;31mCypherSyntaxError\u001b[0m                         Traceback (most recent call last)",
      "\u001b[1;32mc:\\Users\\Dee\\root\\Projects\\dev\\cran2graph\\scripts\\02_Loading_Data_Neo4j.ipynb Cell 10\u001b[0m line \u001b[0;36m8\n\u001b[0;32m      <a href='vscode-notebook-cell:/c%3A/Users/Dee/root/Projects/dev/cran2graph/scripts/02_Loading_Data_Neo4j.ipynb#X13sZmlsZQ%3D%3D?line=0'>1</a>\u001b[0m drop_constrainst \u001b[39m=\u001b[39m \u001b[39m\"\"\"\u001b[39m\n\u001b[0;32m      <a href='vscode-notebook-cell:/c%3A/Users/Dee/root/Projects/dev/cran2graph/scripts/02_Loading_Data_Neo4j.ipynb#X13sZmlsZQ%3D%3D?line=1'>2</a>\u001b[0m \n\u001b[0;32m      <a href='vscode-notebook-cell:/c%3A/Users/Dee/root/Projects/dev/cran2graph/scripts/02_Loading_Data_Neo4j.ipynb#X13sZmlsZQ%3D%3D?line=2'>3</a>\u001b[0m \u001b[39m// Disable the unique constraint on \u001b[39m\u001b[39m'\u001b[39m\u001b[39mPackage\u001b[39m\u001b[39m'\u001b[39m\u001b[39m nodes\u001b[39m\n\u001b[0;32m      <a href='vscode-notebook-cell:/c%3A/Users/Dee/root/Projects/dev/cran2graph/scripts/02_Loading_Data_Neo4j.ipynb#X13sZmlsZQ%3D%3D?line=3'>4</a>\u001b[0m \u001b[39mDROP INDEX ON :Package(name);\u001b[39m\n\u001b[0;32m      <a href='vscode-notebook-cell:/c%3A/Users/Dee/root/Projects/dev/cran2graph/scripts/02_Loading_Data_Neo4j.ipynb#X13sZmlsZQ%3D%3D?line=4'>5</a>\u001b[0m \n\u001b[0;32m      <a href='vscode-notebook-cell:/c%3A/Users/Dee/root/Projects/dev/cran2graph/scripts/02_Loading_Data_Neo4j.ipynb#X13sZmlsZQ%3D%3D?line=5'>6</a>\u001b[0m \u001b[39m\"\"\"\u001b[39m\n\u001b[1;32m----> <a href='vscode-notebook-cell:/c%3A/Users/Dee/root/Projects/dev/cran2graph/scripts/02_Loading_Data_Neo4j.ipynb#X13sZmlsZQ%3D%3D?line=7'>8</a>\u001b[0m connection\u001b[39m.\u001b[39;49mquery(drop_constrainst)\n\u001b[0;32m      <a href='vscode-notebook-cell:/c%3A/Users/Dee/root/Projects/dev/cran2graph/scripts/02_Loading_Data_Neo4j.ipynb#X13sZmlsZQ%3D%3D?line=8'>9</a>\u001b[0m connection\u001b[39m.\u001b[39mclose()\n",
      "File \u001b[1;32mc:\\Users\\Dee\\root\\Projects\\dev\\cran2graph\\scripts\\graphutils\\utils.py:12\u001b[0m, in \u001b[0;36mNeo4jConnect.query\u001b[1;34m(self, query)\u001b[0m\n\u001b[0;32m     10\u001b[0m \u001b[39mdef\u001b[39;00m \u001b[39mquery\u001b[39m(\u001b[39mself\u001b[39m, query):\n\u001b[0;32m     11\u001b[0m     session \u001b[39m=\u001b[39m \u001b[39mself\u001b[39m\u001b[39m.\u001b[39mdriver\u001b[39m.\u001b[39msession()\n\u001b[1;32m---> 12\u001b[0m     result \u001b[39m=\u001b[39m session\u001b[39m.\u001b[39;49mrun(query)\n\u001b[0;32m     13\u001b[0m     \u001b[39mreturn\u001b[39;00m result\n",
      "File \u001b[1;32mc:\\Users\\Dee\\root\\Projects\\dev\\cran2graph\\venv\\Lib\\site-packages\\neo4j\\_sync\\work\\session.py:314\u001b[0m, in \u001b[0;36mSession.run\u001b[1;34m(self, query, parameters, **kwargs)\u001b[0m\n\u001b[0;32m    312\u001b[0m bookmarks \u001b[39m=\u001b[39m \u001b[39mself\u001b[39m\u001b[39m.\u001b[39m_get_bookmarks()\n\u001b[0;32m    313\u001b[0m parameters \u001b[39m=\u001b[39m \u001b[39mdict\u001b[39m(parameters \u001b[39mor\u001b[39;00m {}, \u001b[39m*\u001b[39m\u001b[39m*\u001b[39mkwargs)\n\u001b[1;32m--> 314\u001b[0m \u001b[39mself\u001b[39;49m\u001b[39m.\u001b[39;49m_auto_result\u001b[39m.\u001b[39;49m_run(\n\u001b[0;32m    315\u001b[0m     query, parameters, \u001b[39mself\u001b[39;49m\u001b[39m.\u001b[39;49m_config\u001b[39m.\u001b[39;49mdatabase,\n\u001b[0;32m    316\u001b[0m     \u001b[39mself\u001b[39;49m\u001b[39m.\u001b[39;49m_config\u001b[39m.\u001b[39;49mimpersonated_user, \u001b[39mself\u001b[39;49m\u001b[39m.\u001b[39;49m_config\u001b[39m.\u001b[39;49mdefault_access_mode,\n\u001b[0;32m    317\u001b[0m     bookmarks, \u001b[39mself\u001b[39;49m\u001b[39m.\u001b[39;49m_config\u001b[39m.\u001b[39;49mnotifications_min_severity,\n\u001b[0;32m    318\u001b[0m     \u001b[39mself\u001b[39;49m\u001b[39m.\u001b[39;49m_config\u001b[39m.\u001b[39;49mnotifications_disabled_categories,\n\u001b[0;32m    319\u001b[0m )\n\u001b[0;32m    321\u001b[0m \u001b[39mreturn\u001b[39;00m \u001b[39mself\u001b[39m\u001b[39m.\u001b[39m_auto_result\n",
      "File \u001b[1;32mc:\\Users\\Dee\\root\\Projects\\dev\\cran2graph\\venv\\Lib\\site-packages\\neo4j\\_sync\\work\\result.py:166\u001b[0m, in \u001b[0;36mResult._run\u001b[1;34m(self, query, parameters, db, imp_user, access_mode, bookmarks, notifications_min_severity, notifications_disabled_categories)\u001b[0m\n\u001b[0;32m    164\u001b[0m \u001b[39mself\u001b[39m\u001b[39m.\u001b[39m_pull()\n\u001b[0;32m    165\u001b[0m \u001b[39mself\u001b[39m\u001b[39m.\u001b[39m_connection\u001b[39m.\u001b[39msend_all()\n\u001b[1;32m--> 166\u001b[0m \u001b[39mself\u001b[39;49m\u001b[39m.\u001b[39;49m_attach()\n",
      "File \u001b[1;32mc:\\Users\\Dee\\root\\Projects\\dev\\cran2graph\\venv\\Lib\\site-packages\\neo4j\\_sync\\work\\result.py:274\u001b[0m, in \u001b[0;36mResult._attach\u001b[1;34m(self)\u001b[0m\n\u001b[0;32m    272\u001b[0m \u001b[39mif\u001b[39;00m \u001b[39mself\u001b[39m\u001b[39m.\u001b[39m_exhausted \u001b[39mis\u001b[39;00m \u001b[39mFalse\u001b[39;00m:\n\u001b[0;32m    273\u001b[0m     \u001b[39mwhile\u001b[39;00m \u001b[39mself\u001b[39m\u001b[39m.\u001b[39m_attached \u001b[39mis\u001b[39;00m \u001b[39mFalse\u001b[39;00m:\n\u001b[1;32m--> 274\u001b[0m         \u001b[39mself\u001b[39;49m\u001b[39m.\u001b[39;49m_connection\u001b[39m.\u001b[39;49mfetch_message()\n",
      "File \u001b[1;32mc:\\Users\\Dee\\root\\Projects\\dev\\cran2graph\\venv\\Lib\\site-packages\\neo4j\\_sync\\io\\_common.py:180\u001b[0m, in \u001b[0;36mConnectionErrorHandler.__getattr__.<locals>.outer.<locals>.inner\u001b[1;34m(*args, **kwargs)\u001b[0m\n\u001b[0;32m    178\u001b[0m \u001b[39mdef\u001b[39;00m \u001b[39minner\u001b[39m(\u001b[39m*\u001b[39margs, \u001b[39m*\u001b[39m\u001b[39m*\u001b[39mkwargs):\n\u001b[0;32m    179\u001b[0m     \u001b[39mtry\u001b[39;00m:\n\u001b[1;32m--> 180\u001b[0m         func(\u001b[39m*\u001b[39;49margs, \u001b[39m*\u001b[39;49m\u001b[39m*\u001b[39;49mkwargs)\n\u001b[0;32m    181\u001b[0m     \u001b[39mexcept\u001b[39;00m (Neo4jError, ServiceUnavailable, SessionExpired) \u001b[39mas\u001b[39;00m exc:\n\u001b[0;32m    182\u001b[0m         \u001b[39massert\u001b[39;00m \u001b[39mnot\u001b[39;00m asyncio\u001b[39m.\u001b[39miscoroutinefunction(\u001b[39mself\u001b[39m\u001b[39m.\u001b[39m__on_error)\n",
      "File \u001b[1;32mc:\\Users\\Dee\\root\\Projects\\dev\\cran2graph\\venv\\Lib\\site-packages\\neo4j\\_sync\\io\\_bolt.py:851\u001b[0m, in \u001b[0;36mBolt.fetch_message\u001b[1;34m(self)\u001b[0m\n\u001b[0;32m    847\u001b[0m \u001b[39m# Receive exactly one message\u001b[39;00m\n\u001b[0;32m    848\u001b[0m tag, fields \u001b[39m=\u001b[39m \u001b[39mself\u001b[39m\u001b[39m.\u001b[39minbox\u001b[39m.\u001b[39mpop(\n\u001b[0;32m    849\u001b[0m     hydration_hooks\u001b[39m=\u001b[39m\u001b[39mself\u001b[39m\u001b[39m.\u001b[39mresponses[\u001b[39m0\u001b[39m]\u001b[39m.\u001b[39mhydration_hooks\n\u001b[0;32m    850\u001b[0m )\n\u001b[1;32m--> 851\u001b[0m res \u001b[39m=\u001b[39m \u001b[39mself\u001b[39;49m\u001b[39m.\u001b[39;49m_process_message(tag, fields)\n\u001b[0;32m    852\u001b[0m \u001b[39mself\u001b[39m\u001b[39m.\u001b[39midle_since \u001b[39m=\u001b[39m perf_counter()\n\u001b[0;32m    853\u001b[0m \u001b[39mreturn\u001b[39;00m res\n",
      "File \u001b[1;32mc:\\Users\\Dee\\root\\Projects\\dev\\cran2graph\\venv\\Lib\\site-packages\\neo4j\\_sync\\io\\_bolt5.py:376\u001b[0m, in \u001b[0;36mBolt5x0._process_message\u001b[1;34m(self, tag, fields)\u001b[0m\n\u001b[0;32m    374\u001b[0m \u001b[39mself\u001b[39m\u001b[39m.\u001b[39m_server_state_manager\u001b[39m.\u001b[39mstate \u001b[39m=\u001b[39m \u001b[39mself\u001b[39m\u001b[39m.\u001b[39mbolt_states\u001b[39m.\u001b[39mFAILED\n\u001b[0;32m    375\u001b[0m \u001b[39mtry\u001b[39;00m:\n\u001b[1;32m--> 376\u001b[0m     response\u001b[39m.\u001b[39;49mon_failure(summary_metadata \u001b[39mor\u001b[39;49;00m {})\n\u001b[0;32m    377\u001b[0m \u001b[39mexcept\u001b[39;00m (ServiceUnavailable, DatabaseUnavailable):\n\u001b[0;32m    378\u001b[0m     \u001b[39mif\u001b[39;00m \u001b[39mself\u001b[39m\u001b[39m.\u001b[39mpool:\n",
      "File \u001b[1;32mc:\\Users\\Dee\\root\\Projects\\dev\\cran2graph\\venv\\Lib\\site-packages\\neo4j\\_sync\\io\\_common.py:247\u001b[0m, in \u001b[0;36mResponse.on_failure\u001b[1;34m(self, metadata)\u001b[0m\n\u001b[0;32m    245\u001b[0m handler \u001b[39m=\u001b[39m \u001b[39mself\u001b[39m\u001b[39m.\u001b[39mhandlers\u001b[39m.\u001b[39mget(\u001b[39m\"\u001b[39m\u001b[39mon_summary\u001b[39m\u001b[39m\"\u001b[39m)\n\u001b[0;32m    246\u001b[0m Util\u001b[39m.\u001b[39mcallback(handler)\n\u001b[1;32m--> 247\u001b[0m \u001b[39mraise\u001b[39;00m Neo4jError\u001b[39m.\u001b[39mhydrate(\u001b[39m*\u001b[39m\u001b[39m*\u001b[39mmetadata)\n",
      "\u001b[1;31mCypherSyntaxError\u001b[0m: {code: Neo.ClientError.Statement.SyntaxError} {message: Indexes cannot be dropped by schema, please drop by name instead: DROP INDEX index_name. The index name can be found using SHOW INDEXES. (line 4, column 1 (offset: 54))\r\n\"DROP INDEX ON :Package(name);\"\r\n ^}"
     ]
    }
   ],
   "source": [
    "drop_constrainst = \"\"\"\n",
    "\n",
    "// Disable the unique constraint on 'Package' nodes\n",
    "DROP INDEX ON :Package(name);\n",
    "\n",
    "\"\"\"\n",
    "\n",
    "connection.query(drop_constrainst)\n",
    "connection.close()"
   ]
  },
  {
   "cell_type": "code",
   "execution_count": 32,
   "metadata": {},
   "outputs": [
    {
     "ename": "ClientError",
     "evalue": "{code: Neo.ClientError.Procedure.ProcedureNotFound} {message: There is no procedure with the name `db.constraints` registered for this database instance. Please ensure you've spelled the procedure name correctly and that the procedure is properly deployed.}",
     "output_type": "error",
     "traceback": [
      "\u001b[1;31m---------------------------------------------------------------------------\u001b[0m",
      "\u001b[1;31mClientError\u001b[0m                               Traceback (most recent call last)",
      "\u001b[1;32mc:\\Users\\Dee\\root\\Projects\\dev\\cran2graph\\scripts\\02_Loading_Data_Neo4j.ipynb Cell 11\u001b[0m line \u001b[0;36m1\n\u001b[1;32m----> <a href='vscode-notebook-cell:/c%3A/Users/Dee/root/Projects/dev/cran2graph/scripts/02_Loading_Data_Neo4j.ipynb#W4sZmlsZQ%3D%3D?line=0'>1</a>\u001b[0m \u001b[39mfor\u001b[39;00m constraint \u001b[39min\u001b[39;00m connection\u001b[39m.\u001b[39;49mquery(\u001b[39m\"\u001b[39;49m\u001b[39mCALL db.constraints\u001b[39;49m\u001b[39m\"\u001b[39;49m):\n\u001b[0;32m      <a href='vscode-notebook-cell:/c%3A/Users/Dee/root/Projects/dev/cran2graph/scripts/02_Loading_Data_Neo4j.ipynb#W4sZmlsZQ%3D%3D?line=1'>2</a>\u001b[0m         connection\u001b[39m.\u001b[39mquery(\u001b[39m\"\u001b[39m\u001b[39mDROP \u001b[39m\u001b[39m\"\u001b[39m \u001b[39m+\u001b[39m constraint[\u001b[39m0\u001b[39m])\n",
      "File \u001b[1;32mc:\\Users\\Dee\\root\\Projects\\dev\\cran2graph\\scripts\\graphutils\\utils.py:12\u001b[0m, in \u001b[0;36mNeo4jConnect.query\u001b[1;34m(self, query)\u001b[0m\n\u001b[0;32m     10\u001b[0m \u001b[39mdef\u001b[39;00m \u001b[39mquery\u001b[39m(\u001b[39mself\u001b[39m, query):\n\u001b[0;32m     11\u001b[0m     session \u001b[39m=\u001b[39m \u001b[39mself\u001b[39m\u001b[39m.\u001b[39mdriver\u001b[39m.\u001b[39msession()\n\u001b[1;32m---> 12\u001b[0m     result \u001b[39m=\u001b[39m session\u001b[39m.\u001b[39;49mrun(query)\n\u001b[0;32m     13\u001b[0m     \u001b[39mreturn\u001b[39;00m result\n",
      "File \u001b[1;32mc:\\Users\\Dee\\root\\Projects\\dev\\cran2graph\\venv\\Lib\\site-packages\\neo4j\\_sync\\work\\session.py:314\u001b[0m, in \u001b[0;36mSession.run\u001b[1;34m(self, query, parameters, **kwargs)\u001b[0m\n\u001b[0;32m    312\u001b[0m bookmarks \u001b[39m=\u001b[39m \u001b[39mself\u001b[39m\u001b[39m.\u001b[39m_get_bookmarks()\n\u001b[0;32m    313\u001b[0m parameters \u001b[39m=\u001b[39m \u001b[39mdict\u001b[39m(parameters \u001b[39mor\u001b[39;00m {}, \u001b[39m*\u001b[39m\u001b[39m*\u001b[39mkwargs)\n\u001b[1;32m--> 314\u001b[0m \u001b[39mself\u001b[39;49m\u001b[39m.\u001b[39;49m_auto_result\u001b[39m.\u001b[39;49m_run(\n\u001b[0;32m    315\u001b[0m     query, parameters, \u001b[39mself\u001b[39;49m\u001b[39m.\u001b[39;49m_config\u001b[39m.\u001b[39;49mdatabase,\n\u001b[0;32m    316\u001b[0m     \u001b[39mself\u001b[39;49m\u001b[39m.\u001b[39;49m_config\u001b[39m.\u001b[39;49mimpersonated_user, \u001b[39mself\u001b[39;49m\u001b[39m.\u001b[39;49m_config\u001b[39m.\u001b[39;49mdefault_access_mode,\n\u001b[0;32m    317\u001b[0m     bookmarks, \u001b[39mself\u001b[39;49m\u001b[39m.\u001b[39;49m_config\u001b[39m.\u001b[39;49mnotifications_min_severity,\n\u001b[0;32m    318\u001b[0m     \u001b[39mself\u001b[39;49m\u001b[39m.\u001b[39;49m_config\u001b[39m.\u001b[39;49mnotifications_disabled_categories,\n\u001b[0;32m    319\u001b[0m )\n\u001b[0;32m    321\u001b[0m \u001b[39mreturn\u001b[39;00m \u001b[39mself\u001b[39m\u001b[39m.\u001b[39m_auto_result\n",
      "File \u001b[1;32mc:\\Users\\Dee\\root\\Projects\\dev\\cran2graph\\venv\\Lib\\site-packages\\neo4j\\_sync\\work\\result.py:166\u001b[0m, in \u001b[0;36mResult._run\u001b[1;34m(self, query, parameters, db, imp_user, access_mode, bookmarks, notifications_min_severity, notifications_disabled_categories)\u001b[0m\n\u001b[0;32m    164\u001b[0m \u001b[39mself\u001b[39m\u001b[39m.\u001b[39m_pull()\n\u001b[0;32m    165\u001b[0m \u001b[39mself\u001b[39m\u001b[39m.\u001b[39m_connection\u001b[39m.\u001b[39msend_all()\n\u001b[1;32m--> 166\u001b[0m \u001b[39mself\u001b[39;49m\u001b[39m.\u001b[39;49m_attach()\n",
      "File \u001b[1;32mc:\\Users\\Dee\\root\\Projects\\dev\\cran2graph\\venv\\Lib\\site-packages\\neo4j\\_sync\\work\\result.py:274\u001b[0m, in \u001b[0;36mResult._attach\u001b[1;34m(self)\u001b[0m\n\u001b[0;32m    272\u001b[0m \u001b[39mif\u001b[39;00m \u001b[39mself\u001b[39m\u001b[39m.\u001b[39m_exhausted \u001b[39mis\u001b[39;00m \u001b[39mFalse\u001b[39;00m:\n\u001b[0;32m    273\u001b[0m     \u001b[39mwhile\u001b[39;00m \u001b[39mself\u001b[39m\u001b[39m.\u001b[39m_attached \u001b[39mis\u001b[39;00m \u001b[39mFalse\u001b[39;00m:\n\u001b[1;32m--> 274\u001b[0m         \u001b[39mself\u001b[39;49m\u001b[39m.\u001b[39;49m_connection\u001b[39m.\u001b[39;49mfetch_message()\n",
      "File \u001b[1;32mc:\\Users\\Dee\\root\\Projects\\dev\\cran2graph\\venv\\Lib\\site-packages\\neo4j\\_sync\\io\\_common.py:180\u001b[0m, in \u001b[0;36mConnectionErrorHandler.__getattr__.<locals>.outer.<locals>.inner\u001b[1;34m(*args, **kwargs)\u001b[0m\n\u001b[0;32m    178\u001b[0m \u001b[39mdef\u001b[39;00m \u001b[39minner\u001b[39m(\u001b[39m*\u001b[39margs, \u001b[39m*\u001b[39m\u001b[39m*\u001b[39mkwargs):\n\u001b[0;32m    179\u001b[0m     \u001b[39mtry\u001b[39;00m:\n\u001b[1;32m--> 180\u001b[0m         func(\u001b[39m*\u001b[39;49margs, \u001b[39m*\u001b[39;49m\u001b[39m*\u001b[39;49mkwargs)\n\u001b[0;32m    181\u001b[0m     \u001b[39mexcept\u001b[39;00m (Neo4jError, ServiceUnavailable, SessionExpired) \u001b[39mas\u001b[39;00m exc:\n\u001b[0;32m    182\u001b[0m         \u001b[39massert\u001b[39;00m \u001b[39mnot\u001b[39;00m asyncio\u001b[39m.\u001b[39miscoroutinefunction(\u001b[39mself\u001b[39m\u001b[39m.\u001b[39m__on_error)\n",
      "File \u001b[1;32mc:\\Users\\Dee\\root\\Projects\\dev\\cran2graph\\venv\\Lib\\site-packages\\neo4j\\_sync\\io\\_bolt.py:851\u001b[0m, in \u001b[0;36mBolt.fetch_message\u001b[1;34m(self)\u001b[0m\n\u001b[0;32m    847\u001b[0m \u001b[39m# Receive exactly one message\u001b[39;00m\n\u001b[0;32m    848\u001b[0m tag, fields \u001b[39m=\u001b[39m \u001b[39mself\u001b[39m\u001b[39m.\u001b[39minbox\u001b[39m.\u001b[39mpop(\n\u001b[0;32m    849\u001b[0m     hydration_hooks\u001b[39m=\u001b[39m\u001b[39mself\u001b[39m\u001b[39m.\u001b[39mresponses[\u001b[39m0\u001b[39m]\u001b[39m.\u001b[39mhydration_hooks\n\u001b[0;32m    850\u001b[0m )\n\u001b[1;32m--> 851\u001b[0m res \u001b[39m=\u001b[39m \u001b[39mself\u001b[39;49m\u001b[39m.\u001b[39;49m_process_message(tag, fields)\n\u001b[0;32m    852\u001b[0m \u001b[39mself\u001b[39m\u001b[39m.\u001b[39midle_since \u001b[39m=\u001b[39m perf_counter()\n\u001b[0;32m    853\u001b[0m \u001b[39mreturn\u001b[39;00m res\n",
      "File \u001b[1;32mc:\\Users\\Dee\\root\\Projects\\dev\\cran2graph\\venv\\Lib\\site-packages\\neo4j\\_sync\\io\\_bolt5.py:376\u001b[0m, in \u001b[0;36mBolt5x0._process_message\u001b[1;34m(self, tag, fields)\u001b[0m\n\u001b[0;32m    374\u001b[0m \u001b[39mself\u001b[39m\u001b[39m.\u001b[39m_server_state_manager\u001b[39m.\u001b[39mstate \u001b[39m=\u001b[39m \u001b[39mself\u001b[39m\u001b[39m.\u001b[39mbolt_states\u001b[39m.\u001b[39mFAILED\n\u001b[0;32m    375\u001b[0m \u001b[39mtry\u001b[39;00m:\n\u001b[1;32m--> 376\u001b[0m     response\u001b[39m.\u001b[39;49mon_failure(summary_metadata \u001b[39mor\u001b[39;49;00m {})\n\u001b[0;32m    377\u001b[0m \u001b[39mexcept\u001b[39;00m (ServiceUnavailable, DatabaseUnavailable):\n\u001b[0;32m    378\u001b[0m     \u001b[39mif\u001b[39;00m \u001b[39mself\u001b[39m\u001b[39m.\u001b[39mpool:\n",
      "File \u001b[1;32mc:\\Users\\Dee\\root\\Projects\\dev\\cran2graph\\venv\\Lib\\site-packages\\neo4j\\_sync\\io\\_common.py:247\u001b[0m, in \u001b[0;36mResponse.on_failure\u001b[1;34m(self, metadata)\u001b[0m\n\u001b[0;32m    245\u001b[0m handler \u001b[39m=\u001b[39m \u001b[39mself\u001b[39m\u001b[39m.\u001b[39mhandlers\u001b[39m.\u001b[39mget(\u001b[39m\"\u001b[39m\u001b[39mon_summary\u001b[39m\u001b[39m\"\u001b[39m)\n\u001b[0;32m    246\u001b[0m Util\u001b[39m.\u001b[39mcallback(handler)\n\u001b[1;32m--> 247\u001b[0m \u001b[39mraise\u001b[39;00m Neo4jError\u001b[39m.\u001b[39mhydrate(\u001b[39m*\u001b[39m\u001b[39m*\u001b[39mmetadata)\n",
      "\u001b[1;31mClientError\u001b[0m: {code: Neo.ClientError.Procedure.ProcedureNotFound} {message: There is no procedure with the name `db.constraints` registered for this database instance. Please ensure you've spelled the procedure name correctly and that the procedure is properly deployed.}"
     ]
    }
   ],
   "source": [
    "for constraint in connection.query(\"CALL db.constraints\"):\n",
    "        connection.query(\"DROP \" + constraint[0])"
   ]
  }
 ],
 "metadata": {
  "kernelspec": {
   "display_name": "venv",
   "language": "python",
   "name": "python3"
  },
  "language_info": {
   "codemirror_mode": {
    "name": "ipython",
    "version": 3
   },
   "file_extension": ".py",
   "mimetype": "text/x-python",
   "name": "python",
   "nbconvert_exporter": "python",
   "pygments_lexer": "ipython3",
   "version": "3.11.4"
  }
 },
 "nbformat": 4,
 "nbformat_minor": 2
}
