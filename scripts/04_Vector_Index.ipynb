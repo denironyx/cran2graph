{
 "cells": [
  {
   "cell_type": "code",
   "execution_count": 23,
   "metadata": {},
   "outputs": [],
   "source": [
    "import json \n",
    "import os\n",
    "from langchain.chat_models import ChatOpenAI\n",
    "from langchain.chains import GraphCypherQAChain\n",
    "from langchain.graphs import Neo4jGraph\n",
    "\n",
    "## Loading openai key\n",
    "with open('../environ.json') as f:\n",
    "    config = json.load(f)\n",
    "    api_keys = list(config.values())[0]\n",
    "\n",
    "# assign openai key to an environment variable\n",
    "os.environ[\"OPENAI_API_KEY\"] = api_keys\n",
    "\n",
    "# # check to confirm"
   ]
  },
  {
   "cell_type": "code",
   "execution_count": 25,
   "metadata": {},
   "outputs": [],
   "source": [
    "# Define Neo4j connections\n",
    "from neo4j import GraphDatabase\n",
    "host = 'bolt://127.0.0.1:7687'\n",
    "user = 'admin'\n",
    "password = 'cran2graph'\n",
    "driver = GraphDatabase.driver(host,auth=(user, password))\n",
    "\n",
    "def run_query(query, params={}):\n",
    "    with driver.session(database=\"cran\") as session:\n",
    "        result = session.run(query, params)\n",
    "        return result.to_df()"
   ]
  },
  {
   "cell_type": "code",
   "execution_count": 2,
   "metadata": {},
   "outputs": [],
   "source": [
    "# establish connection to neo4j graph database\n",
    "graph = Neo4jGraph(\n",
    "    url=\"bolt://127.0.0.1:7687\", username=\"admin\", password=\"cran2graph\", database=\"cran\"\n",
    ")"
   ]
  },
  {
   "cell_type": "code",
   "execution_count": 26,
   "metadata": {},
   "outputs": [
    {
     "name": "stdout",
     "output_type": "stream",
     "text": [
      "\n",
      "        Node properties are the following:\n",
      "        [{'properties': [{'property': 'person', 'type': 'STRING'}], 'labels': 'Person'}, {'properties': [{'property': 'published', 'type': 'STRING'}, {'property': 'package', 'type': 'STRING'}, {'property': 'description', 'type': 'STRING'}, {'property': 'md5sum', 'type': 'STRING'}, {'property': 'license', 'type': 'STRING'}, {'property': 'version', 'type': 'STRING'}], 'labels': 'Package'}, {'properties': [{'property': 'license', 'type': 'STRING'}], 'labels': 'License'}, {'properties': [{'property': 'institution', 'type': 'STRING'}], 'labels': 'Institution'}, {'properties': [{'property': 'name', 'type': 'STRING'}], 'labels': 'Dependency'}]\n",
      "        Relationship properties are the following:\n",
      "        []\n",
      "        The relationships are the following:\n",
      "        ['(:Person)-[:CONTRIBUTED_TO]->(:Package)', '(:Person)-[:WORKS_IN]->(:Institution)', '(:Person)-[:MAINTAINS]->(:Package)', '(:Package)-[:DEPENDS_ON]->(:Dependency)', '(:Package)-[:LICENSE_BY]->(:License)']\n",
      "        \n"
     ]
    }
   ],
   "source": [
    "# check the graph schema\n",
    "print(graph.schema)"
   ]
  },
  {
   "cell_type": "code",
   "execution_count": null,
   "metadata": {},
   "outputs": [],
   "source": [
    "query = \"\"\"\n",
    "\n",
    "MATCH (p:Package)\n",
    "MATCH (p)-[r:CONTRIBUTED_TO|MAINTAINS]-(n:Person)\n",
    "WITH p, type(r) as type, collect(n.person) as names\n",
    "WITH p, type+\": \"+reduce(s=\"\", n IN names | s + n + \", \") as types\n",
    "WITH p, collect(types) as contexts\n",
    "WITH p, \"Package Name: \"+ p.package + \" year: \"+p.published +\" Description: \"+ p.description +\"\\n\" +\n",
    "        reduce(s=\"\", c in contexts | s + substring(c, 0, size(c)-2) +\"\\n\") as context\n",
    "RETURN context Limit 1\n",
    "\n",
    "\"\"\""
   ]
  },
  {
   "cell_type": "code",
   "execution_count": 38,
   "metadata": {},
   "outputs": [],
   "source": [
    "run_query(\"\"\"\n",
    "CALL apoc.periodic.iterate(\n",
    "    'MATCH (p:Package) RETURN id(p) as id',\n",
    "    'MATCH (p:Package)\n",
    "    WHERE id(p) = id\n",
    "    MATCH (p)-[r:CONTRIBUTED_TO|MAINTAINS]-(n:Person)\n",
    "    WITH p, type(r) as type, collect(n.person) as names\n",
    "    WITH p, type+\": \"+reduce(s=\"\", n IN names | s + n + \", \") as types\n",
    "    WITH p, collect(types) as contexts\n",
    "    WITH p, \"Package Name: \"+ p.package + \" year: \"+p.published +\" Description: \"+ p.description +\"\\n\" +\n",
    "            reduce(s=\"\", c in contexts | s + substring(c, 0, size(c)-2) +\"\\n\") as context\n",
    "    CALL apoc.ml.openai.embedding([context], $apiKey) YIELD embedding\n",
    "    SET p.embedding = embedding',\n",
    "    {batchSize:1, retries:3, params: {apiKey: $apiKey}})\n",
    "\"\"\", {'apiKey': api_keys})['errorMessages'][0]\n",
    "        \n",
    "        "
   ]
  },
  {
   "cell_type": "code",
   "execution_count": 4,
   "metadata": {},
   "outputs": [],
   "source": [
    "system_prompt = \"\"\"\n",
    "You are an assistant that helps to generate text to form nice and human understandable answers based.\n",
    "The latest prompt contains the information, and you need to generate a human readable response based on the given information.\n",
    "Make the answer sound as a response to the question. Do not mention that you based the result on the given information.\n",
    "Do not add any additional information that is not explicitly provided in the latest prompt.\n",
    "I repeat, do not add any information that is not explicitly given.\n",
    "\"\"\""
   ]
  },
  {
   "cell_type": "code",
   "execution_count": 20,
   "metadata": {},
   "outputs": [],
   "source": [
    "def generate_user_prompt(question, context):\n",
    "    return f\"\"\"\n",
    "    The question is {question}\n",
    "    Answer the question by using the provided information:\n",
    "    {context}\n",
    "    \"\"\""
   ]
  },
  {
   "cell_type": "code",
   "execution_count": 33,
   "metadata": {},
   "outputs": [],
   "source": [
    "def retrieve_context(question, k=3):\n",
    "    data = run_query(\"\"\"\n",
    "        // retrieve the embedding of the question\n",
    "        CALL apoc.ml.openai.embedding([$question], $apiKey) YIELD embedding \n",
    "        // match relevant packages\n",
    "        MATCH (p:Package)\n",
    "        WITH p, gds.similarity.cosine(embedding, p.embedding) AS score\n",
    "        ORDER BY score DESC\n",
    "        // LIMIT the number of relevant description\n",
    "        LIMIT toInteger($k)\n",
    "        // retrieve graph context \n",
    "        MATCH (p)--()--(p1:Package)\n",
    "        WITH p, p1, count(*) AS count\n",
    "        ORDER BY count DESC\n",
    "        WITH p, apoc.text.join(collect(p1.package)[..3], \", \") as similarPackage\n",
    "        MATCH (p)-[r:CONTRIBUTED_TO|MAINTAINS]-(n:Person)\n",
    "        WITH p, similarPackage, type(r) as type, collect(n.person) as names\n",
    "        WITH p, similarPackage, type+\": \"+reduce(s=\"\", n IN names | s + n + \", \") as types\n",
    "        WITH p, similarPackage, collect(types) as contexts\n",
    "        WITH p, similarPackage, \"Package Name: \"+ p.package + \" year: \"+p.published +\" Description: \"+ p.description +\"\\n\" +\n",
    "                reduce(s=\"\", c in contexts | s + substring(c, 0, size(c)-2) +\"\\n\")  + \"similar packages:\" + similarPackage + \"\\n\" as context\n",
    "        RETURN context  \n",
    "    \"\"\", {'question': question, 'k': k, 'apiKey': api_keys})\n",
    "    return data['context'].to_list()"
   ]
  },
  {
   "cell_type": "code",
   "execution_count": 34,
   "metadata": {},
   "outputs": [],
   "source": [
    "def generate_answer(question):\n",
    "    # Retrieve context\n",
    "    context = retrieve_context(question)\n",
    "    # Print context\n",
    "    for c in context:\n",
    "        print(c)\n",
    "    # Generate answer\n",
    "    response = run_query(\n",
    "        \"\"\"\n",
    "  CALL apoc.ml.openai.chat([{role:'system', content: $system},\n",
    "                      {role: 'user', content: $user}], $apiKey) YIELD value\n",
    "  RETURN value.choices[0].message.content AS answer\n",
    "  \"\"\",\n",
    "        {\n",
    "            \"system\": system_prompt,\n",
    "            \"user\": generate_user_prompt(question, context),\n",
    "            \"apiKey\": api_keys,\n",
    "        },\n",
    "    )\n",
    "    return response[\"answer\"][0]"
   ]
  },
  {
   "cell_type": "code",
   "execution_count": 35,
   "metadata": {},
   "outputs": [
    {
     "ename": "ClientError",
     "evalue": "{code: Neo.ClientError.Procedure.ProcedureCallFailed} {message: Failed to invoke function `gds.similarity.cosine`: Caused by: java.lang.NullPointerException: Cannot invoke \"java.util.List.size()\" because \"vector2\" is null}",
     "output_type": "error",
     "traceback": [
      "\u001b[1;31m---------------------------------------------------------------------------\u001b[0m",
      "\u001b[1;31mClientError\u001b[0m                               Traceback (most recent call last)",
      "\u001b[1;32mc:\\Users\\Dee\\root\\Projects\\dev\\cran2graph\\scripts\\04_Vector_Index.ipynb Cell 10\u001b[0m line \u001b[0;36m1\n\u001b[1;32m----> <a href='vscode-notebook-cell:/c%3A/Users/Dee/root/Projects/dev/cran2graph/scripts/04_Vector_Index.ipynb#X12sZmlsZQ%3D%3D?line=0'>1</a>\u001b[0m generate_answer(\u001b[39m\"\u001b[39;49m\u001b[39mWho maintains dplyr package?\u001b[39;49m\u001b[39m\"\u001b[39;49m)\n",
      "\u001b[1;32mc:\\Users\\Dee\\root\\Projects\\dev\\cran2graph\\scripts\\04_Vector_Index.ipynb Cell 10\u001b[0m line \u001b[0;36m3\n\u001b[0;32m      <a href='vscode-notebook-cell:/c%3A/Users/Dee/root/Projects/dev/cran2graph/scripts/04_Vector_Index.ipynb#X12sZmlsZQ%3D%3D?line=0'>1</a>\u001b[0m \u001b[39mdef\u001b[39;00m \u001b[39mgenerate_answer\u001b[39m(question):\n\u001b[0;32m      <a href='vscode-notebook-cell:/c%3A/Users/Dee/root/Projects/dev/cran2graph/scripts/04_Vector_Index.ipynb#X12sZmlsZQ%3D%3D?line=1'>2</a>\u001b[0m     \u001b[39m# Retrieve context\u001b[39;00m\n\u001b[1;32m----> <a href='vscode-notebook-cell:/c%3A/Users/Dee/root/Projects/dev/cran2graph/scripts/04_Vector_Index.ipynb#X12sZmlsZQ%3D%3D?line=2'>3</a>\u001b[0m     context \u001b[39m=\u001b[39m retrieve_context(question)\n\u001b[0;32m      <a href='vscode-notebook-cell:/c%3A/Users/Dee/root/Projects/dev/cran2graph/scripts/04_Vector_Index.ipynb#X12sZmlsZQ%3D%3D?line=3'>4</a>\u001b[0m     \u001b[39m# Print context\u001b[39;00m\n\u001b[0;32m      <a href='vscode-notebook-cell:/c%3A/Users/Dee/root/Projects/dev/cran2graph/scripts/04_Vector_Index.ipynb#X12sZmlsZQ%3D%3D?line=4'>5</a>\u001b[0m     \u001b[39mfor\u001b[39;00m c \u001b[39min\u001b[39;00m context:\n",
      "\u001b[1;32mc:\\Users\\Dee\\root\\Projects\\dev\\cran2graph\\scripts\\04_Vector_Index.ipynb Cell 10\u001b[0m line \u001b[0;36m2\n\u001b[0;32m      <a href='vscode-notebook-cell:/c%3A/Users/Dee/root/Projects/dev/cran2graph/scripts/04_Vector_Index.ipynb#X12sZmlsZQ%3D%3D?line=0'>1</a>\u001b[0m \u001b[39mdef\u001b[39;00m \u001b[39mretrieve_context\u001b[39m(question, k\u001b[39m=\u001b[39m\u001b[39m3\u001b[39m):\n\u001b[1;32m----> <a href='vscode-notebook-cell:/c%3A/Users/Dee/root/Projects/dev/cran2graph/scripts/04_Vector_Index.ipynb#X12sZmlsZQ%3D%3D?line=1'>2</a>\u001b[0m     data \u001b[39m=\u001b[39m run_query(\u001b[39m\"\"\"\u001b[39;49m\n\u001b[0;32m      <a href='vscode-notebook-cell:/c%3A/Users/Dee/root/Projects/dev/cran2graph/scripts/04_Vector_Index.ipynb#X12sZmlsZQ%3D%3D?line=2'>3</a>\u001b[0m \u001b[39m        // retrieve the embedding of the question\u001b[39;49m\n\u001b[0;32m      <a href='vscode-notebook-cell:/c%3A/Users/Dee/root/Projects/dev/cran2graph/scripts/04_Vector_Index.ipynb#X12sZmlsZQ%3D%3D?line=3'>4</a>\u001b[0m \u001b[39m        CALL apoc.ml.openai.embedding([$question], $apiKey) YIELD embedding \u001b[39;49m\n\u001b[0;32m      <a href='vscode-notebook-cell:/c%3A/Users/Dee/root/Projects/dev/cran2graph/scripts/04_Vector_Index.ipynb#X12sZmlsZQ%3D%3D?line=4'>5</a>\u001b[0m \u001b[39m        // match relevant movies\u001b[39;49m\n\u001b[0;32m      <a href='vscode-notebook-cell:/c%3A/Users/Dee/root/Projects/dev/cran2graph/scripts/04_Vector_Index.ipynb#X12sZmlsZQ%3D%3D?line=5'>6</a>\u001b[0m \u001b[39m        MATCH (p:Package)\u001b[39;49m\n\u001b[0;32m      <a href='vscode-notebook-cell:/c%3A/Users/Dee/root/Projects/dev/cran2graph/scripts/04_Vector_Index.ipynb#X12sZmlsZQ%3D%3D?line=6'>7</a>\u001b[0m \u001b[39m        WITH p, gds.similarity.cosine(embedding, p.embedding) AS score\u001b[39;49m\n\u001b[0;32m      <a href='vscode-notebook-cell:/c%3A/Users/Dee/root/Projects/dev/cran2graph/scripts/04_Vector_Index.ipynb#X12sZmlsZQ%3D%3D?line=7'>8</a>\u001b[0m \u001b[39m        ORDER BY score DESC\u001b[39;49m\n\u001b[0;32m      <a href='vscode-notebook-cell:/c%3A/Users/Dee/root/Projects/dev/cran2graph/scripts/04_Vector_Index.ipynb#X12sZmlsZQ%3D%3D?line=8'>9</a>\u001b[0m \u001b[39m        // LIMIT the number of relevant documents\u001b[39;49m\n\u001b[0;32m     <a href='vscode-notebook-cell:/c%3A/Users/Dee/root/Projects/dev/cran2graph/scripts/04_Vector_Index.ipynb#X12sZmlsZQ%3D%3D?line=9'>10</a>\u001b[0m \u001b[39m        LIMIT toInteger($k)\u001b[39;49m\n\u001b[0;32m     <a href='vscode-notebook-cell:/c%3A/Users/Dee/root/Projects/dev/cran2graph/scripts/04_Vector_Index.ipynb#X12sZmlsZQ%3D%3D?line=10'>11</a>\u001b[0m \u001b[39m        // retrieve graph context \u001b[39;49m\n\u001b[0;32m     <a href='vscode-notebook-cell:/c%3A/Users/Dee/root/Projects/dev/cran2graph/scripts/04_Vector_Index.ipynb#X12sZmlsZQ%3D%3D?line=11'>12</a>\u001b[0m \u001b[39m        MATCH (p)--()--(p1:Package)\u001b[39;49m\n\u001b[0;32m     <a href='vscode-notebook-cell:/c%3A/Users/Dee/root/Projects/dev/cran2graph/scripts/04_Vector_Index.ipynb#X12sZmlsZQ%3D%3D?line=12'>13</a>\u001b[0m \u001b[39m        WITH p, p1, count(*) AS count\u001b[39;49m\n\u001b[0;32m     <a href='vscode-notebook-cell:/c%3A/Users/Dee/root/Projects/dev/cran2graph/scripts/04_Vector_Index.ipynb#X12sZmlsZQ%3D%3D?line=13'>14</a>\u001b[0m \u001b[39m        ORDER BY count DESC\u001b[39;49m\n\u001b[0;32m     <a href='vscode-notebook-cell:/c%3A/Users/Dee/root/Projects/dev/cran2graph/scripts/04_Vector_Index.ipynb#X12sZmlsZQ%3D%3D?line=14'>15</a>\u001b[0m \u001b[39m        WITH p, apoc.text.join(collect(p1.package)[..3], \u001b[39;49m\u001b[39m\"\u001b[39;49m\u001b[39m, \u001b[39;49m\u001b[39m\"\u001b[39;49m\u001b[39m) as similarPackage\u001b[39;49m\n\u001b[0;32m     <a href='vscode-notebook-cell:/c%3A/Users/Dee/root/Projects/dev/cran2graph/scripts/04_Vector_Index.ipynb#X12sZmlsZQ%3D%3D?line=15'>16</a>\u001b[0m \u001b[39m        MATCH (p)-[r:CONTRIBUTED_TO|MAINTAINS]-(n:Person)\u001b[39;49m\n\u001b[0;32m     <a href='vscode-notebook-cell:/c%3A/Users/Dee/root/Projects/dev/cran2graph/scripts/04_Vector_Index.ipynb#X12sZmlsZQ%3D%3D?line=16'>17</a>\u001b[0m \u001b[39m        WITH p, similarPackage, type(r) as type, collect(n.person) as names\u001b[39;49m\n\u001b[0;32m     <a href='vscode-notebook-cell:/c%3A/Users/Dee/root/Projects/dev/cran2graph/scripts/04_Vector_Index.ipynb#X12sZmlsZQ%3D%3D?line=17'>18</a>\u001b[0m \u001b[39m        WITH p, similarPackage, type+\u001b[39;49m\u001b[39m\"\u001b[39;49m\u001b[39m: \u001b[39;49m\u001b[39m\"\u001b[39;49m\u001b[39m+reduce(s=\u001b[39;49m\u001b[39m\"\u001b[39;49m\u001b[39m\"\u001b[39;49m\u001b[39m, n IN names | s + n + \u001b[39;49m\u001b[39m\"\u001b[39;49m\u001b[39m, \u001b[39;49m\u001b[39m\"\u001b[39;49m\u001b[39m) as types\u001b[39;49m\n\u001b[0;32m     <a href='vscode-notebook-cell:/c%3A/Users/Dee/root/Projects/dev/cran2graph/scripts/04_Vector_Index.ipynb#X12sZmlsZQ%3D%3D?line=18'>19</a>\u001b[0m \u001b[39m        WITH p, similarPackage, collect(types) as contexts\u001b[39;49m\n\u001b[0;32m     <a href='vscode-notebook-cell:/c%3A/Users/Dee/root/Projects/dev/cran2graph/scripts/04_Vector_Index.ipynb#X12sZmlsZQ%3D%3D?line=19'>20</a>\u001b[0m \u001b[39m        WITH p, similarPackage, \u001b[39;49m\u001b[39m\"\u001b[39;49m\u001b[39mPackage Name: \u001b[39;49m\u001b[39m\"\u001b[39;49m\u001b[39m+ p.package + \u001b[39;49m\u001b[39m\"\u001b[39;49m\u001b[39m year: \u001b[39;49m\u001b[39m\"\u001b[39;49m\u001b[39m+p.published +\u001b[39;49m\u001b[39m\"\u001b[39;49m\u001b[39m Description: \u001b[39;49m\u001b[39m\"\u001b[39;49m\u001b[39m+ p.description +\u001b[39;49m\u001b[39m\"\u001b[39;49m\u001b[39m\\n\u001b[39;49;00m\u001b[39m\"\u001b[39;49m\u001b[39m +\u001b[39;49m\n\u001b[0;32m     <a href='vscode-notebook-cell:/c%3A/Users/Dee/root/Projects/dev/cran2graph/scripts/04_Vector_Index.ipynb#X12sZmlsZQ%3D%3D?line=20'>21</a>\u001b[0m \u001b[39m                reduce(s=\u001b[39;49m\u001b[39m\"\u001b[39;49m\u001b[39m\"\u001b[39;49m\u001b[39m, c in contexts | s + substring(c, 0, size(c)-2) +\u001b[39;49m\u001b[39m\"\u001b[39;49m\u001b[39m\\n\u001b[39;49;00m\u001b[39m\"\u001b[39;49m\u001b[39m)  + \u001b[39;49m\u001b[39m\"\u001b[39;49m\u001b[39msimilar packages:\u001b[39;49m\u001b[39m\"\u001b[39;49m\u001b[39m + similarPackage + \u001b[39;49m\u001b[39m\"\u001b[39;49m\u001b[39m\\n\u001b[39;49;00m\u001b[39m\"\u001b[39;49m\u001b[39m as context\u001b[39;49m\n\u001b[0;32m     <a href='vscode-notebook-cell:/c%3A/Users/Dee/root/Projects/dev/cran2graph/scripts/04_Vector_Index.ipynb#X12sZmlsZQ%3D%3D?line=21'>22</a>\u001b[0m \u001b[39m        RETURN context  \u001b[39;49m\n\u001b[0;32m     <a href='vscode-notebook-cell:/c%3A/Users/Dee/root/Projects/dev/cran2graph/scripts/04_Vector_Index.ipynb#X12sZmlsZQ%3D%3D?line=22'>23</a>\u001b[0m \u001b[39m    \u001b[39;49m\u001b[39m\"\"\"\u001b[39;49m, {\u001b[39m'\u001b[39;49m\u001b[39mquestion\u001b[39;49m\u001b[39m'\u001b[39;49m: question, \u001b[39m'\u001b[39;49m\u001b[39mk\u001b[39;49m\u001b[39m'\u001b[39;49m: k, \u001b[39m'\u001b[39;49m\u001b[39mapiKey\u001b[39;49m\u001b[39m'\u001b[39;49m: api_keys})\n\u001b[0;32m     <a href='vscode-notebook-cell:/c%3A/Users/Dee/root/Projects/dev/cran2graph/scripts/04_Vector_Index.ipynb#X12sZmlsZQ%3D%3D?line=23'>24</a>\u001b[0m     \u001b[39mreturn\u001b[39;00m data[\u001b[39m'\u001b[39m\u001b[39mcontext\u001b[39m\u001b[39m'\u001b[39m]\u001b[39m.\u001b[39mto_list()\n",
      "\u001b[1;32mc:\\Users\\Dee\\root\\Projects\\dev\\cran2graph\\scripts\\04_Vector_Index.ipynb Cell 10\u001b[0m line \u001b[0;36m1\n\u001b[0;32m      <a href='vscode-notebook-cell:/c%3A/Users/Dee/root/Projects/dev/cran2graph/scripts/04_Vector_Index.ipynb#X12sZmlsZQ%3D%3D?line=8'>9</a>\u001b[0m \u001b[39mwith\u001b[39;00m driver\u001b[39m.\u001b[39msession(database\u001b[39m=\u001b[39m\u001b[39m\"\u001b[39m\u001b[39mcran\u001b[39m\u001b[39m\"\u001b[39m) \u001b[39mas\u001b[39;00m session:\n\u001b[0;32m     <a href='vscode-notebook-cell:/c%3A/Users/Dee/root/Projects/dev/cran2graph/scripts/04_Vector_Index.ipynb#X12sZmlsZQ%3D%3D?line=9'>10</a>\u001b[0m     result \u001b[39m=\u001b[39m session\u001b[39m.\u001b[39mrun(query, params)\n\u001b[1;32m---> <a href='vscode-notebook-cell:/c%3A/Users/Dee/root/Projects/dev/cran2graph/scripts/04_Vector_Index.ipynb#X12sZmlsZQ%3D%3D?line=10'>11</a>\u001b[0m     \u001b[39mreturn\u001b[39;00m result\u001b[39m.\u001b[39;49mto_df()\n",
      "File \u001b[1;32mc:\\Users\\Dee\\root\\Projects\\dev\\cran2graph\\venv\\Lib\\site-packages\\neo4j\\_sync\\work\\result.py:725\u001b[0m, in \u001b[0;36mResult.to_df\u001b[1;34m(self, expand, parse_dates)\u001b[0m\n\u001b[0;32m    722\u001b[0m \u001b[39mimport\u001b[39;00m \u001b[39mpandas\u001b[39;00m \u001b[39mas\u001b[39;00m \u001b[39mpd\u001b[39;00m  \u001b[39m# type: ignore[import]\u001b[39;00m\n\u001b[0;32m    724\u001b[0m \u001b[39mif\u001b[39;00m \u001b[39mnot\u001b[39;00m expand:\n\u001b[1;32m--> 725\u001b[0m     df \u001b[39m=\u001b[39m pd\u001b[39m.\u001b[39mDataFrame(\u001b[39mself\u001b[39;49m\u001b[39m.\u001b[39;49mvalues(), columns\u001b[39m=\u001b[39m\u001b[39mself\u001b[39m\u001b[39m.\u001b[39m_keys)\n\u001b[0;32m    726\u001b[0m \u001b[39melse\u001b[39;00m:\n\u001b[0;32m    727\u001b[0m     df_keys \u001b[39m=\u001b[39m \u001b[39mNone\u001b[39;00m\n",
      "File \u001b[1;32mc:\\Users\\Dee\\root\\Projects\\dev\\cran2graph\\venv\\Lib\\site-packages\\neo4j\\_sync\\work\\result.py:580\u001b[0m, in \u001b[0;36mResult.values\u001b[1;34m(self, *keys)\u001b[0m\n\u001b[0;32m    562\u001b[0m \u001b[39mdef\u001b[39;00m \u001b[39mvalues\u001b[39m(\n\u001b[0;32m    563\u001b[0m     \u001b[39mself\u001b[39m, \u001b[39m*\u001b[39mkeys: _TResultKey\n\u001b[0;32m    564\u001b[0m ) \u001b[39m-\u001b[39m\u001b[39m>\u001b[39m t\u001b[39m.\u001b[39mList[t\u001b[39m.\u001b[39mList[t\u001b[39m.\u001b[39mAny]]:\n\u001b[0;32m    565\u001b[0m \u001b[39m    \u001b[39m\u001b[39m\"\"\"Return the remainder of the result as a list of values lists.\u001b[39;00m\n\u001b[0;32m    566\u001b[0m \n\u001b[0;32m    567\u001b[0m \u001b[39m    :param keys: fields to return for each remaining record. Optionally filtering to include only certain values by index or key.\u001b[39;00m\n\u001b[1;32m   (...)\u001b[0m\n\u001b[0;32m    578\u001b[0m \u001b[39m    .. seealso:: :meth:`.Record.values`\u001b[39;00m\n\u001b[0;32m    579\u001b[0m \u001b[39m    \"\"\"\u001b[39;00m\n\u001b[1;32m--> 580\u001b[0m     \u001b[39mreturn\u001b[39;00m [record\u001b[39m.\u001b[39;49mvalues(\u001b[39m*\u001b[39;49mkeys) \u001b[39mfor\u001b[39;49;00m record \u001b[39min\u001b[39;49;00m \u001b[39mself\u001b[39;49m]\n",
      "File \u001b[1;32mc:\\Users\\Dee\\root\\Projects\\dev\\cran2graph\\venv\\Lib\\site-packages\\neo4j\\_sync\\work\\result.py:580\u001b[0m, in \u001b[0;36m<listcomp>\u001b[1;34m(.0)\u001b[0m\n\u001b[0;32m    562\u001b[0m \u001b[39mdef\u001b[39;00m \u001b[39mvalues\u001b[39m(\n\u001b[0;32m    563\u001b[0m     \u001b[39mself\u001b[39m, \u001b[39m*\u001b[39mkeys: _TResultKey\n\u001b[0;32m    564\u001b[0m ) \u001b[39m-\u001b[39m\u001b[39m>\u001b[39m t\u001b[39m.\u001b[39mList[t\u001b[39m.\u001b[39mList[t\u001b[39m.\u001b[39mAny]]:\n\u001b[0;32m    565\u001b[0m \u001b[39m    \u001b[39m\u001b[39m\"\"\"Return the remainder of the result as a list of values lists.\u001b[39;00m\n\u001b[0;32m    566\u001b[0m \n\u001b[0;32m    567\u001b[0m \u001b[39m    :param keys: fields to return for each remaining record. Optionally filtering to include only certain values by index or key.\u001b[39;00m\n\u001b[1;32m   (...)\u001b[0m\n\u001b[0;32m    578\u001b[0m \u001b[39m    .. seealso:: :meth:`.Record.values`\u001b[39;00m\n\u001b[0;32m    579\u001b[0m \u001b[39m    \"\"\"\u001b[39;00m\n\u001b[1;32m--> 580\u001b[0m     \u001b[39mreturn\u001b[39;00m [record\u001b[39m.\u001b[39;49mvalues(\u001b[39m*\u001b[39;49mkeys) \u001b[39mfor\u001b[39;49;00m record \u001b[39min\u001b[39;49;00m \u001b[39mself\u001b[39;49m]\n",
      "File \u001b[1;32mc:\\Users\\Dee\\root\\Projects\\dev\\cran2graph\\venv\\Lib\\site-packages\\neo4j\\_sync\\work\\result.py:251\u001b[0m, in \u001b[0;36mResult.__iter__\u001b[1;34m(self)\u001b[0m\n\u001b[0;32m    249\u001b[0m     \u001b[39myield\u001b[39;00m \u001b[39mself\u001b[39m\u001b[39m.\u001b[39m_record_buffer\u001b[39m.\u001b[39mpopleft()\n\u001b[0;32m    250\u001b[0m \u001b[39melif\u001b[39;00m \u001b[39mself\u001b[39m\u001b[39m.\u001b[39m_streaming:\n\u001b[1;32m--> 251\u001b[0m     \u001b[39mself\u001b[39;49m\u001b[39m.\u001b[39;49m_connection\u001b[39m.\u001b[39;49mfetch_message()\n\u001b[0;32m    252\u001b[0m \u001b[39melif\u001b[39;00m \u001b[39mself\u001b[39m\u001b[39m.\u001b[39m_discarding:\n\u001b[0;32m    253\u001b[0m     \u001b[39mself\u001b[39m\u001b[39m.\u001b[39m_discard()\n",
      "File \u001b[1;32mc:\\Users\\Dee\\root\\Projects\\dev\\cran2graph\\venv\\Lib\\site-packages\\neo4j\\_sync\\io\\_common.py:180\u001b[0m, in \u001b[0;36mConnectionErrorHandler.__getattr__.<locals>.outer.<locals>.inner\u001b[1;34m(*args, **kwargs)\u001b[0m\n\u001b[0;32m    178\u001b[0m \u001b[39mdef\u001b[39;00m \u001b[39minner\u001b[39m(\u001b[39m*\u001b[39margs, \u001b[39m*\u001b[39m\u001b[39m*\u001b[39mkwargs):\n\u001b[0;32m    179\u001b[0m     \u001b[39mtry\u001b[39;00m:\n\u001b[1;32m--> 180\u001b[0m         func(\u001b[39m*\u001b[39;49margs, \u001b[39m*\u001b[39;49m\u001b[39m*\u001b[39;49mkwargs)\n\u001b[0;32m    181\u001b[0m     \u001b[39mexcept\u001b[39;00m (Neo4jError, ServiceUnavailable, SessionExpired) \u001b[39mas\u001b[39;00m exc:\n\u001b[0;32m    182\u001b[0m         \u001b[39massert\u001b[39;00m \u001b[39mnot\u001b[39;00m asyncio\u001b[39m.\u001b[39miscoroutinefunction(\u001b[39mself\u001b[39m\u001b[39m.\u001b[39m__on_error)\n",
      "File \u001b[1;32mc:\\Users\\Dee\\root\\Projects\\dev\\cran2graph\\venv\\Lib\\site-packages\\neo4j\\_sync\\io\\_bolt.py:851\u001b[0m, in \u001b[0;36mBolt.fetch_message\u001b[1;34m(self)\u001b[0m\n\u001b[0;32m    847\u001b[0m \u001b[39m# Receive exactly one message\u001b[39;00m\n\u001b[0;32m    848\u001b[0m tag, fields \u001b[39m=\u001b[39m \u001b[39mself\u001b[39m\u001b[39m.\u001b[39minbox\u001b[39m.\u001b[39mpop(\n\u001b[0;32m    849\u001b[0m     hydration_hooks\u001b[39m=\u001b[39m\u001b[39mself\u001b[39m\u001b[39m.\u001b[39mresponses[\u001b[39m0\u001b[39m]\u001b[39m.\u001b[39mhydration_hooks\n\u001b[0;32m    850\u001b[0m )\n\u001b[1;32m--> 851\u001b[0m res \u001b[39m=\u001b[39m \u001b[39mself\u001b[39;49m\u001b[39m.\u001b[39;49m_process_message(tag, fields)\n\u001b[0;32m    852\u001b[0m \u001b[39mself\u001b[39m\u001b[39m.\u001b[39midle_since \u001b[39m=\u001b[39m perf_counter()\n\u001b[0;32m    853\u001b[0m \u001b[39mreturn\u001b[39;00m res\n",
      "File \u001b[1;32mc:\\Users\\Dee\\root\\Projects\\dev\\cran2graph\\venv\\Lib\\site-packages\\neo4j\\_sync\\io\\_bolt5.py:376\u001b[0m, in \u001b[0;36mBolt5x0._process_message\u001b[1;34m(self, tag, fields)\u001b[0m\n\u001b[0;32m    374\u001b[0m \u001b[39mself\u001b[39m\u001b[39m.\u001b[39m_server_state_manager\u001b[39m.\u001b[39mstate \u001b[39m=\u001b[39m \u001b[39mself\u001b[39m\u001b[39m.\u001b[39mbolt_states\u001b[39m.\u001b[39mFAILED\n\u001b[0;32m    375\u001b[0m \u001b[39mtry\u001b[39;00m:\n\u001b[1;32m--> 376\u001b[0m     response\u001b[39m.\u001b[39;49mon_failure(summary_metadata \u001b[39mor\u001b[39;49;00m {})\n\u001b[0;32m    377\u001b[0m \u001b[39mexcept\u001b[39;00m (ServiceUnavailable, DatabaseUnavailable):\n\u001b[0;32m    378\u001b[0m     \u001b[39mif\u001b[39;00m \u001b[39mself\u001b[39m\u001b[39m.\u001b[39mpool:\n",
      "File \u001b[1;32mc:\\Users\\Dee\\root\\Projects\\dev\\cran2graph\\venv\\Lib\\site-packages\\neo4j\\_sync\\io\\_common.py:247\u001b[0m, in \u001b[0;36mResponse.on_failure\u001b[1;34m(self, metadata)\u001b[0m\n\u001b[0;32m    245\u001b[0m handler \u001b[39m=\u001b[39m \u001b[39mself\u001b[39m\u001b[39m.\u001b[39mhandlers\u001b[39m.\u001b[39mget(\u001b[39m\"\u001b[39m\u001b[39mon_summary\u001b[39m\u001b[39m\"\u001b[39m)\n\u001b[0;32m    246\u001b[0m Util\u001b[39m.\u001b[39mcallback(handler)\n\u001b[1;32m--> 247\u001b[0m \u001b[39mraise\u001b[39;00m Neo4jError\u001b[39m.\u001b[39mhydrate(\u001b[39m*\u001b[39m\u001b[39m*\u001b[39mmetadata)\n",
      "\u001b[1;31mClientError\u001b[0m: {code: Neo.ClientError.Procedure.ProcedureCallFailed} {message: Failed to invoke function `gds.similarity.cosine`: Caused by: java.lang.NullPointerException: Cannot invoke \"java.util.List.size()\" because \"vector2\" is null}"
     ]
    }
   ],
   "source": [
    "generate_answer(\"Who maintains dplyr package?\")"
   ]
  }
 ],
 "metadata": {
  "kernelspec": {
   "display_name": "venv",
   "language": "python",
   "name": "python3"
  },
  "language_info": {
   "codemirror_mode": {
    "name": "ipython",
    "version": 3
   },
   "file_extension": ".py",
   "mimetype": "text/x-python",
   "name": "python",
   "nbconvert_exporter": "python",
   "pygments_lexer": "ipython3",
   "version": "3.11.4"
  }
 },
 "nbformat": 4,
 "nbformat_minor": 2
}
