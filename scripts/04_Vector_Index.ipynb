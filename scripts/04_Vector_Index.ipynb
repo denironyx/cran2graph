{
 "cells": [
  {
   "cell_type": "code",
   "execution_count": 13,
   "metadata": {},
   "outputs": [],
   "source": [
    "import json \n",
    "import os\n",
    "from langchain.chat_models import ChatOpenAI\n",
    "from langchain.chains import GraphCypherQAChain\n",
    "from langchain.graphs import Neo4jGraph\n",
    "\n",
    "## Loading openai key\n",
    "with open('../environ.json') as f:\n",
    "    config = json.load(f)\n",
    "    api_keys = list(config.values())[0]\n",
    "\n",
    "# assign openai key to an environment variable\n",
    "os.environ[\"OPENAI_API_KEY\"] = api_keys\n",
    "\n",
    "# # check to confirm"
   ]
  },
  {
   "cell_type": "code",
   "execution_count": 14,
   "metadata": {},
   "outputs": [],
   "source": [
    "# Define Neo4j connections\n",
    "from neo4j import GraphDatabase\n",
    "host = 'bolt://127.0.0.1:7687'\n",
    "user = 'admin'\n",
    "password = 'cran2graph'\n",
    "driver = GraphDatabase.driver(host,auth=(user, password))\n",
    "\n",
    "def run_query(query, params={}):\n",
    "    with driver.session(database=\"cran\") as session:\n",
    "        result = session.run(query, params)\n",
    "        return result.to_df()"
   ]
  },
  {
   "cell_type": "code",
   "execution_count": 15,
   "metadata": {},
   "outputs": [],
   "source": [
    "# establish connection to neo4j graph database\n",
    "graph = Neo4jGraph(\n",
    "    url=\"bolt://127.0.0.1:7687\", username=\"admin\", password=\"cran2graph\", database=\"cran\"\n",
    ")"
   ]
  },
  {
   "cell_type": "code",
   "execution_count": 16,
   "metadata": {},
   "outputs": [
    {
     "name": "stdout",
     "output_type": "stream",
     "text": [
      "\n",
      "        Node properties are the following:\n",
      "        [{'labels': 'Person', 'properties': [{'property': 'person', 'type': 'STRING'}]}, {'labels': 'Package', 'properties': [{'property': 'version', 'type': 'STRING'}, {'property': 'package', 'type': 'STRING'}, {'property': 'description', 'type': 'STRING'}, {'property': 'embedding', 'type': 'LIST'}, {'property': 'md5sum', 'type': 'STRING'}, {'property': 'license', 'type': 'STRING'}, {'property': 'published', 'type': 'STRING'}]}, {'labels': 'License', 'properties': [{'property': 'license', 'type': 'STRING'}]}, {'labels': 'Institution', 'properties': [{'property': 'institution', 'type': 'STRING'}]}, {'labels': 'Dependency', 'properties': [{'property': 'name', 'type': 'STRING'}]}]\n",
      "        Relationship properties are the following:\n",
      "        []\n",
      "        The relationships are the following:\n",
      "        ['(:Person)-[:CONTRIBUTED_TO]->(:Package)', '(:Person)-[:WORKS_IN]->(:Institution)', '(:Person)-[:MAINTAINS]->(:Package)', '(:Package)-[:DEPENDS_ON]->(:Dependency)', '(:Package)-[:LICENSE_BY]->(:License)']\n",
      "        \n"
     ]
    }
   ],
   "source": [
    "# check the graph schema\n",
    "print(graph.schema)"
   ]
  },
  {
   "cell_type": "code",
   "execution_count": 17,
   "metadata": {},
   "outputs": [],
   "source": [
    "query = \"\"\"\n",
    "\n",
    "MATCH (p:Package)\n",
    "MATCH (p)-[r:CONTRIBUTED_TO|MAINTAINS]-(n:Person)\n",
    "WITH p, type(r) as type, collect(n.person) as names\n",
    "WITH p, type+\": \"+reduce(s=\"\", n IN names | s + n + \", \") as types\n",
    "WITH p, collect(types) as contexts\n",
    "WITH p, \"Package Name: \"+ p.package + \" year: \"+p.published +\" Description: \"+ p.description +\"\\n\" +\n",
    "        reduce(s=\"\", c in contexts | s + substring(c, 0, size(c)-2) +\"\\n\") as context\n",
    "RETURN context Limit 1\n",
    "\n",
    "\"\"\""
   ]
  },
  {
   "cell_type": "code",
   "execution_count": 15,
   "metadata": {},
   "outputs": [],
   "source": [
    "run_query(\"\"\"\n",
    "CALL apoc.periodic.iterate(\n",
    "    'MATCH (p:Package) RETURN id(p) as id',\n",
    "    'MATCH (p:Package)\n",
    "    WHERE id(p) = id\n",
    "    MATCH (p)-[r:CONTRIBUTED_TO|MAINTAINS]-(n:Person)\n",
    "    WITH p, type(r) as type, collect(n.person) as names\n",
    "    WITH p, type+\": \"+reduce(s=\"\", n IN names | s + n + \", \") as types\n",
    "    WITH p, collect(types) as contexts\n",
    "    WITH p, \"Package Name: \"+ p.package + \" year: \"+p.published +\" Description: \"+ p.description +\"\\n\" +\n",
    "            reduce(s=\"\", c in contexts | s + substring(c, 0, size(c)-2) +\"\\n\") as context\n",
    "    CALL apoc.ml.openai.embedding([context], $apiKey) YIELD embedding\n",
    "    SET p.embedding = embedding',\n",
    "    {batchSize:1, retries:3, params: {apiKey: $apiKey}})\n",
    "\"\"\", {'apiKey': api_keys})['errorMessages'][0]\n",
    "        \n",
    "        "
   ]
  },
  {
   "cell_type": "code",
   "execution_count": 18,
   "metadata": {},
   "outputs": [],
   "source": [
    "system_prompt = \"\"\"\n",
    "You are an assistant that helps to generate text to form nice and human understandable answers based.\n",
    "The latest prompt contains the information, and you need to generate a human readable response based on the given information.\n",
    "Make the answer sound as a response to the question. Do not mention that you based the result on the given information.\n",
    "Do not add any additional information that is not explicitly provided in the latest prompt.\n",
    "I repeat, do not add any information that is not explicitly given.\n",
    "\"\"\""
   ]
  },
  {
   "cell_type": "code",
   "execution_count": 19,
   "metadata": {},
   "outputs": [],
   "source": [
    "def generate_user_prompt(question, context):\n",
    "    return f\"\"\"\n",
    "    The question is {question}\n",
    "    Answer the question by using the provided information:\n",
    "    {context}\n",
    "    \"\"\""
   ]
  },
  {
   "cell_type": "code",
   "execution_count": 20,
   "metadata": {},
   "outputs": [],
   "source": [
    "def retrieve_context(question, k=3):\n",
    "    data = run_query(\"\"\"\n",
    "        // retrieve the embedding of the question\n",
    "        CALL apoc.ml.openai.embedding([$question], $apiKey) YIELD embedding \n",
    "        // match relevant packages\n",
    "        MATCH (p:Package)\n",
    "        WITH p, gds.similarity.cosine(embedding, p.embedding) AS score\n",
    "        ORDER BY score DESC\n",
    "        // LIMIT the number of relevant description\n",
    "        LIMIT toInteger($k)\n",
    "        // retrieve graph context \n",
    "        MATCH (p)--()--(p1:Package)\n",
    "        WITH p, p1, count(*) AS count\n",
    "        ORDER BY count DESC\n",
    "        WITH p, apoc.text.join(collect(p1.package)[..3], \", \") as similarPackage\n",
    "        MATCH (p)-[r:CONTRIBUTED_TO|MAINTAINS]-(n:Person)\n",
    "        WITH p, similarPackage, type(r) as type, collect(n.person) as names\n",
    "        WITH p, similarPackage, type+\": \"+reduce(s=\"\", n IN names | s + n + \", \") as types\n",
    "        WITH p, similarPackage, collect(types) as contexts\n",
    "        WITH p, similarPackage, \"Package Name: \"+ p.package + \" year: \"+p.published +\" Description: \"+ p.description +\"\\n\" +\n",
    "                reduce(s=\"\", c in contexts | s + substring(c, 0, size(c)-2) +\"\\n\")  + \"similar packages:\" + similarPackage + \"\\n\" as context\n",
    "        RETURN context  \n",
    "    \"\"\", {'question': question, 'k': k, 'apiKey': api_keys})\n",
    "    return data['context'].to_list()"
   ]
  },
  {
   "cell_type": "code",
   "execution_count": 21,
   "metadata": {},
   "outputs": [],
   "source": [
    "def generate_answer(question):\n",
    "    # Retrieve context\n",
    "    context = retrieve_context(question)\n",
    "    # Print context\n",
    "    for c in context:\n",
    "        print(c)\n",
    "    # Generate answer\n",
    "    response = run_query(\n",
    "        \"\"\"\n",
    "  CALL apoc.ml.openai.chat([{role:'system', content: $system},\n",
    "                      {role: 'user', content: $user}], $apiKey) YIELD value\n",
    "  RETURN value.choices[0].message.content AS answer\n",
    "  \"\"\",\n",
    "        {\n",
    "            \"system\": system_prompt,\n",
    "            \"user\": generate_user_prompt(question, context),\n",
    "            \"apiKey\": api_keys,\n",
    "        },\n",
    "    )\n",
    "    return response[\"answer\"][0]"
   ]
  },
  {
   "cell_type": "code",
   "execution_count": 22,
   "metadata": {},
   "outputs": [
    {
     "name": "stdout",
     "output_type": "stream",
     "text": [
      "Package Name: DatabaseConnector year: 2023-09-07 Description: An R DataBase Interface (DBI) compatible interface to various database platforms (PostgreSQL, Oracle, Microsoft SQL Server, \n",
      "    Amazon Redshift, Microsoft Parallel Database Warehouse, IBM Netezza, Apache Impala, Google BigQuery, Snowflake, Spark, and SQLite). Also includes support for\n",
      "    fetching data as Andromeda objects. Uses either Java Database Connectivity (JDBC) or other DBI drivers to connect to databases.\n",
      "CONTRIBUTED_TO: Amazon Inc., PostgreSQL Global Development Group, Oracle Inc., Microsoft Inc., Observational Health Data Science and Informatics, Marc Suchard, Martijn Schuemie\n",
      "similar packages:DatabaseConnectorJars, CDMConnector, SqlRender\n",
      "\n",
      "Package Name: RODBCDBI year: 2016-03-14 Description: An implementation of Rs DBI interface using ODBC package as a\n",
      "    back-end. This allows R to connect to any DBMS that has a ODBC driver.\n",
      "CONTRIBUTED_TO: Shinichi Takayanagi, Nagi Teramo\n",
      "similar packages:rsyncrosim, odbc, dbglm\n",
      "\n",
      "Package Name: dbx year: 2021-01-17 Description: Provides select, insert, update, upsert, and delete database operations. Supports PostgreSQL, MySQL, SQLite, and more, and plays nicely with the DBI package.\n",
      "CONTRIBUTED_TO: Andrew Kane\n",
      "similar packages:rollbar, jetpack, moodleR\n",
      "\n"
     ]
    },
    {
     "data": {
      "text/plain": [
       "'The DBI package is maintained by the contributors Andrew Kane, Marc Suchard, Martijn Schuemie, PostgreSQL Global Development Group, Oracle Inc., Microsoft Inc., and Observational Health Data Science and Informatics.'"
      ]
     },
     "execution_count": 22,
     "metadata": {},
     "output_type": "execute_result"
    }
   ],
   "source": [
    "generate_answer(\"Who maintains DBI package?\")"
   ]
  }
 ],
 "metadata": {
  "kernelspec": {
   "display_name": "venv",
   "language": "python",
   "name": "python3"
  },
  "language_info": {
   "codemirror_mode": {
    "name": "ipython",
    "version": 3
   },
   "file_extension": ".py",
   "mimetype": "text/x-python",
   "name": "python",
   "nbconvert_exporter": "python",
   "pygments_lexer": "ipython3",
   "version": "3.11.4"
  }
 },
 "nbformat": 4,
 "nbformat_minor": 2
}
