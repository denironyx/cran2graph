{
 "cells": [
  {
   "cell_type": "code",
   "execution_count": 1,
   "metadata": {},
   "outputs": [
    {
     "ename": "ModuleNotFoundError",
     "evalue": "No module named 'graphtastic'",
     "output_type": "error",
     "traceback": [
      "\u001b[1;31m---------------------------------------------------------------------------\u001b[0m",
      "\u001b[1;31mModuleNotFoundError\u001b[0m                       Traceback (most recent call last)",
      "\u001b[1;32mc:\\Users\\Dee\\root\\Projects\\dev\\cran2graph\\scripts\\py\\neo4j.ipynb Cell 1\u001b[0m line \u001b[0;36m1\n\u001b[1;32m----> <a href='vscode-notebook-cell:/c%3A/Users/Dee/root/Projects/dev/cran2graph/scripts/py/neo4j.ipynb#W0sZmlsZQ%3D%3D?line=0'>1</a>\u001b[0m \u001b[39mfrom\u001b[39;00m \u001b[39mgraphtastic\u001b[39;00m\u001b[39m.\u001b[39;00m\u001b[39mdatabase\u001b[39;00m\u001b[39m.\u001b[39;00m\u001b[39mneo4j\u001b[39;00m \u001b[39mimport\u001b[39;00m Neo4jConnect\n\u001b[0;32m      <a href='vscode-notebook-cell:/c%3A/Users/Dee/root/Projects/dev/cran2graph/scripts/py/neo4j.ipynb#W0sZmlsZQ%3D%3D?line=2'>3</a>\u001b[0m connection \u001b[39m=\u001b[39m Neo4jConnect(\u001b[39m'\u001b[39m\u001b[39mbolt://localhost:7687\u001b[39m\u001b[39m'\u001b[39m, \u001b[39m'\u001b[39m\u001b[39madmin\u001b[39m\u001b[39m'\u001b[39m, \u001b[39m'\u001b[39m\u001b[39mcran2graph\u001b[39m\u001b[39m'\u001b[39m)\n\u001b[0;32m      <a href='vscode-notebook-cell:/c%3A/Users/Dee/root/Projects/dev/cran2graph/scripts/py/neo4j.ipynb#W0sZmlsZQ%3D%3D?line=4'>5</a>\u001b[0m node_query \u001b[39m=\u001b[39m \u001b[39m'\u001b[39m\u001b[39mMATCH (n:Person) RETURN n\u001b[39m\u001b[39m'\u001b[39m\n",
      "\u001b[1;31mModuleNotFoundError\u001b[0m: No module named 'graphtastic'"
     ]
    }
   ],
   "source": [
    "from graphtastic.database.neo4j import Neo4jConnect\n",
    "\n",
    "connection = Neo4jConnect('bolt://localhost:7687', 'admin', 'cran2graph')\n",
    "\n",
    "node_query = 'MATCH (n:Person) RETURN n'\n",
    "edge_query = 'MATCH () - [e:FOLLOWS] ->() RETURN e'\n",
    "\n",
    "node_result = connection.query(node_query).data()\n",
    "edge_result = connection.query(edge_query).data()"
   ]
  }
 ],
 "metadata": {
  "kernelspec": {
   "display_name": "venv",
   "language": "python",
   "name": "python3"
  },
  "language_info": {
   "codemirror_mode": {
    "name": "ipython",
    "version": 3
   },
   "file_extension": ".py",
   "mimetype": "text/x-python",
   "name": "python",
   "nbconvert_exporter": "python",
   "pygments_lexer": "ipython3",
   "version": "3.11.4"
  }
 },
 "nbformat": 4,
 "nbformat_minor": 2
}
