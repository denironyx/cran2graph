{
 "cells": [
  {
   "cell_type": "markdown",
   "metadata": {},
   "source": [
    "## Loading data into neo4j\n"
   ]
  },
  {
   "cell_type": "code",
   "execution_count": null,
   "metadata": {},
   "outputs": [],
   "source": [
    "from graphutils.utils import Neo4jConnect\n",
    "\n",
    "connection = Neo4jConnect('admin', 'cran2graph')\n",
    "\n",
    "# Create a constraint on 'Package' nodes based on the 'package' property\n",
    "constraint_package_query = \"CREATE CONSTRAINT IF NOT EXISTS FOR (p:Package) REQUIRE p.package IS UNIQUE\"\n",
    "\n",
    "# Create a constraint on 'Person' nodes based on the 'person' property\n",
    "constraint_person_query = \"CREATE CONSTRAINT IF NOT EXISTS FOR (a:Person) REQUIRE a.person IS UNIQUE\"\n",
    "\n",
    "# Create an index on the 'person' property of 'Person' nodes\n",
    "person_index_query = \"CREATE INDEX IF NOT EXISTS FOR :Person(person)\""
   ]
  },
  {
   "cell_type": "code",
   "execution_count": null,
   "metadata": {},
   "outputs": [],
   "source": [
    "from graphutils.utils import get_neo4j_connection\n",
    "db_session = get_neo4j_connection()\n",
    "\n",
    "# Create a constraint on 'Package' nodes based on the 'package' property\n",
    "constraint_package_query = \"CREATE CONSTRAINT IF NOT EXISTS FOR (p:Package) REQUIRE p.package IS UNIQUE\"\n",
    "\n",
    "# Create a constraint on 'Person' nodes based on the 'person' property\n",
    "constraint_person_query = \"CREATE CONSTRAINT IF NOT EXISTS FOR (a:Person) REQUIRE a.person IS UNIQUE\"\n",
    "\n",
    "# Create an index on the 'person' property of 'Person' nodes\n",
    "person_index_query = \"CREATE INDEX IF NOT EXISTS FOR :Person(person)\"\n",
    "\n",
    "constraints = [constraint_person_query, constraint_package_query, person_index_query]\n",
    "\n",
    "for constraint in constraints:\n",
    "    print(f\"Creating the constraints with: {constraint}\")\n",
    "    db_session.run(constraint)"
   ]
  },
  {
   "cell_type": "code",
   "execution_count": 1,
   "metadata": {},
   "outputs": [],
   "source": [
    "from graphutils.utils import Neo4jConnect\n",
    "\n",
    "connection = Neo4jConnect('admin', 'cran2graph')\n",
    "connection.clean_database()\n",
    "connection.close()"
   ]
  },
  {
   "cell_type": "code",
   "execution_count": 2,
   "metadata": {},
   "outputs": [],
   "source": []
  }
 ],
 "metadata": {
  "kernelspec": {
   "display_name": "venv",
   "language": "python",
   "name": "python3"
  },
  "language_info": {
   "codemirror_mode": {
    "name": "ipython",
    "version": 3
   },
   "file_extension": ".py",
   "mimetype": "text/x-python",
   "name": "python",
   "nbconvert_exporter": "python",
   "pygments_lexer": "ipython3",
   "version": "3.11.4"
  }
 },
 "nbformat": 4,
 "nbformat_minor": 2
}
